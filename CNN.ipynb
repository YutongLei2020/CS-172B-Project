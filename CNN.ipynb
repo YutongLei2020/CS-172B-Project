{
 "cells": [
  {
   "cell_type": "code",
   "execution_count": 8,
   "id": "02b8ffa7",
   "metadata": {},
   "outputs": [],
   "source": [
    "import torch\n",
    "import numpy as np\n",
    "import matplotlib.pyplot as plt\n",
    "import os\n",
    "import keras\n",
    "import tensorflow as tf\n",
    "from tensorflow.keras.models import load_model\n",
    "\n",
    "from keras.models import Sequential\n",
    "from keras.layers import Dense, Dropout, Activation, Input, Flatten, Conv2D, MaxPool2D\n",
    "from keras.utils import np_utils\n",
    "from keras.optimizers import Adam\n",
    "from keras.regularizers import l2\n",
    "\n",
    "import load_images"
   ]
  },
  {
   "cell_type": "code",
   "execution_count": 9,
   "id": "dd550272",
   "metadata": {},
   "outputs": [],
   "source": [
    "X_train, Y_train, X_validation, Y_validation, X_test, Y_test = load_images.getDataset()"
   ]
  },
  {
   "cell_type": "code",
   "execution_count": 151,
   "id": "8016cfc5",
   "metadata": {},
   "outputs": [
    {
     "name": "stdout",
     "output_type": "stream",
     "text": [
      "Model: \"sequential_14\"\n",
      "_________________________________________________________________\n",
      " Layer (type)                Output Shape              Param #   \n",
      "=================================================================\n",
      " conv2d_37 (Conv2D)          (None, 48, 48, 5)         50        \n",
      "                                                                 \n",
      " max_pooling2d_36 (MaxPoolin  (None, 24, 24, 5)        0         \n",
      " g2D)                                                            \n",
      "                                                                 \n",
      " conv2d_38 (Conv2D)          (None, 24, 24, 10)        460       \n",
      "                                                                 \n",
      " max_pooling2d_37 (MaxPoolin  (None, 12, 12, 10)       0         \n",
      " g2D)                                                            \n",
      "                                                                 \n",
      " conv2d_39 (Conv2D)          (None, 12, 12, 40)        3640      \n",
      "                                                                 \n",
      " max_pooling2d_38 (MaxPoolin  (None, 6, 6, 40)         0         \n",
      " g2D)                                                            \n",
      "                                                                 \n",
      " dropout_12 (Dropout)        (None, 6, 6, 40)          0         \n",
      "                                                                 \n",
      " flatten_12 (Flatten)        (None, 1440)              0         \n",
      "                                                                 \n",
      " dense_26 (Dense)            (None, 256)               368896    \n",
      "                                                                 \n",
      " dense_27 (Dense)            (None, 128)               32896     \n",
      "                                                                 \n",
      " dense_28 (Dense)            (None, 7)                 903       \n",
      "                                                                 \n",
      "=================================================================\n",
      "Total params: 406,845\n",
      "Trainable params: 406,845\n",
      "Non-trainable params: 0\n",
      "_________________________________________________________________\n"
     ]
    }
   ],
   "source": [
    "model = Sequential()\n",
    "model.add(Conv2D(5, 3,padding=\"same\", activation=\"relu\", input_shape=(48,48,1)))\n",
    "model.add(MaxPool2D())\n",
    "\n",
    "model.add(Conv2D(10, 3, padding=\"same\", activation=\"relu\"))\n",
    "model.add(MaxPool2D())\n",
    "\n",
    "model.add(Conv2D(40, 3, padding=\"same\", activation=\"relu\"))\n",
    "model.add(MaxPool2D())\n",
    "model.add(Dropout(0.4))\n",
    "\n",
    "model.add(Flatten())\n",
    "model.add(Dense(256,activation=\"relu\"))\n",
    "model.add(Dense(128,activation=\"relu\"))\n",
    "model.add(Dense(7, activation=\"softmax\"))\n",
    "\n",
    "model.summary()"
   ]
  },
  {
   "cell_type": "code",
   "execution_count": 152,
   "id": "72729a98",
   "metadata": {},
   "outputs": [],
   "source": [
    "model.compile(\n",
    "    loss = tf.keras.losses.SparseCategoricalCrossentropy(from_logits=False), \n",
    "    optimizer= Adam(learning_rate=0.001), \n",
    "    metrics=['accuracy']\n",
    ")\n",
    "callbacks = [\n",
    "    keras.callbacks.ModelCheckpoint(\n",
    "        filepath = 'models/CNN_model', \n",
    "        save_freq = 'epoch' ,\n",
    "        save_best_only = True\n",
    "    )\n",
    "]"
   ]
  },
  {
   "cell_type": "code",
   "execution_count": 157,
   "id": "be33a1ab",
   "metadata": {},
   "outputs": [
    {
     "name": "stdout",
     "output_type": "stream",
     "text": [
      "Epoch 1/10\n",
      "168/169 [============================>.] - ETA: 0s - loss: 1.2039 - accuracy: 0.5423"
     ]
    },
    {
     "name": "stderr",
     "output_type": "stream",
     "text": [
      "WARNING:absl:Found untraced functions such as _jit_compiled_convolution_op, _jit_compiled_convolution_op, _jit_compiled_convolution_op while saving (showing 3 of 3). These functions will not be directly callable after loading.\n"
     ]
    },
    {
     "name": "stdout",
     "output_type": "stream",
     "text": [
      "INFO:tensorflow:Assets written to: models\\CNN_model\\assets\n"
     ]
    },
    {
     "name": "stderr",
     "output_type": "stream",
     "text": [
      "INFO:tensorflow:Assets written to: models\\CNN_model\\assets\n"
     ]
    },
    {
     "name": "stdout",
     "output_type": "stream",
     "text": [
      "169/169 [==============================] - 11s 63ms/step - loss: 1.2040 - accuracy: 0.5421 - val_loss: 1.2490 - val_accuracy: 0.5201\n",
      "Epoch 2/10\n",
      "168/169 [============================>.] - ETA: 0s - loss: 1.1739 - accuracy: 0.5548"
     ]
    },
    {
     "name": "stderr",
     "output_type": "stream",
     "text": [
      "WARNING:absl:Found untraced functions such as _jit_compiled_convolution_op, _jit_compiled_convolution_op, _jit_compiled_convolution_op while saving (showing 3 of 3). These functions will not be directly callable after loading.\n"
     ]
    },
    {
     "name": "stdout",
     "output_type": "stream",
     "text": [
      "INFO:tensorflow:Assets written to: models\\CNN_model\\assets\n"
     ]
    },
    {
     "name": "stderr",
     "output_type": "stream",
     "text": [
      "INFO:tensorflow:Assets written to: models\\CNN_model\\assets\n"
     ]
    },
    {
     "name": "stdout",
     "output_type": "stream",
     "text": [
      "169/169 [==============================] - 11s 62ms/step - loss: 1.1740 - accuracy: 0.5549 - val_loss: 1.2348 - val_accuracy: 0.5295\n",
      "Epoch 3/10\n",
      "168/169 [============================>.] - ETA: 0s - loss: 1.1467 - accuracy: 0.5658"
     ]
    },
    {
     "name": "stderr",
     "output_type": "stream",
     "text": [
      "WARNING:absl:Found untraced functions such as _jit_compiled_convolution_op, _jit_compiled_convolution_op, _jit_compiled_convolution_op while saving (showing 3 of 3). These functions will not be directly callable after loading.\n"
     ]
    },
    {
     "name": "stdout",
     "output_type": "stream",
     "text": [
      "INFO:tensorflow:Assets written to: models\\CNN_model\\assets\n"
     ]
    },
    {
     "name": "stderr",
     "output_type": "stream",
     "text": [
      "INFO:tensorflow:Assets written to: models\\CNN_model\\assets\n"
     ]
    },
    {
     "name": "stdout",
     "output_type": "stream",
     "text": [
      "169/169 [==============================] - 11s 65ms/step - loss: 1.1466 - accuracy: 0.5659 - val_loss: 1.2304 - val_accuracy: 0.5281\n",
      "Epoch 4/10\n",
      "168/169 [============================>.] - ETA: 0s - loss: 1.1217 - accuracy: 0.5743"
     ]
    },
    {
     "name": "stderr",
     "output_type": "stream",
     "text": [
      "WARNING:absl:Found untraced functions such as _jit_compiled_convolution_op, _jit_compiled_convolution_op, _jit_compiled_convolution_op while saving (showing 3 of 3). These functions will not be directly callable after loading.\n"
     ]
    },
    {
     "name": "stdout",
     "output_type": "stream",
     "text": [
      "INFO:tensorflow:Assets written to: models\\CNN_model\\assets\n"
     ]
    },
    {
     "name": "stderr",
     "output_type": "stream",
     "text": [
      "INFO:tensorflow:Assets written to: models\\CNN_model\\assets\n"
     ]
    },
    {
     "name": "stdout",
     "output_type": "stream",
     "text": [
      "169/169 [==============================] - 12s 74ms/step - loss: 1.1219 - accuracy: 0.5742 - val_loss: 1.2176 - val_accuracy: 0.5330\n",
      "Epoch 5/10\n",
      "168/169 [============================>.] - ETA: 0s - loss: 1.0931 - accuracy: 0.5900"
     ]
    },
    {
     "name": "stderr",
     "output_type": "stream",
     "text": [
      "WARNING:absl:Found untraced functions such as _jit_compiled_convolution_op, _jit_compiled_convolution_op, _jit_compiled_convolution_op while saving (showing 3 of 3). These functions will not be directly callable after loading.\n"
     ]
    },
    {
     "name": "stdout",
     "output_type": "stream",
     "text": [
      "INFO:tensorflow:Assets written to: models\\CNN_model\\assets\n"
     ]
    },
    {
     "name": "stderr",
     "output_type": "stream",
     "text": [
      "INFO:tensorflow:Assets written to: models\\CNN_model\\assets\n"
     ]
    },
    {
     "name": "stdout",
     "output_type": "stream",
     "text": [
      "169/169 [==============================] - 12s 69ms/step - loss: 1.0929 - accuracy: 0.5901 - val_loss: 1.2119 - val_accuracy: 0.5336\n",
      "Epoch 6/10\n",
      "168/169 [============================>.] - ETA: 0s - loss: 1.0729 - accuracy: 0.5976"
     ]
    },
    {
     "name": "stderr",
     "output_type": "stream",
     "text": [
      "WARNING:absl:Found untraced functions such as _jit_compiled_convolution_op, _jit_compiled_convolution_op, _jit_compiled_convolution_op while saving (showing 3 of 3). These functions will not be directly callable after loading.\n"
     ]
    },
    {
     "name": "stdout",
     "output_type": "stream",
     "text": [
      "INFO:tensorflow:Assets written to: models\\CNN_model\\assets\n"
     ]
    },
    {
     "name": "stderr",
     "output_type": "stream",
     "text": [
      "INFO:tensorflow:Assets written to: models\\CNN_model\\assets\n"
     ]
    },
    {
     "name": "stdout",
     "output_type": "stream",
     "text": [
      "169/169 [==============================] - 12s 73ms/step - loss: 1.0730 - accuracy: 0.5976 - val_loss: 1.2068 - val_accuracy: 0.5381\n",
      "Epoch 7/10\n",
      "169/169 [==============================] - 11s 64ms/step - loss: 1.0309 - accuracy: 0.6126 - val_loss: 1.2295 - val_accuracy: 0.5336\n",
      "Epoch 8/10\n",
      "169/169 [==============================] - 11s 64ms/step - loss: 1.0101 - accuracy: 0.6226 - val_loss: 1.2238 - val_accuracy: 0.5378\n",
      "Epoch 9/10\n",
      "169/169 [==============================] - 11s 68ms/step - loss: 0.9751 - accuracy: 0.6390 - val_loss: 1.2149 - val_accuracy: 0.5401\n",
      "Epoch 10/10\n",
      "169/169 [==============================] - 11s 63ms/step - loss: 0.9532 - accuracy: 0.6439 - val_loss: 1.2171 - val_accuracy: 0.5396\n"
     ]
    }
   ],
   "source": [
    "history = model.fit(X_train, Y_train,batch_size=128,epochs=10, validation_data=(X_validation, Y_validation),callbacks = callbacks)\n"
   ]
  },
  {
   "cell_type": "code",
   "execution_count": 158,
   "id": "5e96d730",
   "metadata": {},
   "outputs": [
    {
     "data": {
      "image/png": "[encoded data removed]",
      "text/plain": [
       "<Figure size 1080x1080 with 2 Axes>"
      ]
     },
     "metadata": {
      "needs_background": "light"
     },
     "output_type": "display_data"
    }
   ],
   "source": [
    "acc = history.history['accuracy']\n",
    "val_acc = history.history['val_accuracy']\n",
    "loss = history.history['loss']\n",
    "val_loss = history.history['val_loss']\n",
    "\n",
    "epochs_range = range(10)\n",
    "\n",
    "plt.figure(figsize=(15, 15))\n",
    "plt.subplot(2, 2, 1)\n",
    "plt.plot(epochs_range, acc, label='Training Accuracy')\n",
    "plt.plot(epochs_range, val_acc, label='Validation Accuracy')\n",
    "plt.legend(loc='lower right')\n",
    "plt.title('Training and Validation Accuracy')\n",
    "\n",
    "plt.subplot(2, 2, 2)\n",
    "plt.plot(epochs_range, loss, label='Training Loss')\n",
    "plt.plot(epochs_range, val_loss, label='Validation Loss')\n",
    "plt.legend(loc='upper right')\n",
    "plt.title('Training and Validation Loss')\n",
    "plt.show()"
   ]
  },
  {
   "cell_type": "code",
   "execution_count": 159,
   "id": "28211271",
   "metadata": {},
   "outputs": [
    {
     "name": "stdout",
     "output_type": "stream",
     "text": [
      "225/225 [==============================] - 1s 6ms/step\n"
     ]
    }
   ],
   "source": [
    "# best model prediction on test data\n",
    "#del(model)\n",
    "model = load_model('models/CNN_model')\n",
    "prediction = model.predict(X_test) # for each datapoint, gives a (1,7) vector contains probabilities"
   ]
  },
  {
   "cell_type": "code",
   "execution_count": 160,
   "id": "e692c08d",
   "metadata": {},
   "outputs": [
    {
     "name": "stdout",
     "output_type": "stream",
     "text": [
      "The accuracy on test data is:  0.5380328782390638\n"
     ]
    }
   ],
   "source": [
    "Y_prediction = np.argmax(prediction,axis = 1) # get the index(label) of highest probability for each \n",
    "prediction_accuracy = np.mean(Y_prediction==Y_test)\n",
    "print(\"The accuracy on test data is: \", prediction_accuracy)"
   ]
  },
  {
   "cell_type": "code",
   "execution_count": null,
   "id": "9a43588c",
   "metadata": {},
   "outputs": [],
   "source": []
  }
 ],
 "metadata": {
  "kernelspec": {
   "display_name": "Python 3",
   "language": "python",
   "name": "python3"
  },
  "language_info": {
   "codemirror_mode": {
    "name": "ipython",
    "version": 3
   },
   "file_extension": ".py",
   "mimetype": "text/x-python",
   "name": "python",
   "nbconvert_exporter": "python",
   "pygments_lexer": "ipython3",
   "version": "3.9.4"
  }
 },
 "nbformat": 4,
 "nbformat_minor": 5
}
