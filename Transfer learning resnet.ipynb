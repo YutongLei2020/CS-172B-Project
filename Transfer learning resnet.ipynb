{
 "cells": [
  {
   "cell_type": "code",
   "execution_count": 1,
   "id": "cdda42b5",
   "metadata": {},
   "outputs": [],
   "source": [
    "import torch\n",
    "import numpy as np\n",
    "import matplotlib.pyplot as plt\n",
    "import os\n",
    "# gpuid = 0 # An index of which gpu to use. \n",
    "# os.environ['KERAS_BACKEND'] = 'tensorflow'\n",
    "# os.environ['CUDA_VISIBLE_DEVICES'] = \"{}\".format(gpuid) # (Empty) List of gpu indices that TF can see.\n",
    "from keras import backend as K\n",
    "import keras\n",
    "import tensorflow as tf\n",
    "from tensorflow.keras.models import load_model\n",
    "\n",
    "from keras.models import Sequential\n",
    "from keras.layers import Dense, Dropout, Activation, Input, Flatten, Conv2D, MaxPool2D, BatchNormalization\n",
    "from keras.utils import np_utils\n",
    "from keras.optimizers import Adam\n",
    "from keras.regularizers import l2\n",
    "import load_images"
   ]
  },
  {
   "cell_type": "code",
   "execution_count": 2,
   "id": "966eabbd",
   "metadata": {},
   "outputs": [],
   "source": [
    "#loading data\n",
    "X_train, Y_train, X_validation, Y_validation, X_test, Y_test = load_images.getRGBDataset()"
   ]
  },
  {
   "cell_type": "code",
   "execution_count": 35,
   "id": "b94def22",
   "metadata": {},
   "outputs": [
    {
     "name": "stdout",
     "output_type": "stream",
     "text": [
      "0 input_6 - True\n",
      "1 conv1_pad - True\n",
      "2 conv1_conv - True\n",
      "3 pool1_pad - True\n",
      "4 pool1_pool - True\n",
      "5 conv2_block1_preact_bn - True\n",
      "6 conv2_block1_preact_relu - True\n",
      "7 conv2_block1_1_conv - True\n",
      "8 conv2_block1_1_bn - True\n",
      "9 conv2_block1_1_relu - True\n",
      "10 conv2_block1_2_pad - True\n",
      "11 conv2_block1_2_conv - True\n",
      "12 conv2_block1_2_bn - True\n",
      "13 conv2_block1_2_relu - True\n",
      "14 conv2_block1_0_conv - True\n",
      "15 conv2_block1_3_conv - True\n",
      "16 conv2_block1_out - True\n",
      "17 conv2_block2_preact_bn - True\n",
      "18 conv2_block2_preact_relu - True\n",
      "19 conv2_block2_1_conv - True\n",
      "20 conv2_block2_1_bn - True\n",
      "21 conv2_block2_1_relu - True\n",
      "22 conv2_block2_2_pad - True\n",
      "23 conv2_block2_2_conv - True\n",
      "24 conv2_block2_2_bn - True\n",
      "25 conv2_block2_2_relu - True\n",
      "26 conv2_block2_3_conv - True\n",
      "27 conv2_block2_out - True\n",
      "28 conv2_block3_preact_bn - True\n",
      "29 conv2_block3_preact_relu - True\n",
      "30 conv2_block3_1_conv - True\n",
      "31 conv2_block3_1_bn - True\n",
      "32 conv2_block3_1_relu - True\n",
      "33 conv2_block3_2_pad - True\n",
      "34 conv2_block3_2_conv - True\n",
      "35 conv2_block3_2_bn - True\n",
      "36 conv2_block3_2_relu - True\n",
      "37 max_pooling2d_15 - True\n",
      "38 conv2_block3_3_conv - True\n",
      "39 conv2_block3_out - True\n",
      "40 conv3_block1_preact_bn - True\n",
      "41 conv3_block1_preact_relu - True\n",
      "42 conv3_block1_1_conv - True\n",
      "43 conv3_block1_1_bn - True\n",
      "44 conv3_block1_1_relu - True\n",
      "45 conv3_block1_2_pad - True\n",
      "46 conv3_block1_2_conv - True\n",
      "47 conv3_block1_2_bn - True\n",
      "48 conv3_block1_2_relu - True\n",
      "49 conv3_block1_0_conv - True\n",
      "50 conv3_block1_3_conv - True\n",
      "51 conv3_block1_out - True\n",
      "52 conv3_block2_preact_bn - True\n",
      "53 conv3_block2_preact_relu - True\n",
      "54 conv3_block2_1_conv - True\n",
      "55 conv3_block2_1_bn - True\n",
      "56 conv3_block2_1_relu - True\n",
      "57 conv3_block2_2_pad - True\n",
      "58 conv3_block2_2_conv - True\n",
      "59 conv3_block2_2_bn - True\n",
      "60 conv3_block2_2_relu - True\n",
      "61 conv3_block2_3_conv - True\n",
      "62 conv3_block2_out - True\n",
      "63 conv3_block3_preact_bn - True\n",
      "64 conv3_block3_preact_relu - True\n",
      "65 conv3_block3_1_conv - True\n",
      "66 conv3_block3_1_bn - True\n",
      "67 conv3_block3_1_relu - True\n",
      "68 conv3_block3_2_pad - True\n",
      "69 conv3_block3_2_conv - True\n",
      "70 conv3_block3_2_bn - True\n",
      "71 conv3_block3_2_relu - True\n",
      "72 conv3_block3_3_conv - True\n",
      "73 conv3_block3_out - True\n",
      "74 conv3_block4_preact_bn - True\n",
      "75 conv3_block4_preact_relu - True\n",
      "76 conv3_block4_1_conv - True\n",
      "77 conv3_block4_1_bn - True\n",
      "78 conv3_block4_1_relu - True\n",
      "79 conv3_block4_2_pad - True\n",
      "80 conv3_block4_2_conv - True\n",
      "81 conv3_block4_2_bn - True\n",
      "82 conv3_block4_2_relu - True\n",
      "83 max_pooling2d_16 - True\n",
      "84 conv3_block4_3_conv - True\n",
      "85 conv3_block4_out - True\n",
      "86 conv4_block1_preact_bn - True\n",
      "87 conv4_block1_preact_relu - True\n",
      "88 conv4_block1_1_conv - True\n",
      "89 conv4_block1_1_bn - True\n",
      "90 conv4_block1_1_relu - True\n",
      "91 conv4_block1_2_pad - True\n",
      "92 conv4_block1_2_conv - True\n",
      "93 conv4_block1_2_bn - True\n",
      "94 conv4_block1_2_relu - True\n",
      "95 conv4_block1_0_conv - True\n",
      "96 conv4_block1_3_conv - True\n",
      "97 conv4_block1_out - True\n",
      "98 conv4_block2_preact_bn - True\n",
      "99 conv4_block2_preact_relu - True\n",
      "100 conv4_block2_1_conv - True\n",
      "101 conv4_block2_1_bn - True\n",
      "102 conv4_block2_1_relu - True\n",
      "103 conv4_block2_2_pad - True\n",
      "104 conv4_block2_2_conv - True\n",
      "105 conv4_block2_2_bn - True\n",
      "106 conv4_block2_2_relu - True\n",
      "107 conv4_block2_3_conv - True\n",
      "108 conv4_block2_out - True\n",
      "109 conv4_block3_preact_bn - True\n",
      "110 conv4_block3_preact_relu - True\n",
      "111 conv4_block3_1_conv - True\n",
      "112 conv4_block3_1_bn - True\n",
      "113 conv4_block3_1_relu - True\n",
      "114 conv4_block3_2_pad - True\n",
      "115 conv4_block3_2_conv - True\n",
      "116 conv4_block3_2_bn - True\n",
      "117 conv4_block3_2_relu - True\n",
      "118 conv4_block3_3_conv - True\n",
      "119 conv4_block3_out - True\n",
      "120 conv4_block4_preact_bn - True\n",
      "121 conv4_block4_preact_relu - True\n",
      "122 conv4_block4_1_conv - True\n",
      "123 conv4_block4_1_bn - True\n",
      "124 conv4_block4_1_relu - True\n",
      "125 conv4_block4_2_pad - True\n",
      "126 conv4_block4_2_conv - True\n",
      "127 conv4_block4_2_bn - True\n",
      "128 conv4_block4_2_relu - True\n",
      "129 conv4_block4_3_conv - True\n",
      "130 conv4_block4_out - True\n",
      "131 conv4_block5_preact_bn - True\n",
      "132 conv4_block5_preact_relu - True\n",
      "133 conv4_block5_1_conv - True\n",
      "134 conv4_block5_1_bn - True\n",
      "135 conv4_block5_1_relu - True\n",
      "136 conv4_block5_2_pad - True\n",
      "137 conv4_block5_2_conv - True\n",
      "138 conv4_block5_2_bn - True\n",
      "139 conv4_block5_2_relu - True\n",
      "140 conv4_block5_3_conv - True\n",
      "141 conv4_block5_out - True\n",
      "142 conv4_block6_preact_bn - True\n",
      "143 conv4_block6_preact_relu - True\n",
      "144 conv4_block6_1_conv - True\n",
      "145 conv4_block6_1_bn - True\n",
      "146 conv4_block6_1_relu - True\n",
      "147 conv4_block6_2_pad - True\n",
      "148 conv4_block6_2_conv - True\n",
      "149 conv4_block6_2_bn - True\n",
      "150 conv4_block6_2_relu - True\n",
      "151 max_pooling2d_17 - True\n",
      "152 conv4_block6_3_conv - True\n",
      "153 conv4_block6_out - True\n",
      "154 conv5_block1_preact_bn - True\n",
      "155 conv5_block1_preact_relu - True\n",
      "156 conv5_block1_1_conv - True\n",
      "157 conv5_block1_1_bn - True\n",
      "158 conv5_block1_1_relu - True\n",
      "159 conv5_block1_2_pad - True\n",
      "160 conv5_block1_2_conv - True\n",
      "161 conv5_block1_2_bn - True\n",
      "162 conv5_block1_2_relu - True\n",
      "163 conv5_block1_0_conv - True\n",
      "164 conv5_block1_3_conv - True\n",
      "165 conv5_block1_out - True\n",
      "166 conv5_block2_preact_bn - True\n",
      "167 conv5_block2_preact_relu - True\n",
      "168 conv5_block2_1_conv - True\n",
      "169 conv5_block2_1_bn - True\n",
      "170 conv5_block2_1_relu - True\n",
      "171 conv5_block2_2_pad - True\n",
      "172 conv5_block2_2_conv - True\n",
      "173 conv5_block2_2_bn - True\n",
      "174 conv5_block2_2_relu - True\n",
      "175 conv5_block2_3_conv - True\n",
      "176 conv5_block2_out - True\n",
      "177 conv5_block3_preact_bn - True\n",
      "178 conv5_block3_preact_relu - True\n",
      "179 conv5_block3_1_conv - True\n",
      "180 conv5_block3_1_bn - True\n",
      "181 conv5_block3_1_relu - True\n",
      "182 conv5_block3_2_pad - True\n",
      "183 conv5_block3_2_conv - True\n",
      "184 conv5_block3_2_bn - True\n",
      "185 conv5_block3_2_relu - True\n",
      "186 conv5_block3_3_conv - True\n",
      "187 conv5_block3_out - True\n",
      "188 post_bn - True\n",
      "189 post_relu - True\n"
     ]
    }
   ],
   "source": [
    "base_model = tf.keras.applications.ResNet50V2(\n",
    "    weights='imagenet',  # Load weights pre-trained on ImageNet.\n",
    "    input_shape=(48, 48, 3),\n",
    "    include_top=False)\n",
    "# print(len(base_model.layers)) # 190 layers\n",
    "# only freeze 0-178 layers\n",
    "# for layer in base_model.layers[:152]:\n",
    "#     layer.trainable = False\n",
    "\n",
    "for i,layer in enumerate(base_model.layers):\n",
    "    print(i,layer.name,'-',layer.trainable)"
   ]
  },
  {
   "cell_type": "code",
   "execution_count": 36,
   "id": "56476962",
   "metadata": {},
   "outputs": [
    {
     "name": "stdout",
     "output_type": "stream",
     "text": [
      "Model: \"sequential_5\"\n",
      "_________________________________________________________________\n",
      " Layer (type)                Output Shape              Param #   \n",
      "=================================================================\n",
      " resnet50v2 (Functional)     (None, 2, 2, 2048)        23564800  \n",
      "                                                                 \n",
      " flatten_5 (Flatten)         (None, 8192)              0         \n",
      "                                                                 \n",
      " batch_normalization_23 (Bat  (None, 8192)             32768     \n",
      " chNormalization)                                                \n",
      "                                                                 \n",
      " dense_23 (Dense)            (None, 1024)              8389632   \n",
      "                                                                 \n",
      " dropout_18 (Dropout)        (None, 1024)              0         \n",
      "                                                                 \n",
      " batch_normalization_24 (Bat  (None, 1024)             4096      \n",
      " chNormalization)                                                \n",
      "                                                                 \n",
      " dense_24 (Dense)            (None, 256)               262400    \n",
      "                                                                 \n",
      " dropout_19 (Dropout)        (None, 256)               0         \n",
      "                                                                 \n",
      " batch_normalization_25 (Bat  (None, 256)              1024      \n",
      " chNormalization)                                                \n",
      "                                                                 \n",
      " dense_25 (Dense)            (None, 128)               32896     \n",
      "                                                                 \n",
      " dropout_20 (Dropout)        (None, 128)               0         \n",
      "                                                                 \n",
      " batch_normalization_26 (Bat  (None, 128)              512       \n",
      " chNormalization)                                                \n",
      "                                                                 \n",
      " dense_26 (Dense)            (None, 64)                8256      \n",
      "                                                                 \n",
      " dropout_21 (Dropout)        (None, 64)                0         \n",
      "                                                                 \n",
      " batch_normalization_27 (Bat  (None, 64)               256       \n",
      " chNormalization)                                                \n",
      "                                                                 \n",
      " dense_27 (Dense)            (None, 7)                 455       \n",
      "                                                                 \n",
      "=================================================================\n",
      "Total params: 32,297,095\n",
      "Trainable params: 32,232,327\n",
      "Non-trainable params: 64,768\n",
      "_________________________________________________________________\n"
     ]
    }
   ],
   "source": [
    "model = Sequential()\n",
    "model.add(base_model)\n",
    "\n",
    "model.add(Flatten())\n",
    "model.add(BatchNormalization())\n",
    "\n",
    "model.add(Dense(1024,activation=\"relu\"))\n",
    "model.add(Dropout(0.4))\n",
    "model.add(BatchNormalization())\n",
    "\n",
    "model.add(Dense(256,activation=\"relu\"))\n",
    "model.add(Dropout(0.4))\n",
    "model.add(BatchNormalization())\n",
    "\n",
    "model.add(Dense(128,activation=\"relu\"))\n",
    "model.add(Dropout(0.4))\n",
    "model.add(BatchNormalization())\n",
    "\n",
    "model.add(Dense(64,activation=\"relu\"))\n",
    "model.add(Dropout(0.4))\n",
    "model.add(BatchNormalization())\n",
    "\n",
    "model.add(Dense(7, activation=\"softmax\"))\n",
    "\n",
    "model.summary()"
   ]
  },
  {
   "cell_type": "code",
   "execution_count": 49,
   "id": "da991c70",
   "metadata": {},
   "outputs": [],
   "source": [
    "model.compile(\n",
    "    loss = tf.keras.losses.SparseCategoricalCrossentropy(from_logits=False), \n",
    "    optimizer= Adam(learning_rate=0.00000001), \n",
    "    metrics=['accuracy']\n",
    ")\n",
    "callbacks = [\n",
    "    keras.callbacks.ModelCheckpoint(\n",
    "        filepath = 'models/resnet_CNN_model', \n",
    "        save_freq = 'epoch' ,\n",
    "        save_best_only = True,\n",
    "        monitor = 'val_accuracy',\n",
    "        mode ='max'\n",
    "    )\n",
    "]\n"
   ]
  },
  {
   "cell_type": "code",
   "execution_count": 50,
   "id": "7e33ce0a",
   "metadata": {},
   "outputs": [
    {
     "name": "stdout",
     "output_type": "stream",
     "text": [
      "Epoch 1/20\n",
      "85/85 [==============================] - ETA: 0s - loss: 0.6232 - accuracy: 0.7992 "
     ]
    },
    {
     "name": "stderr",
     "output_type": "stream",
     "text": [
      "WARNING:absl:Found untraced functions such as _jit_compiled_convolution_op, _jit_compiled_convolution_op, _jit_compiled_convolution_op, _jit_compiled_convolution_op, _jit_compiled_convolution_op while saving (showing 5 of 53). These functions will not be directly callable after loading.\n"
     ]
    },
    {
     "name": "stdout",
     "output_type": "stream",
     "text": [
      "INFO:tensorflow:Assets written to: models\\resnet_CNN_model\\assets\n"
     ]
    },
    {
     "name": "stderr",
     "output_type": "stream",
     "text": [
      "INFO:tensorflow:Assets written to: models\\resnet_CNN_model\\assets\n"
     ]
    },
    {
     "name": "stdout",
     "output_type": "stream",
     "text": [
      "85/85 [==============================] - 1353s 16s/step - loss: 0.6232 - accuracy: 0.7992 - val_loss: 1.3039 - val_accuracy: 0.5518\n",
      "Epoch 2/20\n",
      "85/85 [==============================] - 1465s 17s/step - loss: 0.6243 - accuracy: 0.7983 - val_loss: 1.3133 - val_accuracy: 0.5518\n",
      "Epoch 3/20\n",
      "85/85 [==============================] - 1979s 23s/step - loss: 0.6229 - accuracy: 0.7975 - val_loss: 1.3087 - val_accuracy: 0.5516\n",
      "Epoch 4/20\n",
      "85/85 [==============================] - 2119s 25s/step - loss: 0.6232 - accuracy: 0.7977 - val_loss: 1.3087 - val_accuracy: 0.5516\n",
      "Epoch 5/20\n",
      "85/85 [==============================] - ETA: 0s - loss: 0.6250 - accuracy: 0.7976 "
     ]
    },
    {
     "name": "stderr",
     "output_type": "stream",
     "text": [
      "WARNING:absl:Found untraced functions such as _jit_compiled_convolution_op, _jit_compiled_convolution_op, _jit_compiled_convolution_op, _jit_compiled_convolution_op, _jit_compiled_convolution_op while saving (showing 5 of 53). These functions will not be directly callable after loading.\n"
     ]
    },
    {
     "name": "stdout",
     "output_type": "stream",
     "text": [
      "INFO:tensorflow:Assets written to: models\\resnet_CNN_model\\assets\n"
     ]
    },
    {
     "name": "stderr",
     "output_type": "stream",
     "text": [
      "INFO:tensorflow:Assets written to: models\\resnet_CNN_model\\assets\n"
     ]
    },
    {
     "name": "stdout",
     "output_type": "stream",
     "text": [
      "85/85 [==============================] - 2135s 25s/step - loss: 0.6250 - accuracy: 0.7976 - val_loss: 1.3088 - val_accuracy: 0.5522\n",
      "Epoch 6/20\n",
      "85/85 [==============================] - 2152s 25s/step - loss: 0.6202 - accuracy: 0.7993 - val_loss: 1.3078 - val_accuracy: 0.5519\n",
      "Epoch 7/20\n",
      "85/85 [==============================] - ETA: 0s - loss: 0.6201 - accuracy: 0.7983 "
     ]
    },
    {
     "name": "stderr",
     "output_type": "stream",
     "text": [
      "WARNING:absl:Found untraced functions such as _jit_compiled_convolution_op, _jit_compiled_convolution_op, _jit_compiled_convolution_op, _jit_compiled_convolution_op, _jit_compiled_convolution_op while saving (showing 5 of 53). These functions will not be directly callable after loading.\n"
     ]
    },
    {
     "name": "stdout",
     "output_type": "stream",
     "text": [
      "INFO:tensorflow:Assets written to: models\\resnet_CNN_model\\assets\n"
     ]
    },
    {
     "name": "stderr",
     "output_type": "stream",
     "text": [
      "INFO:tensorflow:Assets written to: models\\resnet_CNN_model\\assets\n"
     ]
    },
    {
     "name": "stdout",
     "output_type": "stream",
     "text": [
      "85/85 [==============================] - 2160s 25s/step - loss: 0.6201 - accuracy: 0.7983 - val_loss: 1.3092 - val_accuracy: 0.5527\n",
      "Epoch 8/20\n",
      "85/85 [==============================] - 2133s 25s/step - loss: 0.6224 - accuracy: 0.7979 - val_loss: 1.3089 - val_accuracy: 0.5513\n",
      "Epoch 9/20\n",
      "85/85 [==============================] - 2150s 25s/step - loss: 0.6234 - accuracy: 0.7988 - val_loss: 1.3107 - val_accuracy: 0.5512\n",
      "Epoch 10/20\n",
      "85/85 [==============================] - 2148s 25s/step - loss: 0.6192 - accuracy: 0.8006 - val_loss: 1.3062 - val_accuracy: 0.5518\n",
      "Epoch 11/20\n",
      "85/85 [==============================] - 2042s 24s/step - loss: 0.6231 - accuracy: 0.7975 - val_loss: 1.3075 - val_accuracy: 0.5509\n",
      "Epoch 12/20\n",
      "85/85 [==============================] - 1537s 18s/step - loss: 0.6224 - accuracy: 0.7956 - val_loss: 1.3060 - val_accuracy: 0.5518\n",
      "Epoch 13/20\n",
      "85/85 [==============================] - 1472s 17s/step - loss: 0.6204 - accuracy: 0.8000 - val_loss: 1.3066 - val_accuracy: 0.5516\n",
      "Epoch 14/20\n",
      "85/85 [==============================] - 1476s 17s/step - loss: 0.6208 - accuracy: 0.8000 - val_loss: 1.3095 - val_accuracy: 0.5512\n",
      "Epoch 15/20\n",
      "23/85 [=======>......................] - ETA: 17:16 - loss: 0.6289 - accuracy: 0.7998"
     ]
    },
    {
     "ename": "KeyboardInterrupt",
     "evalue": "",
     "output_type": "error",
     "traceback": [
      "\u001b[1;31m---------------------------------------------------------------------------\u001b[0m",
      "\u001b[1;31mKeyboardInterrupt\u001b[0m                         Traceback (most recent call last)",
      "Cell \u001b[1;32mIn[50], line 1\u001b[0m\n\u001b[1;32m----> 1\u001b[0m history \u001b[38;5;241m=\u001b[39m \u001b[43mmodel\u001b[49m\u001b[38;5;241;43m.\u001b[39;49m\u001b[43mfit\u001b[49m\u001b[43m(\u001b[49m\u001b[43mX_train\u001b[49m\u001b[43m,\u001b[49m\u001b[43m \u001b[49m\u001b[43mY_train\u001b[49m\u001b[43m,\u001b[49m\u001b[43mbatch_size\u001b[49m\u001b[38;5;241;43m=\u001b[39;49m\u001b[43m \u001b[49m\u001b[38;5;241;43m256\u001b[39;49m\u001b[43m,\u001b[49m\n\u001b[0;32m      2\u001b[0m \u001b[43m                    \u001b[49m\u001b[43mepochs\u001b[49m\u001b[38;5;241;43m=\u001b[39;49m\u001b[38;5;241;43m20\u001b[39;49m\u001b[43m,\u001b[49m\u001b[43mverbose\u001b[49m\u001b[38;5;241;43m=\u001b[39;49m\u001b[38;5;241;43m1\u001b[39;49m\u001b[43m,\u001b[49m\u001b[43m \u001b[49m\u001b[43mvalidation_data\u001b[49m\u001b[38;5;241;43m=\u001b[39;49m\u001b[43m(\u001b[49m\u001b[43mX_validation\u001b[49m\u001b[43m,\u001b[49m\u001b[43m \u001b[49m\u001b[43mY_validation\u001b[49m\u001b[43m)\u001b[49m\u001b[43m,\u001b[49m\u001b[43mcallbacks\u001b[49m\u001b[43m \u001b[49m\u001b[38;5;241;43m=\u001b[39;49m\u001b[43m \u001b[49m\u001b[43mcallbacks\u001b[49m\u001b[43m)\u001b[49m\n",
      "File \u001b[1;32mC:\\Miniconda\\envs\\cs179\\lib\\site-packages\\keras\\utils\\traceback_utils.py:65\u001b[0m, in \u001b[0;36mfilter_traceback.<locals>.error_handler\u001b[1;34m(*args, **kwargs)\u001b[0m\n\u001b[0;32m     63\u001b[0m filtered_tb \u001b[38;5;241m=\u001b[39m \u001b[38;5;28;01mNone\u001b[39;00m\n\u001b[0;32m     64\u001b[0m \u001b[38;5;28;01mtry\u001b[39;00m:\n\u001b[1;32m---> 65\u001b[0m     \u001b[38;5;28;01mreturn\u001b[39;00m fn(\u001b[38;5;241m*\u001b[39margs, \u001b[38;5;241m*\u001b[39m\u001b[38;5;241m*\u001b[39mkwargs)\n\u001b[0;32m     66\u001b[0m \u001b[38;5;28;01mexcept\u001b[39;00m \u001b[38;5;167;01mException\u001b[39;00m \u001b[38;5;28;01mas\u001b[39;00m e:\n\u001b[0;32m     67\u001b[0m     filtered_tb \u001b[38;5;241m=\u001b[39m _process_traceback_frames(e\u001b[38;5;241m.\u001b[39m__traceback__)\n",
      "File \u001b[1;32mC:\\Miniconda\\envs\\cs179\\lib\\site-packages\\keras\\engine\\training.py:1685\u001b[0m, in \u001b[0;36mModel.fit\u001b[1;34m(self, x, y, batch_size, epochs, verbose, callbacks, validation_split, validation_data, shuffle, class_weight, sample_weight, initial_epoch, steps_per_epoch, validation_steps, validation_batch_size, validation_freq, max_queue_size, workers, use_multiprocessing)\u001b[0m\n\u001b[0;32m   1677\u001b[0m \u001b[38;5;28;01mwith\u001b[39;00m tf\u001b[38;5;241m.\u001b[39mprofiler\u001b[38;5;241m.\u001b[39mexperimental\u001b[38;5;241m.\u001b[39mTrace(\n\u001b[0;32m   1678\u001b[0m     \u001b[38;5;124m\"\u001b[39m\u001b[38;5;124mtrain\u001b[39m\u001b[38;5;124m\"\u001b[39m,\n\u001b[0;32m   1679\u001b[0m     epoch_num\u001b[38;5;241m=\u001b[39mepoch,\n\u001b[1;32m   (...)\u001b[0m\n\u001b[0;32m   1682\u001b[0m     _r\u001b[38;5;241m=\u001b[39m\u001b[38;5;241m1\u001b[39m,\n\u001b[0;32m   1683\u001b[0m ):\n\u001b[0;32m   1684\u001b[0m     callbacks\u001b[38;5;241m.\u001b[39mon_train_batch_begin(step)\n\u001b[1;32m-> 1685\u001b[0m     tmp_logs \u001b[38;5;241m=\u001b[39m \u001b[38;5;28;43mself\u001b[39;49m\u001b[38;5;241;43m.\u001b[39;49m\u001b[43mtrain_function\u001b[49m\u001b[43m(\u001b[49m\u001b[43miterator\u001b[49m\u001b[43m)\u001b[49m\n\u001b[0;32m   1686\u001b[0m     \u001b[38;5;28;01mif\u001b[39;00m data_handler\u001b[38;5;241m.\u001b[39mshould_sync:\n\u001b[0;32m   1687\u001b[0m         context\u001b[38;5;241m.\u001b[39masync_wait()\n",
      "File \u001b[1;32mC:\\Miniconda\\envs\\cs179\\lib\\site-packages\\tensorflow\\python\\util\\traceback_utils.py:150\u001b[0m, in \u001b[0;36mfilter_traceback.<locals>.error_handler\u001b[1;34m(*args, **kwargs)\u001b[0m\n\u001b[0;32m    148\u001b[0m filtered_tb \u001b[38;5;241m=\u001b[39m \u001b[38;5;28;01mNone\u001b[39;00m\n\u001b[0;32m    149\u001b[0m \u001b[38;5;28;01mtry\u001b[39;00m:\n\u001b[1;32m--> 150\u001b[0m   \u001b[38;5;28;01mreturn\u001b[39;00m fn(\u001b[38;5;241m*\u001b[39margs, \u001b[38;5;241m*\u001b[39m\u001b[38;5;241m*\u001b[39mkwargs)\n\u001b[0;32m    151\u001b[0m \u001b[38;5;28;01mexcept\u001b[39;00m \u001b[38;5;167;01mException\u001b[39;00m \u001b[38;5;28;01mas\u001b[39;00m e:\n\u001b[0;32m    152\u001b[0m   filtered_tb \u001b[38;5;241m=\u001b[39m _process_traceback_frames(e\u001b[38;5;241m.\u001b[39m__traceback__)\n",
      "File \u001b[1;32mC:\\Miniconda\\envs\\cs179\\lib\\site-packages\\tensorflow\\python\\eager\\polymorphic_function\\polymorphic_function.py:894\u001b[0m, in \u001b[0;36mFunction.__call__\u001b[1;34m(self, *args, **kwds)\u001b[0m\n\u001b[0;32m    891\u001b[0m compiler \u001b[38;5;241m=\u001b[39m \u001b[38;5;124m\"\u001b[39m\u001b[38;5;124mxla\u001b[39m\u001b[38;5;124m\"\u001b[39m \u001b[38;5;28;01mif\u001b[39;00m \u001b[38;5;28mself\u001b[39m\u001b[38;5;241m.\u001b[39m_jit_compile \u001b[38;5;28;01melse\u001b[39;00m \u001b[38;5;124m\"\u001b[39m\u001b[38;5;124mnonXla\u001b[39m\u001b[38;5;124m\"\u001b[39m\n\u001b[0;32m    893\u001b[0m \u001b[38;5;28;01mwith\u001b[39;00m OptionalXlaContext(\u001b[38;5;28mself\u001b[39m\u001b[38;5;241m.\u001b[39m_jit_compile):\n\u001b[1;32m--> 894\u001b[0m   result \u001b[38;5;241m=\u001b[39m \u001b[38;5;28mself\u001b[39m\u001b[38;5;241m.\u001b[39m_call(\u001b[38;5;241m*\u001b[39margs, \u001b[38;5;241m*\u001b[39m\u001b[38;5;241m*\u001b[39mkwds)\n\u001b[0;32m    896\u001b[0m new_tracing_count \u001b[38;5;241m=\u001b[39m \u001b[38;5;28mself\u001b[39m\u001b[38;5;241m.\u001b[39mexperimental_get_tracing_count()\n\u001b[0;32m    897\u001b[0m without_tracing \u001b[38;5;241m=\u001b[39m (tracing_count \u001b[38;5;241m==\u001b[39m new_tracing_count)\n",
      "File \u001b[1;32mC:\\Miniconda\\envs\\cs179\\lib\\site-packages\\tensorflow\\python\\eager\\polymorphic_function\\polymorphic_function.py:926\u001b[0m, in \u001b[0;36mFunction._call\u001b[1;34m(self, *args, **kwds)\u001b[0m\n\u001b[0;32m    923\u001b[0m   \u001b[38;5;28mself\u001b[39m\u001b[38;5;241m.\u001b[39m_lock\u001b[38;5;241m.\u001b[39mrelease()\n\u001b[0;32m    924\u001b[0m   \u001b[38;5;66;03m# In this case we have created variables on the first call, so we run the\u001b[39;00m\n\u001b[0;32m    925\u001b[0m   \u001b[38;5;66;03m# defunned version which is guaranteed to never create variables.\u001b[39;00m\n\u001b[1;32m--> 926\u001b[0m   \u001b[38;5;28;01mreturn\u001b[39;00m \u001b[38;5;28mself\u001b[39m\u001b[38;5;241m.\u001b[39m_no_variable_creation_fn(\u001b[38;5;241m*\u001b[39margs, \u001b[38;5;241m*\u001b[39m\u001b[38;5;241m*\u001b[39mkwds)  \u001b[38;5;66;03m# pylint: disable=not-callable\u001b[39;00m\n\u001b[0;32m    927\u001b[0m \u001b[38;5;28;01melif\u001b[39;00m \u001b[38;5;28mself\u001b[39m\u001b[38;5;241m.\u001b[39m_variable_creation_fn \u001b[38;5;129;01mis\u001b[39;00m \u001b[38;5;129;01mnot\u001b[39;00m \u001b[38;5;28;01mNone\u001b[39;00m:\n\u001b[0;32m    928\u001b[0m   \u001b[38;5;66;03m# Release the lock early so that multiple threads can perform the call\u001b[39;00m\n\u001b[0;32m    929\u001b[0m   \u001b[38;5;66;03m# in parallel.\u001b[39;00m\n\u001b[0;32m    930\u001b[0m   \u001b[38;5;28mself\u001b[39m\u001b[38;5;241m.\u001b[39m_lock\u001b[38;5;241m.\u001b[39mrelease()\n",
      "File \u001b[1;32mC:\\Miniconda\\envs\\cs179\\lib\\site-packages\\tensorflow\\python\\eager\\polymorphic_function\\tracing_compiler.py:143\u001b[0m, in \u001b[0;36mTracingCompiler.__call__\u001b[1;34m(self, *args, **kwargs)\u001b[0m\n\u001b[0;32m    140\u001b[0m \u001b[38;5;28;01mwith\u001b[39;00m \u001b[38;5;28mself\u001b[39m\u001b[38;5;241m.\u001b[39m_lock:\n\u001b[0;32m    141\u001b[0m   (concrete_function,\n\u001b[0;32m    142\u001b[0m    filtered_flat_args) \u001b[38;5;241m=\u001b[39m \u001b[38;5;28mself\u001b[39m\u001b[38;5;241m.\u001b[39m_maybe_define_function(args, kwargs)\n\u001b[1;32m--> 143\u001b[0m \u001b[38;5;28;01mreturn\u001b[39;00m \u001b[43mconcrete_function\u001b[49m\u001b[38;5;241;43m.\u001b[39;49m\u001b[43m_call_flat\u001b[49m\u001b[43m(\u001b[49m\n\u001b[0;32m    144\u001b[0m \u001b[43m    \u001b[49m\u001b[43mfiltered_flat_args\u001b[49m\u001b[43m,\u001b[49m\u001b[43m \u001b[49m\u001b[43mcaptured_inputs\u001b[49m\u001b[38;5;241;43m=\u001b[39;49m\u001b[43mconcrete_function\u001b[49m\u001b[38;5;241;43m.\u001b[39;49m\u001b[43mcaptured_inputs\u001b[49m\u001b[43m)\u001b[49m\n",
      "File \u001b[1;32mC:\\Miniconda\\envs\\cs179\\lib\\site-packages\\tensorflow\\python\\eager\\polymorphic_function\\monomorphic_function.py:1757\u001b[0m, in \u001b[0;36mConcreteFunction._call_flat\u001b[1;34m(self, args, captured_inputs, cancellation_manager)\u001b[0m\n\u001b[0;32m   1753\u001b[0m possible_gradient_type \u001b[38;5;241m=\u001b[39m gradients_util\u001b[38;5;241m.\u001b[39mPossibleTapeGradientTypes(args)\n\u001b[0;32m   1754\u001b[0m \u001b[38;5;28;01mif\u001b[39;00m (possible_gradient_type \u001b[38;5;241m==\u001b[39m gradients_util\u001b[38;5;241m.\u001b[39mPOSSIBLE_GRADIENT_TYPES_NONE\n\u001b[0;32m   1755\u001b[0m     \u001b[38;5;129;01mand\u001b[39;00m executing_eagerly):\n\u001b[0;32m   1756\u001b[0m   \u001b[38;5;66;03m# No tape is watching; skip to running the function.\u001b[39;00m\n\u001b[1;32m-> 1757\u001b[0m   \u001b[38;5;28;01mreturn\u001b[39;00m \u001b[38;5;28mself\u001b[39m\u001b[38;5;241m.\u001b[39m_build_call_outputs(\u001b[38;5;28;43mself\u001b[39;49m\u001b[38;5;241;43m.\u001b[39;49m\u001b[43m_inference_function\u001b[49m\u001b[38;5;241;43m.\u001b[39;49m\u001b[43mcall\u001b[49m\u001b[43m(\u001b[49m\n\u001b[0;32m   1758\u001b[0m \u001b[43m      \u001b[49m\u001b[43mctx\u001b[49m\u001b[43m,\u001b[49m\u001b[43m \u001b[49m\u001b[43margs\u001b[49m\u001b[43m,\u001b[49m\u001b[43m \u001b[49m\u001b[43mcancellation_manager\u001b[49m\u001b[38;5;241;43m=\u001b[39;49m\u001b[43mcancellation_manager\u001b[49m\u001b[43m)\u001b[49m)\n\u001b[0;32m   1759\u001b[0m forward_backward \u001b[38;5;241m=\u001b[39m \u001b[38;5;28mself\u001b[39m\u001b[38;5;241m.\u001b[39m_select_forward_and_backward_functions(\n\u001b[0;32m   1760\u001b[0m     args,\n\u001b[0;32m   1761\u001b[0m     possible_gradient_type,\n\u001b[0;32m   1762\u001b[0m     executing_eagerly)\n\u001b[0;32m   1763\u001b[0m forward_function, args_with_tangents \u001b[38;5;241m=\u001b[39m forward_backward\u001b[38;5;241m.\u001b[39mforward()\n",
      "File \u001b[1;32mC:\\Miniconda\\envs\\cs179\\lib\\site-packages\\tensorflow\\python\\eager\\polymorphic_function\\monomorphic_function.py:381\u001b[0m, in \u001b[0;36m_EagerDefinedFunction.call\u001b[1;34m(self, ctx, args, cancellation_manager)\u001b[0m\n\u001b[0;32m    379\u001b[0m \u001b[38;5;28;01mwith\u001b[39;00m _InterpolateFunctionError(\u001b[38;5;28mself\u001b[39m):\n\u001b[0;32m    380\u001b[0m   \u001b[38;5;28;01mif\u001b[39;00m cancellation_manager \u001b[38;5;129;01mis\u001b[39;00m \u001b[38;5;28;01mNone\u001b[39;00m:\n\u001b[1;32m--> 381\u001b[0m     outputs \u001b[38;5;241m=\u001b[39m \u001b[43mexecute\u001b[49m\u001b[38;5;241;43m.\u001b[39;49m\u001b[43mexecute\u001b[49m\u001b[43m(\u001b[49m\n\u001b[0;32m    382\u001b[0m \u001b[43m        \u001b[49m\u001b[38;5;28;43mstr\u001b[39;49m\u001b[43m(\u001b[49m\u001b[38;5;28;43mself\u001b[39;49m\u001b[38;5;241;43m.\u001b[39;49m\u001b[43msignature\u001b[49m\u001b[38;5;241;43m.\u001b[39;49m\u001b[43mname\u001b[49m\u001b[43m)\u001b[49m\u001b[43m,\u001b[49m\n\u001b[0;32m    383\u001b[0m \u001b[43m        \u001b[49m\u001b[43mnum_outputs\u001b[49m\u001b[38;5;241;43m=\u001b[39;49m\u001b[38;5;28;43mself\u001b[39;49m\u001b[38;5;241;43m.\u001b[39;49m\u001b[43m_num_outputs\u001b[49m\u001b[43m,\u001b[49m\n\u001b[0;32m    384\u001b[0m \u001b[43m        \u001b[49m\u001b[43minputs\u001b[49m\u001b[38;5;241;43m=\u001b[39;49m\u001b[43margs\u001b[49m\u001b[43m,\u001b[49m\n\u001b[0;32m    385\u001b[0m \u001b[43m        \u001b[49m\u001b[43mattrs\u001b[49m\u001b[38;5;241;43m=\u001b[39;49m\u001b[43mattrs\u001b[49m\u001b[43m,\u001b[49m\n\u001b[0;32m    386\u001b[0m \u001b[43m        \u001b[49m\u001b[43mctx\u001b[49m\u001b[38;5;241;43m=\u001b[39;49m\u001b[43mctx\u001b[49m\u001b[43m)\u001b[49m\n\u001b[0;32m    387\u001b[0m   \u001b[38;5;28;01melse\u001b[39;00m:\n\u001b[0;32m    388\u001b[0m     outputs \u001b[38;5;241m=\u001b[39m execute\u001b[38;5;241m.\u001b[39mexecute_with_cancellation(\n\u001b[0;32m    389\u001b[0m         \u001b[38;5;28mstr\u001b[39m(\u001b[38;5;28mself\u001b[39m\u001b[38;5;241m.\u001b[39msignature\u001b[38;5;241m.\u001b[39mname),\n\u001b[0;32m    390\u001b[0m         num_outputs\u001b[38;5;241m=\u001b[39m\u001b[38;5;28mself\u001b[39m\u001b[38;5;241m.\u001b[39m_num_outputs,\n\u001b[1;32m   (...)\u001b[0m\n\u001b[0;32m    393\u001b[0m         ctx\u001b[38;5;241m=\u001b[39mctx,\n\u001b[0;32m    394\u001b[0m         cancellation_manager\u001b[38;5;241m=\u001b[39mcancellation_manager)\n",
      "File \u001b[1;32mC:\\Miniconda\\envs\\cs179\\lib\\site-packages\\tensorflow\\python\\eager\\execute.py:52\u001b[0m, in \u001b[0;36mquick_execute\u001b[1;34m(op_name, num_outputs, inputs, attrs, ctx, name)\u001b[0m\n\u001b[0;32m     50\u001b[0m \u001b[38;5;28;01mtry\u001b[39;00m:\n\u001b[0;32m     51\u001b[0m   ctx\u001b[38;5;241m.\u001b[39mensure_initialized()\n\u001b[1;32m---> 52\u001b[0m   tensors \u001b[38;5;241m=\u001b[39m \u001b[43mpywrap_tfe\u001b[49m\u001b[38;5;241;43m.\u001b[39;49m\u001b[43mTFE_Py_Execute\u001b[49m\u001b[43m(\u001b[49m\u001b[43mctx\u001b[49m\u001b[38;5;241;43m.\u001b[39;49m\u001b[43m_handle\u001b[49m\u001b[43m,\u001b[49m\u001b[43m \u001b[49m\u001b[43mdevice_name\u001b[49m\u001b[43m,\u001b[49m\u001b[43m \u001b[49m\u001b[43mop_name\u001b[49m\u001b[43m,\u001b[49m\n\u001b[0;32m     53\u001b[0m \u001b[43m                                      \u001b[49m\u001b[43minputs\u001b[49m\u001b[43m,\u001b[49m\u001b[43m \u001b[49m\u001b[43mattrs\u001b[49m\u001b[43m,\u001b[49m\u001b[43m \u001b[49m\u001b[43mnum_outputs\u001b[49m\u001b[43m)\u001b[49m\n\u001b[0;32m     54\u001b[0m \u001b[38;5;28;01mexcept\u001b[39;00m core\u001b[38;5;241m.\u001b[39m_NotOkStatusException \u001b[38;5;28;01mas\u001b[39;00m e:\n\u001b[0;32m     55\u001b[0m   \u001b[38;5;28;01mif\u001b[39;00m name \u001b[38;5;129;01mis\u001b[39;00m \u001b[38;5;129;01mnot\u001b[39;00m \u001b[38;5;28;01mNone\u001b[39;00m:\n",
      "\u001b[1;31mKeyboardInterrupt\u001b[0m: "
     ]
    }
   ],
   "source": [
    "history = model.fit(X_train, Y_train,batch_size= 512,\n",
    "                    epochs=20,verbose=1, validation_data=(X_validation, Y_validation),callbacks = callbacks)"
   ]
  },
  {
   "cell_type": "code",
   "execution_count": 51,
   "id": "511e5ef0",
   "metadata": {},
   "outputs": [
    {
     "name": "stdout",
     "output_type": "stream",
     "text": [
      "225/225 [==============================] - 112s 492ms/step\n"
     ]
    }
   ],
   "source": [
    "# best model prediction on test data\n",
    "del(model)\n",
    "model = load_model('models/resnet_CNN_model')\n",
    "prediction = model.predict(X_test) # for each datapoint, gives a (1,7) vector contains probabilities"
   ]
  },
  {
   "cell_type": "code",
   "execution_count": 52,
   "id": "3e1ade49",
   "metadata": {},
   "outputs": [
    {
     "name": "stdout",
     "output_type": "stream",
     "text": [
      "The accuracy on test data is:  0.5388687656728894\n"
     ]
    }
   ],
   "source": [
    "Y_prediction = np.argmax(prediction,axis = 1) # get the index(label) of highest probability for each testing datapoint\n",
    "prediction_accuracy = np.mean(Y_prediction==Y_test)\n",
    "print(\"The accuracy on test data is: \", prediction_accuracy)"
   ]
  },
  {
   "cell_type": "code",
   "execution_count": 58,
   "id": "7af151c2",
   "metadata": {},
   "outputs": [],
   "source": [
    "from sklearn.metrics import confusion_matrix, roc_auc_score,ConfusionMatrixDisplay"
   ]
  },
  {
   "cell_type": "code",
   "execution_count": 70,
   "id": "1780f69a",
   "metadata": {},
   "outputs": [
    {
     "data": {
      "text/plain": [
       "<sklearn.metrics._plot.confusion_matrix.ConfusionMatrixDisplay at 0x221dff982e0>"
      ]
     },
     "execution_count": 70,
     "metadata": {},
     "output_type": "execute_result"
    },
    {
     "data": {
      "image/png": "[encoded data removed]",
      "text/plain": [
       "<Figure size 640x480 with 2 Axes>"
      ]
     },
     "metadata": {},
     "output_type": "display_data"
    }
   ],
   "source": [
    "# confusion matrix\n",
    "classes = ['angry', 'disgusted', 'fearful', 'happy', 'neutral', 'sad', 'surprised']\n",
    "cm = confusion_matrix(Y_test, Y_prediction, normalize= 'true')\n",
    "disp = ConfusionMatrixDisplay(cm, display_labels = classes)\n",
    "disp.plot(xticks_rotation = 'vertical',cmap=plt.cm.Blues)"
   ]
  },
  {
   "cell_type": "code",
   "execution_count": null,
   "id": "412b26b0",
   "metadata": {},
   "outputs": [],
   "source": []
  }
 ],
 "metadata": {
  "kernelspec": {
   "display_name": "Python 3 (ipykernel)",
   "language": "python",
   "name": "python3"
  },
  "language_info": {
   "codemirror_mode": {
    "name": "ipython",
    "version": 3
   },
   "file_extension": ".py",
   "mimetype": "text/x-python",
   "name": "python",
   "nbconvert_exporter": "python",
   "pygments_lexer": "ipython3",
   "version": "3.10.10"
  }
 },
 "nbformat": 4,
 "nbformat_minor": 5
}
