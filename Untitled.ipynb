{
 "cells": [
  {
   "cell_type": "code",
   "execution_count": 1,
   "id": "0d6b2ab5",
   "metadata": {},
   "outputs": [],
   "source": [
    "import numpy as np\n",
    "import matplotlib.pyplot as plt\n",
    "import os\n",
    "import keras\n",
    "from tensorflow.keras.utils import load_img\n",
    "path = './train'"
   ]
  },
  {
   "cell_type": "code",
   "execution_count": 2,
   "id": "1ab384c0",
   "metadata": {},
   "outputs": [],
   "source": [
    "from tensorflow.keras.utils import img_to_array\n",
    "from tensorflow.keras.utils import array_to_img"
   ]
  },
  {
   "cell_type": "code",
   "execution_count": 9,
   "id": "42ff443e",
   "metadata": {},
   "outputs": [],
   "source": [
    "classes = ['angry', 'disgusted', 'fearful', 'happy', 'neutral', 'sad', 'surprised']\n",
    "classes_to_num = {'angry': 0, 'disgusted': 1, 'fearful': 2, 'happy': 3, 'neutral': 4, 'sad': 5, 'surprised': 6}"
   ]
  },
  {
   "cell_type": "code",
   "execution_count": 4,
   "id": "ce541184",
   "metadata": {},
   "outputs": [],
   "source": [
    "train_dict = {}\n",
    "for i in classes:\n",
    "    train_dict[i] = []"
   ]
  },
  {
   "cell_type": "code",
   "execution_count": 5,
   "id": "2eddb0d0",
   "metadata": {},
   "outputs": [],
   "source": [
    "for i in classes:\n",
    "    names = os.listdir(path+'/'+i)\n",
    "    for j in names:\n",
    "        img = plt.imread(path+'/'+i+'/'+j)\n",
    "        train_dict[i].append(img)"
   ]
  },
  {
   "cell_type": "code",
   "execution_count": 6,
   "id": "0fec7631",
   "metadata": {},
   "outputs": [
    {
     "data": {
      "text/plain": [
       "<matplotlib.image.AxesImage at 0x2417a2fce50>"
      ]
     },
     "execution_count": 6,
     "metadata": {},
     "output_type": "execute_result"
    },
    {
     "data": {
      "image/png": "[encoded data removed]",
      "text/plain": [
       "<Figure size 432x288 with 1 Axes>"
      ]
     },
     "metadata": {
      "needs_background": "light"
     },
     "output_type": "display_data"
    }
   ],
   "source": [
    "plt.imshow(train_dict['angry'][0])"
   ]
  },
  {
   "cell_type": "code",
   "execution_count": 14,
   "id": "4e1ad375",
   "metadata": {},
   "outputs": [
    {
     "data": {
      "text/plain": [
       "(numpy.ndarray, (48, 48))"
      ]
     },
     "execution_count": 14,
     "metadata": {},
     "output_type": "execute_result"
    }
   ],
   "source": [
    "type(train_dict['angry'][0]), train_dict['angry'][0].shape"
   ]
  },
  {
   "cell_type": "code",
   "execution_count": 15,
   "id": "ccd3a511",
   "metadata": {},
   "outputs": [
    {
     "data": {
      "text/plain": [
       "(3995, 48, 48)"
      ]
     },
     "execution_count": 15,
     "metadata": {},
     "output_type": "execute_result"
    }
   ],
   "source": [
    "temp = np.array(train_dict['angry'])\n",
    "temp.shape"
   ]
  },
  {
   "cell_type": "code",
   "execution_count": 17,
   "id": "3f13855e",
   "metadata": {},
   "outputs": [
    {
     "data": {
      "text/plain": [
       "array([[0.27450982, 0.3137255 , 0.32156864, ..., 0.20392157, 0.16862746,\n",
       "        0.16078432],\n",
       "       [0.25490198, 0.23921569, 0.22745098, ..., 0.21960784, 0.20392157,\n",
       "        0.17254902],\n",
       "       [0.19607843, 0.16862746, 0.21176471, ..., 0.19215687, 0.21960784,\n",
       "        0.18431373],\n",
       "       ...,\n",
       "       [0.35686275, 0.25490198, 0.16470589, ..., 0.28235295, 0.21960784,\n",
       "        0.16862746],\n",
       "       [0.3019608 , 0.32156864, 0.30980393, ..., 0.4117647 , 0.27450982,\n",
       "        0.18039216],\n",
       "       [0.3019608 , 0.28235295, 0.32941177, ..., 0.41568628, 0.42745098,\n",
       "        0.32156864]], dtype=float32)"
      ]
     },
     "execution_count": 17,
     "metadata": {},
     "output_type": "execute_result"
    }
   ],
   "source": [
    "train_dict['angry'][0]"
   ]
  },
  {
   "cell_type": "code",
   "execution_count": 17,
   "id": "e438aea0",
   "metadata": {},
   "outputs": [],
   "source": [
    "X = 0\n",
    "Y = []\n",
    "for k, v in train_dict.items():\n",
    "    if type(X) is int:\n",
    "        X = np.array(v)\n",
    "    else:\n",
    "        X = np.concatenate([X, np.array(v)], axis=0)\n",
    "    for i in v:\n",
    "        Y.append(classes_to_num[k])"
   ]
  },
  {
   "cell_type": "code",
   "execution_count": 18,
   "id": "1eb65bb8",
   "metadata": {},
   "outputs": [
    {
     "data": {
      "text/plain": [
       "((28709, 48, 48), (28709,))"
      ]
     },
     "execution_count": 18,
     "metadata": {},
     "output_type": "execute_result"
    }
   ],
   "source": [
    "\n",
    "Y = np.array(Y)\n",
    "X.shape, Y.shape"
   ]
  },
  {
   "cell_type": "code",
   "execution_count": 22,
   "id": "56e0bc0e",
   "metadata": {},
   "outputs": [],
   "source": [
    "def unison_shuffled_copies(a, b):\n",
    "    assert len(a) == len(b)\n",
    "    p = np.random.permutation(len(a))\n",
    "    return a[p], b[p]"
   ]
  },
  {
   "cell_type": "code",
   "execution_count": 24,
   "id": "a444fe08",
   "metadata": {},
   "outputs": [
    {
     "data": {
      "text/plain": [
       "((28709, 48, 48), (28709,))"
      ]
     },
     "execution_count": 24,
     "metadata": {},
     "output_type": "execute_result"
    }
   ],
   "source": [
    "new_X, new_Y = unison_shuffled_copies(X,Y)\n",
    "new_X.shape, new_Y.shape"
   ]
  },
  {
   "cell_type": "code",
   "execution_count": 25,
   "id": "2dd17fb3",
   "metadata": {},
   "outputs": [
    {
     "data": {
      "text/plain": [
       "array([[0.4117647 , 0.28627452, 0.2627451 , ..., 0.24313726, 0.3019608 ,\n",
       "        0.21960784],\n",
       "       [0.38431373, 0.30588236, 0.2901961 , ..., 0.21960784, 0.2509804 ,\n",
       "        0.20784314],\n",
       "       [0.36078432, 0.23921569, 0.26666668, ..., 0.2784314 , 0.22745098,\n",
       "        0.1764706 ],\n",
       "       ...,\n",
       "       [0.24313726, 0.8352941 , 0.8509804 , ..., 0.05098039, 0.05490196,\n",
       "        0.05098039],\n",
       "       [0.2       , 0.8156863 , 0.85490197, ..., 0.05490196, 0.04705882,\n",
       "        0.05098039],\n",
       "       [0.15294118, 0.7921569 , 0.85882354, ..., 0.02745098, 0.05098039,\n",
       "        0.05098039]], dtype=float32)"
      ]
     },
     "execution_count": 25,
     "metadata": {},
     "output_type": "execute_result"
    }
   ],
   "source": [
    "new_X[0]"
   ]
  },
  {
   "cell_type": "code",
   "execution_count": 26,
   "id": "ffa99677",
   "metadata": {},
   "outputs": [
    {
     "data": {
      "text/plain": [
       "7177"
      ]
     },
     "execution_count": 26,
     "metadata": {},
     "output_type": "execute_result"
    }
   ],
   "source": [
    "28709//4"
   ]
  },
  {
   "cell_type": "code",
   "execution_count": 27,
   "id": "b013f3e4",
   "metadata": {},
   "outputs": [],
   "source": [
    "train_X = new_X[7177:]\n",
    "valid_X = new_X[:7177]\n",
    "train_Y = new_Y[7177:]\n",
    "valid_Y = new_Y[:7177]"
   ]
  },
  {
   "cell_type": "code",
   "execution_count": 28,
   "id": "ea1f60d4",
   "metadata": {},
   "outputs": [],
   "source": [
    "import tensorflow as tf\n",
    "train_ds = tf.data.Dataset.from_tensor_slices((train_X, train_Y))\n",
    "valid_ds = tf.data.Dataset.from_tensor_slices((valid_X, valid_Y))"
   ]
  },
  {
   "cell_type": "code",
   "execution_count": 30,
   "id": "1abc4945",
   "metadata": {},
   "outputs": [],
   "source": [
    "import keras\n",
    "from keras.models import Sequential\n",
    "from keras.layers import Dense, Conv2D , MaxPool2D , Flatten , Dropout \n",
    "from keras.preprocessing.image import ImageDataGenerator\n",
    "from keras.optimizers import Adam"
   ]
  },
  {
   "cell_type": "code",
   "execution_count": 42,
   "id": "16daf0c2",
   "metadata": {},
   "outputs": [
    {
     "name": "stdout",
     "output_type": "stream",
     "text": [
      "Model: \"sequential_4\"\n",
      "_________________________________________________________________\n",
      " Layer (type)                Output Shape              Param #   \n",
      "=================================================================\n",
      " conv2d_8 (Conv2D)           (None, 48, 48, 32)        320       \n",
      "                                                                 \n",
      " max_pooling2d_6 (MaxPooling  (None, 24, 24, 32)       0         \n",
      " 2D)                                                             \n",
      "                                                                 \n",
      " conv2d_9 (Conv2D)           (None, 24, 24, 32)        9248      \n",
      "                                                                 \n",
      " max_pooling2d_7 (MaxPooling  (None, 12, 12, 32)       0         \n",
      " 2D)                                                             \n",
      "                                                                 \n",
      " conv2d_10 (Conv2D)          (None, 12, 12, 64)        18496     \n",
      "                                                                 \n",
      " max_pooling2d_8 (MaxPooling  (None, 6, 6, 64)         0         \n",
      " 2D)                                                             \n",
      "                                                                 \n",
      " dropout_2 (Dropout)         (None, 6, 6, 64)          0         \n",
      "                                                                 \n",
      " flatten_2 (Flatten)         (None, 2304)              0         \n",
      "                                                                 \n",
      " dense_4 (Dense)             (None, 128)               295040    \n",
      "                                                                 \n",
      " dense_5 (Dense)             (None, 7)                 903       \n",
      "                                                                 \n",
      "=================================================================\n",
      "Total params: 324,007\n",
      "Trainable params: 324,007\n",
      "Non-trainable params: 0\n",
      "_________________________________________________________________\n"
     ]
    }
   ],
   "source": [
    "model = Sequential()\n",
    "model.add(Conv2D(32,3,padding=\"same\", activation=\"relu\", input_shape=(48,48,1)))\n",
    "model.add(MaxPool2D())\n",
    "\n",
    "model.add(Conv2D(32, 3, padding=\"same\", activation=\"relu\"))\n",
    "model.add(MaxPool2D())\n",
    "\n",
    "model.add(Conv2D(64, 3, padding=\"same\", activation=\"relu\"))\n",
    "model.add(MaxPool2D())\n",
    "model.add(Dropout(0.4))\n",
    "\n",
    "model.add(Flatten())\n",
    "model.add(Dense(128,activation=\"relu\"))\n",
    "model.add(Dense(7, activation=\"softmax\"))\n",
    "\n",
    "model.summary()"
   ]
  },
  {
   "cell_type": "code",
   "execution_count": 43,
   "id": "0def144d",
   "metadata": {},
   "outputs": [],
   "source": [
    "opt = Adam(learning_rate=0.000001)\n",
    "model.compile(optimizer = opt , loss = tf.keras.losses.SparseCategoricalCrossentropy(from_logits=True) , metrics = ['accuracy'])"
   ]
  },
  {
   "cell_type": "code",
   "execution_count": 45,
   "id": "03cd2a24",
   "metadata": {},
   "outputs": [
    {
     "name": "stdout",
     "output_type": "stream",
     "text": [
      "Epoch 1/5\n",
      "673/673 [==============================] - 39s 58ms/step - loss: 1.9355 - accuracy: 0.1963 - val_loss: 1.9235 - val_accuracy: 0.2420\n",
      "Epoch 2/5\n",
      "673/673 [==============================] - 34s 50ms/step - loss: 1.9136 - accuracy: 0.2318 - val_loss: 1.8994 - val_accuracy: 0.2479\n",
      "Epoch 3/5\n",
      "673/673 [==============================] - 33s 49ms/step - loss: 1.8903 - accuracy: 0.2484 - val_loss: 1.8764 - val_accuracy: 0.2479\n",
      "Epoch 4/5\n",
      "673/673 [==============================] - 33s 49ms/step - loss: 1.8697 - accuracy: 0.2522 - val_loss: 1.8583 - val_accuracy: 0.2479\n",
      "Epoch 5/5\n",
      "673/673 [==============================] - 33s 49ms/step - loss: 1.8531 - accuracy: 0.2524 - val_loss: 1.8455 - val_accuracy: 0.2479\n"
     ]
    }
   ],
   "source": [
    "history = model.fit(train_X,train_Y,epochs = 5 , validation_data = (valid_X, valid_Y))"
   ]
  },
  {
   "cell_type": "code",
   "execution_count": 47,
   "id": "0ac7dabe",
   "metadata": {},
   "outputs": [
    {
     "data": {
      "image/png": "[encoded data removed]",
      "text/plain": [
       "<Figure size 1080x1080 with 2 Axes>"
      ]
     },
     "metadata": {
      "needs_background": "light"
     },
     "output_type": "display_data"
    }
   ],
   "source": [
    "acc = history.history['accuracy']\n",
    "val_acc = history.history['val_accuracy']\n",
    "loss = history.history['loss']\n",
    "val_loss = history.history['val_loss']\n",
    "\n",
    "epochs_range = range(5)\n",
    "\n",
    "plt.figure(figsize=(15, 15))\n",
    "plt.subplot(2, 2, 1)\n",
    "plt.plot(epochs_range, acc, label='Training Accuracy')\n",
    "plt.plot(epochs_range, val_acc, label='Validation Accuracy')\n",
    "plt.legend(loc='lower right')\n",
    "plt.title('Training and Validation Accuracy')\n",
    "\n",
    "plt.subplot(2, 2, 2)\n",
    "plt.plot(epochs_range, loss, label='Training Loss')\n",
    "plt.plot(epochs_range, val_loss, label='Validation Loss')\n",
    "plt.legend(loc='upper right')\n",
    "plt.title('Training and Validation Loss')\n",
    "plt.show()"
   ]
  },
  {
   "cell_type": "code",
   "execution_count": null,
   "id": "5cae175e",
   "metadata": {},
   "outputs": [],
   "source": []
  }
 ],
 "metadata": {
  "kernelspec": {
   "display_name": "Python 3",
   "language": "python",
   "name": "python3"
  },
  "language_info": {
   "codemirror_mode": {
    "name": "ipython",
    "version": 3
   },
   "file_extension": ".py",
   "mimetype": "text/x-python",
   "name": "python",
   "nbconvert_exporter": "python",
   "pygments_lexer": "ipython3",
   "version": "3.9.4"
  }
 },
 "nbformat": 4,
 "nbformat_minor": 5
}
