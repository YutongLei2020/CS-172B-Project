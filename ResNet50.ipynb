{
 "cells": [
  {
   "attachments": {},
   "cell_type": "markdown",
   "metadata": {},
   "source": [
    "### Data Preprocessing (taken from load_images.py)"
   ]
  },
  {
   "cell_type": "code",
   "execution_count": 4,
   "metadata": {},
   "outputs": [],
   "source": [
    "import numpy as np\n",
    "import matplotlib.pyplot as plt\n",
    "import os\n",
    "import cv2\n",
    "import gc\n",
    "from sklearn.model_selection import train_test_split\n",
    "\n",
    "seed = 1234\n",
    "np.random.seed(seed)"
   ]
  },
  {
   "cell_type": "code",
   "execution_count": 5,
   "metadata": {},
   "outputs": [],
   "source": [
    "# Some intializations\n",
    "# data_dir = '/content/drive/MyDrive/CS172B/'\n",
    "data_dir = ''\n",
    "train_path = data_dir + 'train'\n",
    "test_path = data_dir + 'test'\n",
    "affectNet_train_path =  data_dir + 'Affectnet_train' \n",
    "labels = ['angry', 'disgusted', 'fearful', 'happy', 'neutral', 'sad', 'surprised']\n",
    "\n",
    "def isNormalizedIMG(img):\n",
    "    \"\"\"Check whether the image has been normalized before\"\"\"\n",
    "    for i in img:\n",
    "        for j in i:\n",
    "            for k in j:\n",
    "                if k > 1: return False # has not been normalized\n",
    "                if k < 1 and k > 0: return True # has been normalized\n",
    "    return True"
   ]
  },
  {
   "cell_type": "code",
   "execution_count": 6,
   "metadata": {},
   "outputs": [],
   "source": [
    "X = []; Y = []\n",
    "X_test =[]; Y_test =[]\n",
    "count = np.zeros((7))\n",
    "\n",
    "# load FER2013 training dataset\n",
    "for i in range(0,7):\n",
    "    path = train_path+'/'+labels[i]\n",
    "    for j in os.listdir(path):\n",
    "        img = plt.imread(path+'/'+j) #load images\n",
    "        RGB_img = cv2.cvtColor(img,cv2.COLOR_GRAY2RGB) #convert to RGB\n",
    "        if(isNormalizedIMG(RGB_img) == False): RGB_img = RGB_img/255 #if hasn't been normalized, normalize it\n",
    "        X.append(RGB_img)\n",
    "        Y.append(i)\n",
    "        count[i]+=1\n",
    "        \n",
    "# load affectnet training dataset\n",
    "for i in range(0,7):\n",
    "    path = affectNet_train_path+'/'+labels[i]\n",
    "    for j in os.listdir(path):\n",
    "        img = plt.imread(path+'/'+j) #load images\n",
    "        resized_img = cv2.resize(img,(48,48)) #resize to (48,48,3)\n",
    "        if(isNormalizedIMG(resized_img) == False): resized_img = resized_img/255 #if hasn't been normalized, normalize it\n",
    "        X.append(resized_img)\n",
    "        Y.append(i)\n",
    "        count[i]+=1\n",
    "\n",
    "# load FER2013 testing dataset\n",
    "for i in range(0,7):\n",
    "    path = test_path+'/'+labels[i]\n",
    "    for j in os.listdir(path):\n",
    "        img = plt.imread(path+'/'+j) #load images\n",
    "        RGB_img = cv2.cvtColor(img,cv2.COLOR_GRAY2RGB) #convert to RGB\n",
    "        if(isNormalizedIMG(RGB_img) == False): RGB_img = RGB_img/255 #If hasn't been normalized, normalize it\n",
    "        X_test.append(RGB_img)\n",
    "        Y_test.append(i)"
   ]
  },
  {
   "cell_type": "code",
   "execution_count": 7,
   "metadata": {},
   "outputs": [],
   "source": [
    "# shuffle\n",
    "X = np.array(X); Y = np.array(Y); X_test = np.array(X_test); Y_test = np.array(Y_test)\n",
    "X_train,X_validation,Y_train,Y_validation = train_test_split(X,Y,test_size = 0.25, random_state = seed, shuffle = True, stratify = Y)"
   ]
  },
  {
   "cell_type": "code",
   "execution_count": 8,
   "metadata": {},
   "outputs": [],
   "source": [
    "def getDataset():\n",
    "    \"\"\"Return np.arrays.\"\"\"\n",
    "    \"\"\"Training set, Training set labels, Validation set, Validation set labels, Testing set, Testing set labels \"\"\"\n",
    "    return X_train, Y_train, X_validation, Y_validation, X_test, Y_test\n",
    "    \n",
    "def getDatasetCount():\n",
    "    \"\"\"Return count for each labels in the dataset\"\"\"\n",
    "    return count\n",
    "\n",
    "def getLabels():\n",
    "    \"\"\"Return labels in the dataset\"\"\"\n",
    "    return labels"
   ]
  },
  {
   "attachments": {},
   "cell_type": "markdown",
   "metadata": {},
   "source": [
    "### Training & Testing Model"
   ]
  },
  {
   "cell_type": "code",
   "execution_count": 9,
   "metadata": {},
   "outputs": [
    {
     "name": "stderr",
     "output_type": "stream",
     "text": [
      "2023-06-11 13:29:42.786044: I tensorflow/core/platform/cpu_feature_guard.cc:193] This TensorFlow binary is optimized with oneAPI Deep Neural Network Library (oneDNN) to use the following CPU instructions in performance-critical operations:  SSE4.1 SSE4.2 AVX AVX2 AVX512F AVX512_VNNI FMA\n",
      "To enable them in other operations, rebuild TensorFlow with the appropriate compiler flags.\n"
     ]
    }
   ],
   "source": [
    "import numpy as np\n",
    "import matplotlib.pyplot as plt\n",
    "import keras\n",
    "import tensorflow as tf\n",
    "from tensorflow.keras.models import load_model\n",
    "from tensorflow.keras.initializers import RandomUniform, Zeros, HeNormal, HeUniform\n",
    "\n",
    "from keras.models import Sequential, Model\n",
    "from keras.layers import Dense, Dropout, Activation, Flatten, BatchNormalization, Conv2D, MaxPool2D, Reshape, GlobalAveragePooling2D, ZeroPadding2D, Cropping2D\n",
    "from keras.applications.resnet_v2 import ResNet50V2, preprocess_input\n",
    "from keras.utils import np_utils\n",
    "from keras.optimizers import Adam, Adamax\n",
    "from keras.regularizers import l2\n",
    "\n",
    "import os\n",
    "import visualkeras\n",
    "from PIL import ImageFont\n",
    "\n",
    "seed = 1234\n",
    "np.random.seed(seed)"
   ]
  },
  {
   "cell_type": "code",
   "execution_count": 10,
   "metadata": {},
   "outputs": [],
   "source": [
    "X_train, Y_train, X_validation, Y_validation, X_test, Y_test = getDataset()"
   ]
  },
  {
   "cell_type": "code",
   "execution_count": 11,
   "metadata": {},
   "outputs": [],
   "source": [
    "# Resnet Mandatory Preprocessing\n",
    "X_train = preprocess_input(X_train)\n",
    "X_validation = preprocess_input(X_validation)\n",
    "X_test = preprocess_input(X_test)"
   ]
  },
  {
   "cell_type": "code",
   "execution_count": 12,
   "metadata": {},
   "outputs": [
    {
     "name": "stdout",
     "output_type": "stream",
     "text": [
      "X_train shape: (41160, 48, 48, 3)\n",
      "X_validation shape: (13720, 48, 48, 3)\n",
      "X_test shape: (7178, 48, 48, 3)\n"
     ]
    }
   ],
   "source": [
    "print(f'X_train shape: {X_train.shape}')\n",
    "print(f'X_validation shape: {X_validation.shape}')\n",
    "print(f'X_test shape: {X_test.shape}')"
   ]
  },
  {
   "cell_type": "code",
   "execution_count": 13,
   "metadata": {},
   "outputs": [
    {
     "name": "stdout",
     "output_type": "stream",
     "text": [
      "MODEL TRAINING WITH THE FOLLOWING HYPER-PARAMETERS: \n",
      "\tpooling value: avg\n",
      "\tbias_init value: <keras.initializers.initializers_v2.RandomUniform object at 0x7faee7574790>\n",
      "\tlr value: 0.008\n",
      "\toptimizer value: Adamax\n",
      "\tbatch_size value: 128\n",
      "\tactivation_function value: relu\n",
      "\tbias_regularizer value: l2\n",
      "\tdropout_rate value: 0.4\n",
      "\tloss_function value: <keras.losses.SparseCategoricalCrossentropy object at 0x7faee7474a00>\n",
      "\tepoch value: 100\n"
     ]
    },
    {
     "name": "stderr",
     "output_type": "stream",
     "text": [
      "2023-06-11 13:31:19.498215: I tensorflow/core/platform/cpu_feature_guard.cc:193] This TensorFlow binary is optimized with oneAPI Deep Neural Network Library (oneDNN) to use the following CPU instructions in performance-critical operations:  SSE4.1 SSE4.2 AVX AVX2 AVX512F AVX512_VNNI FMA\n",
      "To enable them in other operations, rebuild TensorFlow with the appropriate compiler flags.\n"
     ]
    },
    {
     "name": "stdout",
     "output_type": "stream",
     "text": [
      "Model: \"sequential\"\n",
      "_________________________________________________________________\n",
      " Layer (type)                Output Shape              Param #   \n",
      "=================================================================\n",
      " resnet50v2 (Functional)     (None, 2048)              23564800  \n",
      "                                                                 \n",
      " batch_normalization (BatchN  (None, 2048)             8192      \n",
      " ormalization)                                                   \n",
      "                                                                 \n",
      " reshape (Reshape)           (None, 32, 32, 2)         0         \n",
      "                                                                 \n",
      " conv2d (Conv2D)             (None, 3, 3, 64)          115264    \n",
      "                                                                 \n",
      " dropout (Dropout)           (None, 3, 3, 64)          0         \n",
      "                                                                 \n",
      " global_average_pooling2d (G  (None, 64)               0         \n",
      " lobalAveragePooling2D)                                          \n",
      "                                                                 \n",
      " flatten (Flatten)           (None, 64)                0         \n",
      "                                                                 \n",
      " dense (Dense)               (None, 7)                 455       \n",
      "                                                                 \n",
      "=================================================================\n",
      "Total params: 23,688,711\n",
      "Trainable params: 119,815\n",
      "Non-trainable params: 23,568,896\n",
      "_________________________________________________________________\n",
      "Epoch 1/100\n",
      "322/322 [==============================] - ETA: 0s - loss: 1.7701 - accuracy: 0.2940"
     ]
    },
    {
     "name": "stderr",
     "output_type": "stream",
     "text": [
      "WARNING:absl:Found untraced functions such as _jit_compiled_convolution_op, _jit_compiled_convolution_op, _jit_compiled_convolution_op, _jit_compiled_convolution_op, _jit_compiled_convolution_op while saving (showing 5 of 54). These functions will not be directly callable after loading.\n"
     ]
    },
    {
     "name": "stdout",
     "output_type": "stream",
     "text": [
      "INFO:tensorflow:Assets written to: models/test/assets\n"
     ]
    },
    {
     "name": "stderr",
     "output_type": "stream",
     "text": [
      "INFO:tensorflow:Assets written to: models/test/assets\n"
     ]
    },
    {
     "name": "stdout",
     "output_type": "stream",
     "text": [
      "322/322 [==============================] - 449s 1s/step - loss: 1.7701 - accuracy: 0.2940 - val_loss: 1.7779 - val_accuracy: 0.3093\n",
      "Epoch 2/100\n",
      "322/322 [==============================] - ETA: 0s - loss: 1.7033 - accuracy: 0.3291"
     ]
    },
    {
     "name": "stderr",
     "output_type": "stream",
     "text": [
      "WARNING:absl:Found untraced functions such as _jit_compiled_convolution_op, _jit_compiled_convolution_op, _jit_compiled_convolution_op, _jit_compiled_convolution_op, _jit_compiled_convolution_op while saving (showing 5 of 54). These functions will not be directly callable after loading.\n"
     ]
    },
    {
     "name": "stdout",
     "output_type": "stream",
     "text": [
      "INFO:tensorflow:Assets written to: models/test/assets\n"
     ]
    },
    {
     "name": "stderr",
     "output_type": "stream",
     "text": [
      "INFO:tensorflow:Assets written to: models/test/assets\n"
     ]
    },
    {
     "name": "stdout",
     "output_type": "stream",
     "text": [
      "322/322 [==============================] - 349s 1s/step - loss: 1.7033 - accuracy: 0.3291 - val_loss: 1.6927 - val_accuracy: 0.3292\n",
      "Epoch 3/100\n",
      "322/322 [==============================] - ETA: 0s - loss: 1.6816 - accuracy: 0.3336"
     ]
    },
    {
     "name": "stderr",
     "output_type": "stream",
     "text": [
      "WARNING:absl:Found untraced functions such as _jit_compiled_convolution_op, _jit_compiled_convolution_op, _jit_compiled_convolution_op, _jit_compiled_convolution_op, _jit_compiled_convolution_op while saving (showing 5 of 54). These functions will not be directly callable after loading.\n"
     ]
    },
    {
     "name": "stdout",
     "output_type": "stream",
     "text": [
      "INFO:tensorflow:Assets written to: models/test/assets\n"
     ]
    },
    {
     "name": "stderr",
     "output_type": "stream",
     "text": [
      "INFO:tensorflow:Assets written to: models/test/assets\n"
     ]
    },
    {
     "name": "stdout",
     "output_type": "stream",
     "text": [
      "322/322 [==============================] - 333s 1s/step - loss: 1.6816 - accuracy: 0.3336 - val_loss: 1.6675 - val_accuracy: 0.3473\n",
      "Epoch 4/100\n",
      "322/322 [==============================] - ETA: 0s - loss: 1.6640 - accuracy: 0.3452"
     ]
    },
    {
     "name": "stderr",
     "output_type": "stream",
     "text": [
      "WARNING:absl:Found untraced functions such as _jit_compiled_convolution_op, _jit_compiled_convolution_op, _jit_compiled_convolution_op, _jit_compiled_convolution_op, _jit_compiled_convolution_op while saving (showing 5 of 54). These functions will not be directly callable after loading.\n"
     ]
    },
    {
     "name": "stdout",
     "output_type": "stream",
     "text": [
      "INFO:tensorflow:Assets written to: models/test/assets\n"
     ]
    },
    {
     "name": "stderr",
     "output_type": "stream",
     "text": [
      "INFO:tensorflow:Assets written to: models/test/assets\n"
     ]
    },
    {
     "name": "stdout",
     "output_type": "stream",
     "text": [
      "322/322 [==============================] - 343s 1s/step - loss: 1.6640 - accuracy: 0.3452 - val_loss: 1.6577 - val_accuracy: 0.3460\n",
      "Epoch 5/100\n",
      "322/322 [==============================] - ETA: 0s - loss: 1.6517 - accuracy: 0.3459"
     ]
    },
    {
     "name": "stderr",
     "output_type": "stream",
     "text": [
      "WARNING:absl:Found untraced functions such as _jit_compiled_convolution_op, _jit_compiled_convolution_op, _jit_compiled_convolution_op, _jit_compiled_convolution_op, _jit_compiled_convolution_op while saving (showing 5 of 54). These functions will not be directly callable after loading.\n"
     ]
    },
    {
     "name": "stdout",
     "output_type": "stream",
     "text": [
      "INFO:tensorflow:Assets written to: models/test/assets\n"
     ]
    },
    {
     "name": "stderr",
     "output_type": "stream",
     "text": [
      "INFO:tensorflow:Assets written to: models/test/assets\n"
     ]
    },
    {
     "name": "stdout",
     "output_type": "stream",
     "text": [
      "322/322 [==============================] - 312s 969ms/step - loss: 1.6517 - accuracy: 0.3459 - val_loss: 1.6540 - val_accuracy: 0.3492\n",
      "Epoch 6/100\n",
      "322/322 [==============================] - ETA: 0s - loss: 1.6392 - accuracy: 0.3577"
     ]
    },
    {
     "name": "stderr",
     "output_type": "stream",
     "text": [
      "WARNING:absl:Found untraced functions such as _jit_compiled_convolution_op, _jit_compiled_convolution_op, _jit_compiled_convolution_op, _jit_compiled_convolution_op, _jit_compiled_convolution_op while saving (showing 5 of 54). These functions will not be directly callable after loading.\n"
     ]
    },
    {
     "name": "stdout",
     "output_type": "stream",
     "text": [
      "INFO:tensorflow:Assets written to: models/test/assets\n"
     ]
    },
    {
     "name": "stderr",
     "output_type": "stream",
     "text": [
      "INFO:tensorflow:Assets written to: models/test/assets\n"
     ]
    },
    {
     "name": "stdout",
     "output_type": "stream",
     "text": [
      "322/322 [==============================] - 311s 967ms/step - loss: 1.6392 - accuracy: 0.3577 - val_loss: 1.6502 - val_accuracy: 0.3555\n",
      "Epoch 7/100\n",
      "322/322 [==============================] - ETA: 0s - loss: 1.6319 - accuracy: 0.3607"
     ]
    },
    {
     "name": "stderr",
     "output_type": "stream",
     "text": [
      "WARNING:absl:Found untraced functions such as _jit_compiled_convolution_op, _jit_compiled_convolution_op, _jit_compiled_convolution_op, _jit_compiled_convolution_op, _jit_compiled_convolution_op while saving (showing 5 of 54). These functions will not be directly callable after loading.\n"
     ]
    },
    {
     "name": "stdout",
     "output_type": "stream",
     "text": [
      "INFO:tensorflow:Assets written to: models/test/assets\n"
     ]
    },
    {
     "name": "stderr",
     "output_type": "stream",
     "text": [
      "INFO:tensorflow:Assets written to: models/test/assets\n"
     ]
    },
    {
     "name": "stdout",
     "output_type": "stream",
     "text": [
      "322/322 [==============================] - 322s 1s/step - loss: 1.6319 - accuracy: 0.3607 - val_loss: 1.6474 - val_accuracy: 0.3482\n",
      "Epoch 8/100\n",
      "322/322 [==============================] - 288s 894ms/step - loss: 1.6247 - accuracy: 0.3608 - val_loss: 1.6565 - val_accuracy: 0.3512\n",
      "Epoch 9/100\n",
      "322/322 [==============================] - ETA: 0s - loss: 1.6186 - accuracy: 0.3643"
     ]
    },
    {
     "name": "stderr",
     "output_type": "stream",
     "text": [
      "WARNING:absl:Found untraced functions such as _jit_compiled_convolution_op, _jit_compiled_convolution_op, _jit_compiled_convolution_op, _jit_compiled_convolution_op, _jit_compiled_convolution_op while saving (showing 5 of 54). These functions will not be directly callable after loading.\n"
     ]
    },
    {
     "name": "stdout",
     "output_type": "stream",
     "text": [
      "INFO:tensorflow:Assets written to: models/test/assets\n"
     ]
    },
    {
     "name": "stderr",
     "output_type": "stream",
     "text": [
      "INFO:tensorflow:Assets written to: models/test/assets\n"
     ]
    },
    {
     "name": "stdout",
     "output_type": "stream",
     "text": [
      "322/322 [==============================] - 312s 968ms/step - loss: 1.6186 - accuracy: 0.3643 - val_loss: 1.6377 - val_accuracy: 0.3582\n",
      "Epoch 10/100\n",
      "322/322 [==============================] - ETA: 0s - loss: 1.6107 - accuracy: 0.3675"
     ]
    },
    {
     "name": "stderr",
     "output_type": "stream",
     "text": [
      "WARNING:absl:Found untraced functions such as _jit_compiled_convolution_op, _jit_compiled_convolution_op, _jit_compiled_convolution_op, _jit_compiled_convolution_op, _jit_compiled_convolution_op while saving (showing 5 of 54). These functions will not be directly callable after loading.\n"
     ]
    },
    {
     "name": "stdout",
     "output_type": "stream",
     "text": [
      "INFO:tensorflow:Assets written to: models/test/assets\n"
     ]
    },
    {
     "name": "stderr",
     "output_type": "stream",
     "text": [
      "INFO:tensorflow:Assets written to: models/test/assets\n"
     ]
    },
    {
     "name": "stdout",
     "output_type": "stream",
     "text": [
      "322/322 [==============================] - 317s 984ms/step - loss: 1.6107 - accuracy: 0.3675 - val_loss: 1.6273 - val_accuracy: 0.3580\n",
      "Epoch 11/100\n",
      "322/322 [==============================] - ETA: 0s - loss: 1.6065 - accuracy: 0.3683"
     ]
    },
    {
     "name": "stderr",
     "output_type": "stream",
     "text": [
      "WARNING:absl:Found untraced functions such as _jit_compiled_convolution_op, _jit_compiled_convolution_op, _jit_compiled_convolution_op, _jit_compiled_convolution_op, _jit_compiled_convolution_op while saving (showing 5 of 54). These functions will not be directly callable after loading.\n"
     ]
    },
    {
     "name": "stdout",
     "output_type": "stream",
     "text": [
      "INFO:tensorflow:Assets written to: models/test/assets\n"
     ]
    },
    {
     "name": "stderr",
     "output_type": "stream",
     "text": [
      "INFO:tensorflow:Assets written to: models/test/assets\n"
     ]
    },
    {
     "name": "stdout",
     "output_type": "stream",
     "text": [
      "322/322 [==============================] - 330s 1s/step - loss: 1.6065 - accuracy: 0.3683 - val_loss: 1.6228 - val_accuracy: 0.3621\n",
      "Epoch 12/100\n",
      "322/322 [==============================] - 292s 907ms/step - loss: 1.5967 - accuracy: 0.3750 - val_loss: 1.6330 - val_accuracy: 0.3551\n",
      "Epoch 13/100\n",
      "322/322 [==============================] - ETA: 0s - loss: 1.5931 - accuracy: 0.3759"
     ]
    },
    {
     "name": "stderr",
     "output_type": "stream",
     "text": [
      "WARNING:absl:Found untraced functions such as _jit_compiled_convolution_op, _jit_compiled_convolution_op, _jit_compiled_convolution_op, _jit_compiled_convolution_op, _jit_compiled_convolution_op while saving (showing 5 of 54). These functions will not be directly callable after loading.\n"
     ]
    },
    {
     "name": "stdout",
     "output_type": "stream",
     "text": [
      "INFO:tensorflow:Assets written to: models/test/assets\n"
     ]
    },
    {
     "name": "stderr",
     "output_type": "stream",
     "text": [
      "INFO:tensorflow:Assets written to: models/test/assets\n"
     ]
    },
    {
     "name": "stdout",
     "output_type": "stream",
     "text": [
      "322/322 [==============================] - 329s 1s/step - loss: 1.5931 - accuracy: 0.3759 - val_loss: 1.6219 - val_accuracy: 0.3660\n",
      "Epoch 14/100\n",
      "322/322 [==============================] - ETA: 0s - loss: 1.5876 - accuracy: 0.3749"
     ]
    },
    {
     "ename": "KeyboardInterrupt",
     "evalue": "",
     "output_type": "error",
     "traceback": [
      "\u001b[0;31m---------------------------------------------------------------------------\u001b[0m",
      "\u001b[0;31mKeyboardInterrupt\u001b[0m                         Traceback (most recent call last)",
      "Cell \u001b[0;32mIn[13], line 96\u001b[0m\n\u001b[1;32m     85\u001b[0m callbacks \u001b[39m=\u001b[39m [\n\u001b[1;32m     86\u001b[0m     keras\u001b[39m.\u001b[39mcallbacks\u001b[39m.\u001b[39mModelCheckpoint(\n\u001b[1;32m     87\u001b[0m         filepath \u001b[39m=\u001b[39m \u001b[39m'\u001b[39m\u001b[39mmodels/test\u001b[39m\u001b[39m'\u001b[39m, \n\u001b[0;32m   (...)\u001b[0m\n\u001b[1;32m     90\u001b[0m     )\n\u001b[1;32m     91\u001b[0m ]\n\u001b[1;32m     93\u001b[0m \u001b[39m#####################################################################\u001b[39;00m\n\u001b[1;32m     94\u001b[0m \u001b[39m###                          Fit Model                            ###\u001b[39;00m\n\u001b[1;32m     95\u001b[0m \u001b[39m#####################################################################\u001b[39;00m\n\u001b[0;32m---> 96\u001b[0m history \u001b[39m=\u001b[39m model\u001b[39m.\u001b[39;49mfit(\n\u001b[1;32m     97\u001b[0m     X_train, Y_train, \n\u001b[1;32m     98\u001b[0m     validation_data\u001b[39m=\u001b[39;49m(X_validation, Y_validation),\n\u001b[1;32m     99\u001b[0m     batch_size\u001b[39m=\u001b[39;49mhyperparam_batch_size, \n\u001b[1;32m    100\u001b[0m     epochs\u001b[39m=\u001b[39;49mhyperparam_epoch, \n\u001b[1;32m    101\u001b[0m     callbacks \u001b[39m=\u001b[39;49m callbacks\n\u001b[1;32m    102\u001b[0m )\n\u001b[1;32m    105\u001b[0m \u001b[39m#####################################################################\u001b[39;00m\n\u001b[1;32m    106\u001b[0m \u001b[39m###                    Plot Training Results                      ###\u001b[39;00m\n\u001b[1;32m    107\u001b[0m \u001b[39m### Note: Modify code to store plots in a excel spreadsheet       ###\u001b[39;00m\n\u001b[1;32m    108\u001b[0m \u001b[39m###         rather than plot.                                     ###\u001b[39;00m\n\u001b[1;32m    109\u001b[0m \u001b[39m#####################################################################\u001b[39;00m\n\u001b[1;32m    110\u001b[0m acc \u001b[39m=\u001b[39m history\u001b[39m.\u001b[39mhistory[\u001b[39m'\u001b[39m\u001b[39maccuracy\u001b[39m\u001b[39m'\u001b[39m]\n",
      "File \u001b[0;32m~/opt/anaconda3/envs/cs-172b/lib/python3.10/site-packages/keras/utils/traceback_utils.py:65\u001b[0m, in \u001b[0;36mfilter_traceback.<locals>.error_handler\u001b[0;34m(*args, **kwargs)\u001b[0m\n\u001b[1;32m     63\u001b[0m filtered_tb \u001b[39m=\u001b[39m \u001b[39mNone\u001b[39;00m\n\u001b[1;32m     64\u001b[0m \u001b[39mtry\u001b[39;00m:\n\u001b[0;32m---> 65\u001b[0m     \u001b[39mreturn\u001b[39;00m fn(\u001b[39m*\u001b[39;49margs, \u001b[39m*\u001b[39;49m\u001b[39m*\u001b[39;49mkwargs)\n\u001b[1;32m     66\u001b[0m \u001b[39mexcept\u001b[39;00m \u001b[39mException\u001b[39;00m \u001b[39mas\u001b[39;00m e:\n\u001b[1;32m     67\u001b[0m     filtered_tb \u001b[39m=\u001b[39m _process_traceback_frames(e\u001b[39m.\u001b[39m__traceback__)\n",
      "File \u001b[0;32m~/opt/anaconda3/envs/cs-172b/lib/python3.10/site-packages/keras/engine/training.py:1624\u001b[0m, in \u001b[0;36mModel.fit\u001b[0;34m(self, x, y, batch_size, epochs, verbose, callbacks, validation_split, validation_data, shuffle, class_weight, sample_weight, initial_epoch, steps_per_epoch, validation_steps, validation_batch_size, validation_freq, max_queue_size, workers, use_multiprocessing)\u001b[0m\n\u001b[1;32m   1619\u001b[0m     val_logs \u001b[39m=\u001b[39m {\n\u001b[1;32m   1620\u001b[0m         \u001b[39m\"\u001b[39m\u001b[39mval_\u001b[39m\u001b[39m\"\u001b[39m \u001b[39m+\u001b[39m name: val \u001b[39mfor\u001b[39;00m name, val \u001b[39min\u001b[39;00m val_logs\u001b[39m.\u001b[39mitems()\n\u001b[1;32m   1621\u001b[0m     }\n\u001b[1;32m   1622\u001b[0m     epoch_logs\u001b[39m.\u001b[39mupdate(val_logs)\n\u001b[0;32m-> 1624\u001b[0m callbacks\u001b[39m.\u001b[39;49mon_epoch_end(epoch, epoch_logs)\n\u001b[1;32m   1625\u001b[0m training_logs \u001b[39m=\u001b[39m epoch_logs\n\u001b[1;32m   1626\u001b[0m \u001b[39mif\u001b[39;00m \u001b[39mself\u001b[39m\u001b[39m.\u001b[39mstop_training:\n",
      "File \u001b[0;32m~/opt/anaconda3/envs/cs-172b/lib/python3.10/site-packages/keras/callbacks.py:448\u001b[0m, in \u001b[0;36mCallbackList.on_epoch_end\u001b[0;34m(self, epoch, logs)\u001b[0m\n\u001b[1;32m    446\u001b[0m logs \u001b[39m=\u001b[39m \u001b[39mself\u001b[39m\u001b[39m.\u001b[39m_process_logs(logs)\n\u001b[1;32m    447\u001b[0m \u001b[39mfor\u001b[39;00m callback \u001b[39min\u001b[39;00m \u001b[39mself\u001b[39m\u001b[39m.\u001b[39mcallbacks:\n\u001b[0;32m--> 448\u001b[0m     callback\u001b[39m.\u001b[39;49mon_epoch_end(epoch, logs)\n",
      "File \u001b[0;32m~/opt/anaconda3/envs/cs-172b/lib/python3.10/site-packages/keras/callbacks.py:1463\u001b[0m, in \u001b[0;36mModelCheckpoint.on_epoch_end\u001b[0;34m(self, epoch, logs)\u001b[0m\n\u001b[1;32m   1460\u001b[0m \u001b[39mself\u001b[39m\u001b[39m.\u001b[39mepochs_since_last_save \u001b[39m+\u001b[39m\u001b[39m=\u001b[39m \u001b[39m1\u001b[39m\n\u001b[1;32m   1462\u001b[0m \u001b[39mif\u001b[39;00m \u001b[39mself\u001b[39m\u001b[39m.\u001b[39msave_freq \u001b[39m==\u001b[39m \u001b[39m\"\u001b[39m\u001b[39mepoch\u001b[39m\u001b[39m\"\u001b[39m:\n\u001b[0;32m-> 1463\u001b[0m     \u001b[39mself\u001b[39;49m\u001b[39m.\u001b[39;49m_save_model(epoch\u001b[39m=\u001b[39;49mepoch, batch\u001b[39m=\u001b[39;49m\u001b[39mNone\u001b[39;49;00m, logs\u001b[39m=\u001b[39;49mlogs)\n",
      "File \u001b[0;32m~/opt/anaconda3/envs/cs-172b/lib/python3.10/site-packages/keras/callbacks.py:1528\u001b[0m, in \u001b[0;36mModelCheckpoint._save_model\u001b[0;34m(self, epoch, batch, logs)\u001b[0m\n\u001b[1;32m   1522\u001b[0m         \u001b[39mself\u001b[39m\u001b[39m.\u001b[39mmodel\u001b[39m.\u001b[39msave_weights(\n\u001b[1;32m   1523\u001b[0m             filepath,\n\u001b[1;32m   1524\u001b[0m             overwrite\u001b[39m=\u001b[39m\u001b[39mTrue\u001b[39;00m,\n\u001b[1;32m   1525\u001b[0m             options\u001b[39m=\u001b[39m\u001b[39mself\u001b[39m\u001b[39m.\u001b[39m_options,\n\u001b[1;32m   1526\u001b[0m         )\n\u001b[1;32m   1527\u001b[0m     \u001b[39melse\u001b[39;00m:\n\u001b[0;32m-> 1528\u001b[0m         \u001b[39mself\u001b[39;49m\u001b[39m.\u001b[39;49mmodel\u001b[39m.\u001b[39;49msave(\n\u001b[1;32m   1529\u001b[0m             filepath,\n\u001b[1;32m   1530\u001b[0m             overwrite\u001b[39m=\u001b[39;49m\u001b[39mTrue\u001b[39;49;00m,\n\u001b[1;32m   1531\u001b[0m             options\u001b[39m=\u001b[39;49m\u001b[39mself\u001b[39;49m\u001b[39m.\u001b[39;49m_options,\n\u001b[1;32m   1532\u001b[0m         )\n\u001b[1;32m   1533\u001b[0m \u001b[39melse\u001b[39;00m:\n\u001b[1;32m   1534\u001b[0m     \u001b[39mif\u001b[39;00m \u001b[39mself\u001b[39m\u001b[39m.\u001b[39mverbose \u001b[39m>\u001b[39m \u001b[39m0\u001b[39m:\n",
      "File \u001b[0;32m~/opt/anaconda3/envs/cs-172b/lib/python3.10/site-packages/keras/utils/traceback_utils.py:65\u001b[0m, in \u001b[0;36mfilter_traceback.<locals>.error_handler\u001b[0;34m(*args, **kwargs)\u001b[0m\n\u001b[1;32m     63\u001b[0m filtered_tb \u001b[39m=\u001b[39m \u001b[39mNone\u001b[39;00m\n\u001b[1;32m     64\u001b[0m \u001b[39mtry\u001b[39;00m:\n\u001b[0;32m---> 65\u001b[0m     \u001b[39mreturn\u001b[39;00m fn(\u001b[39m*\u001b[39;49margs, \u001b[39m*\u001b[39;49m\u001b[39m*\u001b[39;49mkwargs)\n\u001b[1;32m     66\u001b[0m \u001b[39mexcept\u001b[39;00m \u001b[39mException\u001b[39;00m \u001b[39mas\u001b[39;00m e:\n\u001b[1;32m     67\u001b[0m     filtered_tb \u001b[39m=\u001b[39m _process_traceback_frames(e\u001b[39m.\u001b[39m__traceback__)\n",
      "File \u001b[0;32m~/opt/anaconda3/envs/cs-172b/lib/python3.10/site-packages/keras/engine/training.py:2698\u001b[0m, in \u001b[0;36mModel.save\u001b[0;34m(self, filepath, overwrite, include_optimizer, save_format, signatures, options, save_traces)\u001b[0m\n\u001b[1;32m   2643\u001b[0m \u001b[39m@traceback_utils\u001b[39m\u001b[39m.\u001b[39mfilter_traceback\n\u001b[1;32m   2644\u001b[0m \u001b[39mdef\u001b[39;00m \u001b[39msave\u001b[39m(\n\u001b[1;32m   2645\u001b[0m     \u001b[39mself\u001b[39m,\n\u001b[0;32m   (...)\u001b[0m\n\u001b[1;32m   2652\u001b[0m     save_traces\u001b[39m=\u001b[39m\u001b[39mTrue\u001b[39;00m,\n\u001b[1;32m   2653\u001b[0m ):\n\u001b[1;32m   2655\u001b[0m \u001b[39m    \u001b[39m\u001b[39m\"\"\"Saves the model to Tensorflow SavedModel or a single HDF5 file.\u001b[39;00m\n\u001b[1;32m   2656\u001b[0m \n\u001b[1;32m   2657\u001b[0m \u001b[39m    Please see `tf.keras.models.save_model` or the\u001b[39;00m\n\u001b[0;32m   (...)\u001b[0m\n\u001b[1;32m   2695\u001b[0m \u001b[39m    ```\u001b[39;00m\n\u001b[1;32m   2696\u001b[0m \u001b[39m    \"\"\"\u001b[39;00m\n\u001b[0;32m-> 2698\u001b[0m     save\u001b[39m.\u001b[39;49msave_model(\n\u001b[1;32m   2699\u001b[0m         \u001b[39mself\u001b[39;49m,\n\u001b[1;32m   2700\u001b[0m         filepath,\n\u001b[1;32m   2701\u001b[0m         overwrite,\n\u001b[1;32m   2702\u001b[0m         include_optimizer,\n\u001b[1;32m   2703\u001b[0m         save_format,\n\u001b[1;32m   2704\u001b[0m         signatures,\n\u001b[1;32m   2705\u001b[0m         options,\n\u001b[1;32m   2706\u001b[0m         save_traces,\n\u001b[1;32m   2707\u001b[0m     )\n",
      "File \u001b[0;32m~/opt/anaconda3/envs/cs-172b/lib/python3.10/site-packages/keras/utils/traceback_utils.py:65\u001b[0m, in \u001b[0;36mfilter_traceback.<locals>.error_handler\u001b[0;34m(*args, **kwargs)\u001b[0m\n\u001b[1;32m     63\u001b[0m filtered_tb \u001b[39m=\u001b[39m \u001b[39mNone\u001b[39;00m\n\u001b[1;32m     64\u001b[0m \u001b[39mtry\u001b[39;00m:\n\u001b[0;32m---> 65\u001b[0m     \u001b[39mreturn\u001b[39;00m fn(\u001b[39m*\u001b[39;49margs, \u001b[39m*\u001b[39;49m\u001b[39m*\u001b[39;49mkwargs)\n\u001b[1;32m     66\u001b[0m \u001b[39mexcept\u001b[39;00m \u001b[39mException\u001b[39;00m \u001b[39mas\u001b[39;00m e:\n\u001b[1;32m     67\u001b[0m     filtered_tb \u001b[39m=\u001b[39m _process_traceback_frames(e\u001b[39m.\u001b[39m__traceback__)\n",
      "File \u001b[0;32m~/opt/anaconda3/envs/cs-172b/lib/python3.10/site-packages/keras/saving/save.py:166\u001b[0m, in \u001b[0;36msave_model\u001b[0;34m(model, filepath, overwrite, include_optimizer, save_format, signatures, options, save_traces)\u001b[0m\n\u001b[1;32m    164\u001b[0m \u001b[39melse\u001b[39;00m:\n\u001b[1;32m    165\u001b[0m     \u001b[39mwith\u001b[39;00m generic_utils\u001b[39m.\u001b[39mSharedObjectSavingScope():\n\u001b[0;32m--> 166\u001b[0m         saved_model_save\u001b[39m.\u001b[39;49msave(\n\u001b[1;32m    167\u001b[0m             model,\n\u001b[1;32m    168\u001b[0m             filepath,\n\u001b[1;32m    169\u001b[0m             overwrite,\n\u001b[1;32m    170\u001b[0m             include_optimizer,\n\u001b[1;32m    171\u001b[0m             signatures,\n\u001b[1;32m    172\u001b[0m             options,\n\u001b[1;32m    173\u001b[0m             save_traces,\n\u001b[1;32m    174\u001b[0m         )\n",
      "File \u001b[0;32m~/opt/anaconda3/envs/cs-172b/lib/python3.10/site-packages/keras/saving/saved_model/save.py:97\u001b[0m, in \u001b[0;36msave\u001b[0;34m(model, filepath, overwrite, include_optimizer, signatures, options, save_traces)\u001b[0m\n\u001b[1;32m     95\u001b[0m \u001b[39mwith\u001b[39;00m backend\u001b[39m.\u001b[39mdeprecated_internal_learning_phase_scope(\u001b[39m0\u001b[39m):\n\u001b[1;32m     96\u001b[0m     \u001b[39mwith\u001b[39;00m utils\u001b[39m.\u001b[39mkeras_option_scope(save_traces):\n\u001b[0;32m---> 97\u001b[0m         saved_nodes, node_paths \u001b[39m=\u001b[39m save_lib\u001b[39m.\u001b[39;49msave_and_return_nodes(\n\u001b[1;32m     98\u001b[0m             model, filepath, signatures, options\n\u001b[1;32m     99\u001b[0m         )\n\u001b[1;32m    101\u001b[0m     \u001b[39m# Save all metadata to a separate file in the SavedModel directory.\u001b[39;00m\n\u001b[1;32m    102\u001b[0m     metadata \u001b[39m=\u001b[39m generate_keras_metadata(saved_nodes, node_paths)\n",
      "File \u001b[0;32m~/opt/anaconda3/envs/cs-172b/lib/python3.10/site-packages/tensorflow/python/saved_model/save.py:1268\u001b[0m, in \u001b[0;36msave_and_return_nodes\u001b[0;34m(obj, export_dir, signatures, options, experimental_skip_checkpoint)\u001b[0m\n\u001b[1;32m   1264\u001b[0m saved_model \u001b[39m=\u001b[39m saved_model_pb2\u001b[39m.\u001b[39mSavedModel()\n\u001b[1;32m   1265\u001b[0m meta_graph_def \u001b[39m=\u001b[39m saved_model\u001b[39m.\u001b[39mmeta_graphs\u001b[39m.\u001b[39madd()\n\u001b[1;32m   1267\u001b[0m _, exported_graph, object_saver, asset_info, saved_nodes, node_paths \u001b[39m=\u001b[39m (\n\u001b[0;32m-> 1268\u001b[0m     _build_meta_graph(obj, signatures, options, meta_graph_def))\n\u001b[1;32m   1269\u001b[0m saved_model\u001b[39m.\u001b[39msaved_model_schema_version \u001b[39m=\u001b[39m (\n\u001b[1;32m   1270\u001b[0m     constants\u001b[39m.\u001b[39mSAVED_MODEL_SCHEMA_VERSION)\n\u001b[1;32m   1272\u001b[0m \u001b[39m# Write the checkpoint, copy assets into the assets directory, and write out\u001b[39;00m\n\u001b[1;32m   1273\u001b[0m \u001b[39m# the SavedModel proto itself.\u001b[39;00m\n",
      "File \u001b[0;32m~/opt/anaconda3/envs/cs-172b/lib/python3.10/site-packages/tensorflow/python/saved_model/save.py:1441\u001b[0m, in \u001b[0;36m_build_meta_graph\u001b[0;34m(obj, signatures, options, meta_graph_def)\u001b[0m\n\u001b[1;32m   1414\u001b[0m \u001b[39m\u001b[39m\u001b[39m\"\"\"Creates a MetaGraph under a save context.\u001b[39;00m\n\u001b[1;32m   1415\u001b[0m \n\u001b[1;32m   1416\u001b[0m \u001b[39mArgs:\u001b[39;00m\n\u001b[0;32m   (...)\u001b[0m\n\u001b[1;32m   1437\u001b[0m \u001b[39m  saveable_view.node_paths: _SaveableView paths.\u001b[39;00m\n\u001b[1;32m   1438\u001b[0m \u001b[39m\"\"\"\u001b[39;00m\n\u001b[1;32m   1440\u001b[0m \u001b[39mwith\u001b[39;00m save_context\u001b[39m.\u001b[39msave_context(options):\n\u001b[0;32m-> 1441\u001b[0m   \u001b[39mreturn\u001b[39;00m _build_meta_graph_impl(obj, signatures, options, meta_graph_def)\n",
      "File \u001b[0;32m~/opt/anaconda3/envs/cs-172b/lib/python3.10/site-packages/tensorflow/python/saved_model/save.py:1384\u001b[0m, in \u001b[0;36m_build_meta_graph_impl\u001b[0;34m(obj, signatures, options, meta_graph_def)\u001b[0m\n\u001b[1;32m   1382\u001b[0m augmented_graph_view \u001b[39m=\u001b[39m _AugmentedGraphView(obj)\n\u001b[1;32m   1383\u001b[0m \u001b[39mif\u001b[39;00m signatures \u001b[39mis\u001b[39;00m \u001b[39mNone\u001b[39;00m:\n\u001b[0;32m-> 1384\u001b[0m   signatures \u001b[39m=\u001b[39m signature_serialization\u001b[39m.\u001b[39;49mfind_function_to_export(\n\u001b[1;32m   1385\u001b[0m       augmented_graph_view)\n\u001b[1;32m   1387\u001b[0m signatures, wrapped_functions \u001b[39m=\u001b[39m (\n\u001b[1;32m   1388\u001b[0m     signature_serialization\u001b[39m.\u001b[39mcanonicalize_signatures(signatures))\n\u001b[1;32m   1389\u001b[0m signature_serialization\u001b[39m.\u001b[39mvalidate_augmented_graph_view(augmented_graph_view)\n",
      "File \u001b[0;32m~/opt/anaconda3/envs/cs-172b/lib/python3.10/site-packages/tensorflow/python/saved_model/signature_serialization.py:103\u001b[0m, in \u001b[0;36mfind_function_to_export\u001b[0;34m(saveable_view)\u001b[0m\n\u001b[1;32m     99\u001b[0m \u001b[39m# TODO(b/205014194): Discuss removing this behaviour. It can lead to WTFs when\u001b[39;00m\n\u001b[1;32m    100\u001b[0m \u001b[39m# a user decides to annotate more functions with tf.function and suddenly\u001b[39;00m\n\u001b[1;32m    101\u001b[0m \u001b[39m# serving that model way later in the process stops working.\u001b[39;00m\n\u001b[1;32m    102\u001b[0m possible_signatures \u001b[39m=\u001b[39m []\n\u001b[0;32m--> 103\u001b[0m \u001b[39mfor\u001b[39;00m name, child \u001b[39min\u001b[39;00m children:\n\u001b[1;32m    104\u001b[0m   \u001b[39mif\u001b[39;00m \u001b[39mnot\u001b[39;00m \u001b[39misinstance\u001b[39m(child, (def_function\u001b[39m.\u001b[39mFunction, defun\u001b[39m.\u001b[39mConcreteFunction)):\n\u001b[1;32m    105\u001b[0m     \u001b[39mcontinue\u001b[39;00m\n",
      "File \u001b[0;32m~/opt/anaconda3/envs/cs-172b/lib/python3.10/site-packages/tensorflow/python/saved_model/save.py:175\u001b[0m, in \u001b[0;36m_AugmentedGraphView.list_children\u001b[0;34m(self, obj)\u001b[0m\n\u001b[1;32m    172\u001b[0m \u001b[39mif\u001b[39;00m obj \u001b[39mnot\u001b[39;00m \u001b[39min\u001b[39;00m \u001b[39mself\u001b[39m\u001b[39m.\u001b[39m_children_cache:\n\u001b[1;32m    173\u001b[0m   children \u001b[39m=\u001b[39m \u001b[39mself\u001b[39m\u001b[39m.\u001b[39m_children_cache[obj] \u001b[39m=\u001b[39m {}\n\u001b[0;32m--> 175\u001b[0m   \u001b[39mfor\u001b[39;00m name, child \u001b[39min\u001b[39;00m \u001b[39msuper\u001b[39;49m(_AugmentedGraphView, \u001b[39mself\u001b[39;49m)\u001b[39m.\u001b[39;49mlist_children(\n\u001b[1;32m    176\u001b[0m       obj,\n\u001b[1;32m    177\u001b[0m       save_type\u001b[39m=\u001b[39;49mbase\u001b[39m.\u001b[39;49mSaveType\u001b[39m.\u001b[39;49mSAVEDMODEL,\n\u001b[1;32m    178\u001b[0m       cache\u001b[39m=\u001b[39;49m\u001b[39mself\u001b[39;49m\u001b[39m.\u001b[39;49m_serialization_cache):\n\u001b[1;32m    179\u001b[0m     \u001b[39mif\u001b[39;00m \u001b[39misinstance\u001b[39m(child, defun\u001b[39m.\u001b[39mConcreteFunction):\n\u001b[1;32m    180\u001b[0m       child \u001b[39m=\u001b[39m \u001b[39mself\u001b[39m\u001b[39m.\u001b[39m_maybe_uncache_variable_captures(child)\n",
      "File \u001b[0;32m~/opt/anaconda3/envs/cs-172b/lib/python3.10/site-packages/tensorflow/python/checkpoint/graph_view.py:75\u001b[0m, in \u001b[0;36mObjectGraphView.list_children\u001b[0;34m(self, obj, save_type, **kwargs)\u001b[0m\n\u001b[1;32m     64\u001b[0m \u001b[39m\u001b[39m\u001b[39m\"\"\"Returns list of all child trackables attached to obj.\u001b[39;00m\n\u001b[1;32m     65\u001b[0m \n\u001b[1;32m     66\u001b[0m \u001b[39mArgs:\u001b[39;00m\n\u001b[0;32m   (...)\u001b[0m\n\u001b[1;32m     72\u001b[0m \u001b[39m  List of all children attached to the object.\u001b[39;00m\n\u001b[1;32m     73\u001b[0m \u001b[39m\"\"\"\u001b[39;00m\n\u001b[1;32m     74\u001b[0m children \u001b[39m=\u001b[39m []\n\u001b[0;32m---> 75\u001b[0m \u001b[39mfor\u001b[39;00m name, ref \u001b[39min\u001b[39;00m \u001b[39msuper\u001b[39;49m(ObjectGraphView,\n\u001b[1;32m     76\u001b[0m                        \u001b[39mself\u001b[39;49m)\u001b[39m.\u001b[39;49mchildren(obj, save_type, \u001b[39m*\u001b[39;49m\u001b[39m*\u001b[39;49mkwargs)\u001b[39m.\u001b[39mitems():\n\u001b[1;32m     77\u001b[0m   children\u001b[39m.\u001b[39mappend(base\u001b[39m.\u001b[39mTrackableReference(name, ref))\n\u001b[1;32m     79\u001b[0m \u001b[39m# GraphView objects may define children of the root object that are not\u001b[39;00m\n\u001b[1;32m     80\u001b[0m \u001b[39m# actually attached, e.g. a Checkpoint object's save_counter.\u001b[39;00m\n",
      "File \u001b[0;32m~/opt/anaconda3/envs/cs-172b/lib/python3.10/site-packages/tensorflow/python/checkpoint/trackable_view.py:84\u001b[0m, in \u001b[0;36mTrackableView.children\u001b[0;34m(cls, obj, save_type, **kwargs)\u001b[0m\n\u001b[1;32m     82\u001b[0m obj\u001b[39m.\u001b[39m_maybe_initialize_trackable()\n\u001b[1;32m     83\u001b[0m children \u001b[39m=\u001b[39m {}\n\u001b[0;32m---> 84\u001b[0m \u001b[39mfor\u001b[39;00m name, ref \u001b[39min\u001b[39;00m obj\u001b[39m.\u001b[39;49m_trackable_children(save_type, \u001b[39m*\u001b[39;49m\u001b[39m*\u001b[39;49mkwargs)\u001b[39m.\u001b[39mitems():\n\u001b[1;32m     85\u001b[0m   ref \u001b[39m=\u001b[39m converter\u001b[39m.\u001b[39mconvert_to_trackable(ref, parent\u001b[39m=\u001b[39mobj)\n\u001b[1;32m     86\u001b[0m   children[name] \u001b[39m=\u001b[39m ref\n",
      "File \u001b[0;32m~/opt/anaconda3/envs/cs-172b/lib/python3.10/site-packages/keras/engine/functional.py:459\u001b[0m, in \u001b[0;36mFunctional._trackable_children\u001b[0;34m(self, save_type, **kwargs)\u001b[0m\n\u001b[1;32m    457\u001b[0m \u001b[39mdef\u001b[39;00m \u001b[39m_trackable_children\u001b[39m(\u001b[39mself\u001b[39m, save_type\u001b[39m=\u001b[39m\u001b[39m\"\u001b[39m\u001b[39mcheckpoint\u001b[39m\u001b[39m\"\u001b[39m, \u001b[39m*\u001b[39m\u001b[39m*\u001b[39mkwargs):\n\u001b[1;32m    458\u001b[0m     dependencies \u001b[39m=\u001b[39m \u001b[39mself\u001b[39m\u001b[39m.\u001b[39m_layer_checkpoint_dependencies\n\u001b[0;32m--> 459\u001b[0m     dependencies\u001b[39m.\u001b[39mupdate(\u001b[39msuper\u001b[39;49m()\u001b[39m.\u001b[39;49m_trackable_children(save_type, \u001b[39m*\u001b[39;49m\u001b[39m*\u001b[39;49mkwargs))\n\u001b[1;32m    460\u001b[0m     \u001b[39mreturn\u001b[39;00m dependencies\n",
      "File \u001b[0;32m~/opt/anaconda3/envs/cs-172b/lib/python3.10/site-packages/keras/engine/training.py:3666\u001b[0m, in \u001b[0;36mModel._trackable_children\u001b[0;34m(self, save_type, **kwargs)\u001b[0m\n\u001b[1;32m   3663\u001b[0m     \u001b[39mself\u001b[39m\u001b[39m.\u001b[39mpredict_function \u001b[39m=\u001b[39m \u001b[39mNone\u001b[39;00m\n\u001b[1;32m   3664\u001b[0m     \u001b[39mself\u001b[39m\u001b[39m.\u001b[39mtrain_tf_function \u001b[39m=\u001b[39m \u001b[39mNone\u001b[39;00m\n\u001b[0;32m-> 3666\u001b[0m children \u001b[39m=\u001b[39m \u001b[39msuper\u001b[39;49m()\u001b[39m.\u001b[39;49m_trackable_children(save_type, \u001b[39m*\u001b[39;49m\u001b[39m*\u001b[39;49mkwargs)\n\u001b[1;32m   3668\u001b[0m \u001b[39mif\u001b[39;00m save_type \u001b[39m==\u001b[39m \u001b[39m\"\u001b[39m\u001b[39msavedmodel\u001b[39m\u001b[39m\"\u001b[39m:\n\u001b[1;32m   3669\u001b[0m     \u001b[39mself\u001b[39m\u001b[39m.\u001b[39mtrain_function \u001b[39m=\u001b[39m train_function\n",
      "File \u001b[0;32m~/opt/anaconda3/envs/cs-172b/lib/python3.10/site-packages/keras/engine/base_layer.py:3337\u001b[0m, in \u001b[0;36mLayer._trackable_children\u001b[0;34m(self, save_type, **kwargs)\u001b[0m\n\u001b[1;32m   3333\u001b[0m     cache \u001b[39m=\u001b[39m kwargs[\u001b[39m\"\u001b[39m\u001b[39mcache\u001b[39m\u001b[39m\"\u001b[39m]\n\u001b[1;32m   3334\u001b[0m     \u001b[39m# TODO(b/213628533): This must be called before super() to ensure\u001b[39;00m\n\u001b[1;32m   3335\u001b[0m     \u001b[39m# that any input shape changes are applied before getting the config\u001b[39;00m\n\u001b[1;32m   3336\u001b[0m     \u001b[39m# of the model.\u001b[39;00m\n\u001b[0;32m-> 3337\u001b[0m     children \u001b[39m=\u001b[39m \u001b[39mself\u001b[39;49m\u001b[39m.\u001b[39;49m_trackable_saved_model_saver\u001b[39m.\u001b[39;49mtrackable_children(\n\u001b[1;32m   3338\u001b[0m         cache\n\u001b[1;32m   3339\u001b[0m     )\n\u001b[1;32m   3340\u001b[0m \u001b[39melse\u001b[39;00m:\n\u001b[1;32m   3341\u001b[0m     children \u001b[39m=\u001b[39m {}\n",
      "File \u001b[0;32m~/opt/anaconda3/envs/cs-172b/lib/python3.10/site-packages/keras/saving/saved_model/base_serialization.py:61\u001b[0m, in \u001b[0;36mSavedModelSaver.trackable_children\u001b[0;34m(self, serialization_cache)\u001b[0m\n\u001b[1;32m     58\u001b[0m \u001b[39mif\u001b[39;00m \u001b[39mnot\u001b[39;00m utils\u001b[39m.\u001b[39mshould_save_traces():\n\u001b[1;32m     59\u001b[0m     \u001b[39mreturn\u001b[39;00m {}\n\u001b[0;32m---> 61\u001b[0m children \u001b[39m=\u001b[39m \u001b[39mself\u001b[39;49m\u001b[39m.\u001b[39;49mobjects_to_serialize(serialization_cache)\n\u001b[1;32m     62\u001b[0m children\u001b[39m.\u001b[39mupdate(\u001b[39mself\u001b[39m\u001b[39m.\u001b[39mfunctions_to_serialize(serialization_cache))\n\u001b[1;32m     63\u001b[0m \u001b[39mreturn\u001b[39;00m children\n",
      "File \u001b[0;32m~/opt/anaconda3/envs/cs-172b/lib/python3.10/site-packages/keras/saving/saved_model/layer_serialization.py:79\u001b[0m, in \u001b[0;36mLayerSavedModelSaver.objects_to_serialize\u001b[0;34m(self, serialization_cache)\u001b[0m\n\u001b[1;32m     78\u001b[0m \u001b[39mdef\u001b[39;00m \u001b[39mobjects_to_serialize\u001b[39m(\u001b[39mself\u001b[39m, serialization_cache):\n\u001b[0;32m---> 79\u001b[0m     \u001b[39mreturn\u001b[39;00m \u001b[39mself\u001b[39;49m\u001b[39m.\u001b[39;49m_get_serialized_attributes(\n\u001b[1;32m     80\u001b[0m         serialization_cache\n\u001b[1;32m     81\u001b[0m     )\u001b[39m.\u001b[39mobjects_to_serialize\n",
      "File \u001b[0;32m~/opt/anaconda3/envs/cs-172b/lib/python3.10/site-packages/keras/saving/saved_model/layer_serialization.py:106\u001b[0m, in \u001b[0;36mLayerSavedModelSaver._get_serialized_attributes\u001b[0;34m(self, serialization_cache)\u001b[0m\n\u001b[1;32m    100\u001b[0m \u001b[39mif\u001b[39;00m (\n\u001b[1;32m    101\u001b[0m     save_impl\u001b[39m.\u001b[39mshould_skip_serialization(\u001b[39mself\u001b[39m\u001b[39m.\u001b[39mobj)\n\u001b[1;32m    102\u001b[0m     \u001b[39mor\u001b[39;00m \u001b[39mself\u001b[39m\u001b[39m.\u001b[39mobj\u001b[39m.\u001b[39m_must_restore_from_config\n\u001b[1;32m    103\u001b[0m ):\n\u001b[1;32m    104\u001b[0m     \u001b[39mreturn\u001b[39;00m serialized_attr\n\u001b[0;32m--> 106\u001b[0m object_dict, function_dict \u001b[39m=\u001b[39m \u001b[39mself\u001b[39;49m\u001b[39m.\u001b[39;49m_get_serialized_attributes_internal(\n\u001b[1;32m    107\u001b[0m     serialization_cache\n\u001b[1;32m    108\u001b[0m )\n\u001b[1;32m    110\u001b[0m serialized_attr\u001b[39m.\u001b[39mset_and_validate_objects(object_dict)\n\u001b[1;32m    111\u001b[0m serialized_attr\u001b[39m.\u001b[39mset_and_validate_functions(function_dict)\n",
      "File \u001b[0;32m~/opt/anaconda3/envs/cs-172b/lib/python3.10/site-packages/keras/saving/saved_model/model_serialization.py:57\u001b[0m, in \u001b[0;36mModelSavedModelSaver._get_serialized_attributes_internal\u001b[0;34m(self, serialization_cache)\u001b[0m\n\u001b[1;32m     53\u001b[0m     default_signature \u001b[39m=\u001b[39m save_impl\u001b[39m.\u001b[39mdefault_save_signature(\u001b[39mself\u001b[39m\u001b[39m.\u001b[39mobj)\n\u001b[1;32m     55\u001b[0m \u001b[39m# Other than the default signature function, all other attributes match\u001b[39;00m\n\u001b[1;32m     56\u001b[0m \u001b[39m# with the ones serialized by Layer.\u001b[39;00m\n\u001b[0;32m---> 57\u001b[0m objects, functions \u001b[39m=\u001b[39m \u001b[39msuper\u001b[39;49m()\u001b[39m.\u001b[39;49m_get_serialized_attributes_internal(\n\u001b[1;32m     58\u001b[0m     serialization_cache\n\u001b[1;32m     59\u001b[0m )\n\u001b[1;32m     60\u001b[0m functions[\u001b[39m\"\u001b[39m\u001b[39m_default_save_signature\u001b[39m\u001b[39m\"\u001b[39m] \u001b[39m=\u001b[39m default_signature\n\u001b[1;32m     61\u001b[0m \u001b[39mreturn\u001b[39;00m objects, functions\n",
      "File \u001b[0;32m~/opt/anaconda3/envs/cs-172b/lib/python3.10/site-packages/keras/saving/saved_model/layer_serialization.py:117\u001b[0m, in \u001b[0;36mLayerSavedModelSaver._get_serialized_attributes_internal\u001b[0;34m(self, serialization_cache)\u001b[0m\n\u001b[1;32m    115\u001b[0m \u001b[39m\u001b[39m\u001b[39m\"\"\"Returns dictionary of serialized attributes.\"\"\"\u001b[39;00m\n\u001b[1;32m    116\u001b[0m objects \u001b[39m=\u001b[39m save_impl\u001b[39m.\u001b[39mwrap_layer_objects(\u001b[39mself\u001b[39m\u001b[39m.\u001b[39mobj, serialization_cache)\n\u001b[0;32m--> 117\u001b[0m functions \u001b[39m=\u001b[39m save_impl\u001b[39m.\u001b[39;49mwrap_layer_functions(\n\u001b[1;32m    118\u001b[0m     \u001b[39mself\u001b[39;49m\u001b[39m.\u001b[39;49mobj, serialization_cache\n\u001b[1;32m    119\u001b[0m )\n\u001b[1;32m    120\u001b[0m \u001b[39m# Attribute validator requires that the default save signature is added\u001b[39;00m\n\u001b[1;32m    121\u001b[0m \u001b[39m# to function dict, even if the value is None.\u001b[39;00m\n\u001b[1;32m    122\u001b[0m functions[\u001b[39m\"\u001b[39m\u001b[39m_default_save_signature\u001b[39m\u001b[39m\"\u001b[39m] \u001b[39m=\u001b[39m \u001b[39mNone\u001b[39;00m\n",
      "File \u001b[0;32m~/opt/anaconda3/envs/cs-172b/lib/python3.10/site-packages/keras/saving/saved_model/save_impl.py:168\u001b[0m, in \u001b[0;36mwrap_layer_functions\u001b[0;34m(layer, serialization_cache)\u001b[0m\n\u001b[1;32m    161\u001b[0m     \u001b[39mreturn\u001b[39;00m {\n\u001b[1;32m    162\u001b[0m         fn_name: \u001b[39mgetattr\u001b[39m(layer\u001b[39m.\u001b[39mkeras_api, fn_name, \u001b[39mNone\u001b[39;00m)\n\u001b[1;32m    163\u001b[0m         \u001b[39mfor\u001b[39;00m fn_name \u001b[39min\u001b[39;00m serialized_attributes\u001b[39m.\u001b[39mLayerAttributes\u001b[39m.\u001b[39mall_functions\n\u001b[1;32m    164\u001b[0m     }\n\u001b[1;32m    166\u001b[0m \u001b[39m# Reset the losses of the layer and its children. The call function in each\u001b[39;00m\n\u001b[1;32m    167\u001b[0m \u001b[39m# child layer is replaced with tf.functions.\u001b[39;00m\n\u001b[0;32m--> 168\u001b[0m original_fns \u001b[39m=\u001b[39m _replace_child_layer_functions(layer, serialization_cache)\n\u001b[1;32m    169\u001b[0m original_losses \u001b[39m=\u001b[39m _reset_layer_losses(layer)\n\u001b[1;32m    171\u001b[0m \u001b[39m# Wrap all the layer call and activity regularizer functions.\u001b[39;00m\n\u001b[1;32m    172\u001b[0m \n\u001b[1;32m    173\u001b[0m \u001b[39m# Use LayerCallCollection to ensure that all layer call functions (__call__,\u001b[39;00m\n\u001b[1;32m    174\u001b[0m \u001b[39m# call with losses) are traced with the same inputs.\u001b[39;00m\n",
      "File \u001b[0;32m~/opt/anaconda3/envs/cs-172b/lib/python3.10/site-packages/keras/saving/saved_model/save_impl.py:307\u001b[0m, in \u001b[0;36m_replace_child_layer_functions\u001b[0;34m(layer, serialization_cache)\u001b[0m\n\u001b[1;32m    304\u001b[0m     \u001b[39mcontinue\u001b[39;00m\n\u001b[1;32m    306\u001b[0m \u001b[39mif\u001b[39;00m child_layer \u001b[39mnot\u001b[39;00m \u001b[39min\u001b[39;00m serialization_cache[constants\u001b[39m.\u001b[39mKERAS_CACHE_KEY]:\n\u001b[0;32m--> 307\u001b[0m     serialized_functions \u001b[39m=\u001b[39m child_layer\u001b[39m.\u001b[39;49m_trackable_saved_model_saver\u001b[39m.\u001b[39;49m_get_serialized_attributes(  \u001b[39m# noqa: E501\u001b[39;49;00m\n\u001b[1;32m    308\u001b[0m         serialization_cache\n\u001b[1;32m    309\u001b[0m     )\u001b[39m.\u001b[39mfunctions\n\u001b[1;32m    310\u001b[0m \u001b[39melse\u001b[39;00m:\n\u001b[1;32m    311\u001b[0m     serialized_functions \u001b[39m=\u001b[39m serialization_cache[\n\u001b[1;32m    312\u001b[0m         constants\u001b[39m.\u001b[39mKERAS_CACHE_KEY\n\u001b[1;32m    313\u001b[0m     ][child_layer]\u001b[39m.\u001b[39mfunctions\n",
      "File \u001b[0;32m~/opt/anaconda3/envs/cs-172b/lib/python3.10/site-packages/keras/saving/saved_model/layer_serialization.py:106\u001b[0m, in \u001b[0;36mLayerSavedModelSaver._get_serialized_attributes\u001b[0;34m(self, serialization_cache)\u001b[0m\n\u001b[1;32m    100\u001b[0m \u001b[39mif\u001b[39;00m (\n\u001b[1;32m    101\u001b[0m     save_impl\u001b[39m.\u001b[39mshould_skip_serialization(\u001b[39mself\u001b[39m\u001b[39m.\u001b[39mobj)\n\u001b[1;32m    102\u001b[0m     \u001b[39mor\u001b[39;00m \u001b[39mself\u001b[39m\u001b[39m.\u001b[39mobj\u001b[39m.\u001b[39m_must_restore_from_config\n\u001b[1;32m    103\u001b[0m ):\n\u001b[1;32m    104\u001b[0m     \u001b[39mreturn\u001b[39;00m serialized_attr\n\u001b[0;32m--> 106\u001b[0m object_dict, function_dict \u001b[39m=\u001b[39m \u001b[39mself\u001b[39;49m\u001b[39m.\u001b[39;49m_get_serialized_attributes_internal(\n\u001b[1;32m    107\u001b[0m     serialization_cache\n\u001b[1;32m    108\u001b[0m )\n\u001b[1;32m    110\u001b[0m serialized_attr\u001b[39m.\u001b[39mset_and_validate_objects(object_dict)\n\u001b[1;32m    111\u001b[0m serialized_attr\u001b[39m.\u001b[39mset_and_validate_functions(function_dict)\n",
      "File \u001b[0;32m~/opt/anaconda3/envs/cs-172b/lib/python3.10/site-packages/keras/saving/saved_model/model_serialization.py:57\u001b[0m, in \u001b[0;36mModelSavedModelSaver._get_serialized_attributes_internal\u001b[0;34m(self, serialization_cache)\u001b[0m\n\u001b[1;32m     53\u001b[0m     default_signature \u001b[39m=\u001b[39m save_impl\u001b[39m.\u001b[39mdefault_save_signature(\u001b[39mself\u001b[39m\u001b[39m.\u001b[39mobj)\n\u001b[1;32m     55\u001b[0m \u001b[39m# Other than the default signature function, all other attributes match\u001b[39;00m\n\u001b[1;32m     56\u001b[0m \u001b[39m# with the ones serialized by Layer.\u001b[39;00m\n\u001b[0;32m---> 57\u001b[0m objects, functions \u001b[39m=\u001b[39m \u001b[39msuper\u001b[39;49m()\u001b[39m.\u001b[39;49m_get_serialized_attributes_internal(\n\u001b[1;32m     58\u001b[0m     serialization_cache\n\u001b[1;32m     59\u001b[0m )\n\u001b[1;32m     60\u001b[0m functions[\u001b[39m\"\u001b[39m\u001b[39m_default_save_signature\u001b[39m\u001b[39m\"\u001b[39m] \u001b[39m=\u001b[39m default_signature\n\u001b[1;32m     61\u001b[0m \u001b[39mreturn\u001b[39;00m objects, functions\n",
      "File \u001b[0;32m~/opt/anaconda3/envs/cs-172b/lib/python3.10/site-packages/keras/saving/saved_model/layer_serialization.py:117\u001b[0m, in \u001b[0;36mLayerSavedModelSaver._get_serialized_attributes_internal\u001b[0;34m(self, serialization_cache)\u001b[0m\n\u001b[1;32m    115\u001b[0m \u001b[39m\u001b[39m\u001b[39m\"\"\"Returns dictionary of serialized attributes.\"\"\"\u001b[39;00m\n\u001b[1;32m    116\u001b[0m objects \u001b[39m=\u001b[39m save_impl\u001b[39m.\u001b[39mwrap_layer_objects(\u001b[39mself\u001b[39m\u001b[39m.\u001b[39mobj, serialization_cache)\n\u001b[0;32m--> 117\u001b[0m functions \u001b[39m=\u001b[39m save_impl\u001b[39m.\u001b[39;49mwrap_layer_functions(\n\u001b[1;32m    118\u001b[0m     \u001b[39mself\u001b[39;49m\u001b[39m.\u001b[39;49mobj, serialization_cache\n\u001b[1;32m    119\u001b[0m )\n\u001b[1;32m    120\u001b[0m \u001b[39m# Attribute validator requires that the default save signature is added\u001b[39;00m\n\u001b[1;32m    121\u001b[0m \u001b[39m# to function dict, even if the value is None.\u001b[39;00m\n\u001b[1;32m    122\u001b[0m functions[\u001b[39m\"\u001b[39m\u001b[39m_default_save_signature\u001b[39m\u001b[39m\"\u001b[39m] \u001b[39m=\u001b[39m \u001b[39mNone\u001b[39;00m\n",
      "File \u001b[0;32m~/opt/anaconda3/envs/cs-172b/lib/python3.10/site-packages/keras/saving/saved_model/save_impl.py:168\u001b[0m, in \u001b[0;36mwrap_layer_functions\u001b[0;34m(layer, serialization_cache)\u001b[0m\n\u001b[1;32m    161\u001b[0m     \u001b[39mreturn\u001b[39;00m {\n\u001b[1;32m    162\u001b[0m         fn_name: \u001b[39mgetattr\u001b[39m(layer\u001b[39m.\u001b[39mkeras_api, fn_name, \u001b[39mNone\u001b[39;00m)\n\u001b[1;32m    163\u001b[0m         \u001b[39mfor\u001b[39;00m fn_name \u001b[39min\u001b[39;00m serialized_attributes\u001b[39m.\u001b[39mLayerAttributes\u001b[39m.\u001b[39mall_functions\n\u001b[1;32m    164\u001b[0m     }\n\u001b[1;32m    166\u001b[0m \u001b[39m# Reset the losses of the layer and its children. The call function in each\u001b[39;00m\n\u001b[1;32m    167\u001b[0m \u001b[39m# child layer is replaced with tf.functions.\u001b[39;00m\n\u001b[0;32m--> 168\u001b[0m original_fns \u001b[39m=\u001b[39m _replace_child_layer_functions(layer, serialization_cache)\n\u001b[1;32m    169\u001b[0m original_losses \u001b[39m=\u001b[39m _reset_layer_losses(layer)\n\u001b[1;32m    171\u001b[0m \u001b[39m# Wrap all the layer call and activity regularizer functions.\u001b[39;00m\n\u001b[1;32m    172\u001b[0m \n\u001b[1;32m    173\u001b[0m \u001b[39m# Use LayerCallCollection to ensure that all layer call functions (__call__,\u001b[39;00m\n\u001b[1;32m    174\u001b[0m \u001b[39m# call with losses) are traced with the same inputs.\u001b[39;00m\n",
      "File \u001b[0;32m~/opt/anaconda3/envs/cs-172b/lib/python3.10/site-packages/keras/saving/saved_model/save_impl.py:307\u001b[0m, in \u001b[0;36m_replace_child_layer_functions\u001b[0;34m(layer, serialization_cache)\u001b[0m\n\u001b[1;32m    304\u001b[0m     \u001b[39mcontinue\u001b[39;00m\n\u001b[1;32m    306\u001b[0m \u001b[39mif\u001b[39;00m child_layer \u001b[39mnot\u001b[39;00m \u001b[39min\u001b[39;00m serialization_cache[constants\u001b[39m.\u001b[39mKERAS_CACHE_KEY]:\n\u001b[0;32m--> 307\u001b[0m     serialized_functions \u001b[39m=\u001b[39m child_layer\u001b[39m.\u001b[39;49m_trackable_saved_model_saver\u001b[39m.\u001b[39;49m_get_serialized_attributes(  \u001b[39m# noqa: E501\u001b[39;49;00m\n\u001b[1;32m    308\u001b[0m         serialization_cache\n\u001b[1;32m    309\u001b[0m     )\u001b[39m.\u001b[39mfunctions\n\u001b[1;32m    310\u001b[0m \u001b[39melse\u001b[39;00m:\n\u001b[1;32m    311\u001b[0m     serialized_functions \u001b[39m=\u001b[39m serialization_cache[\n\u001b[1;32m    312\u001b[0m         constants\u001b[39m.\u001b[39mKERAS_CACHE_KEY\n\u001b[1;32m    313\u001b[0m     ][child_layer]\u001b[39m.\u001b[39mfunctions\n",
      "File \u001b[0;32m~/opt/anaconda3/envs/cs-172b/lib/python3.10/site-packages/keras/saving/saved_model/layer_serialization.py:106\u001b[0m, in \u001b[0;36mLayerSavedModelSaver._get_serialized_attributes\u001b[0;34m(self, serialization_cache)\u001b[0m\n\u001b[1;32m    100\u001b[0m \u001b[39mif\u001b[39;00m (\n\u001b[1;32m    101\u001b[0m     save_impl\u001b[39m.\u001b[39mshould_skip_serialization(\u001b[39mself\u001b[39m\u001b[39m.\u001b[39mobj)\n\u001b[1;32m    102\u001b[0m     \u001b[39mor\u001b[39;00m \u001b[39mself\u001b[39m\u001b[39m.\u001b[39mobj\u001b[39m.\u001b[39m_must_restore_from_config\n\u001b[1;32m    103\u001b[0m ):\n\u001b[1;32m    104\u001b[0m     \u001b[39mreturn\u001b[39;00m serialized_attr\n\u001b[0;32m--> 106\u001b[0m object_dict, function_dict \u001b[39m=\u001b[39m \u001b[39mself\u001b[39;49m\u001b[39m.\u001b[39;49m_get_serialized_attributes_internal(\n\u001b[1;32m    107\u001b[0m     serialization_cache\n\u001b[1;32m    108\u001b[0m )\n\u001b[1;32m    110\u001b[0m serialized_attr\u001b[39m.\u001b[39mset_and_validate_objects(object_dict)\n\u001b[1;32m    111\u001b[0m serialized_attr\u001b[39m.\u001b[39mset_and_validate_functions(function_dict)\n",
      "File \u001b[0;32m~/opt/anaconda3/envs/cs-172b/lib/python3.10/site-packages/keras/saving/saved_model/layer_serialization.py:117\u001b[0m, in \u001b[0;36mLayerSavedModelSaver._get_serialized_attributes_internal\u001b[0;34m(self, serialization_cache)\u001b[0m\n\u001b[1;32m    115\u001b[0m \u001b[39m\u001b[39m\u001b[39m\"\"\"Returns dictionary of serialized attributes.\"\"\"\u001b[39;00m\n\u001b[1;32m    116\u001b[0m objects \u001b[39m=\u001b[39m save_impl\u001b[39m.\u001b[39mwrap_layer_objects(\u001b[39mself\u001b[39m\u001b[39m.\u001b[39mobj, serialization_cache)\n\u001b[0;32m--> 117\u001b[0m functions \u001b[39m=\u001b[39m save_impl\u001b[39m.\u001b[39;49mwrap_layer_functions(\n\u001b[1;32m    118\u001b[0m     \u001b[39mself\u001b[39;49m\u001b[39m.\u001b[39;49mobj, serialization_cache\n\u001b[1;32m    119\u001b[0m )\n\u001b[1;32m    120\u001b[0m \u001b[39m# Attribute validator requires that the default save signature is added\u001b[39;00m\n\u001b[1;32m    121\u001b[0m \u001b[39m# to function dict, even if the value is None.\u001b[39;00m\n\u001b[1;32m    122\u001b[0m functions[\u001b[39m\"\u001b[39m\u001b[39m_default_save_signature\u001b[39m\u001b[39m\"\u001b[39m] \u001b[39m=\u001b[39m \u001b[39mNone\u001b[39;00m\n",
      "File \u001b[0;32m~/opt/anaconda3/envs/cs-172b/lib/python3.10/site-packages/keras/saving/saved_model/save_impl.py:218\u001b[0m, in \u001b[0;36mwrap_layer_functions\u001b[0;34m(layer, serialization_cache)\u001b[0m\n\u001b[1;32m    213\u001b[0m     fns[\u001b[39m\"\u001b[39m\u001b[39mcall_and_return_all_conditional_losses\u001b[39m\u001b[39m\"\u001b[39m] \u001b[39m=\u001b[39m call_fn_with_losses\n\u001b[1;32m    215\u001b[0m \u001b[39m# Manually trigger traces before restoring the overwritten functions. The\u001b[39;00m\n\u001b[1;32m    216\u001b[0m \u001b[39m# functions are traced within the layer call context to ensure that layer\u001b[39;00m\n\u001b[1;32m    217\u001b[0m \u001b[39m# functions (e.g. add_loss) behave as though running in graph mode.\u001b[39;00m\n\u001b[0;32m--> 218\u001b[0m \u001b[39mwith\u001b[39;00m tracing_scope():\n\u001b[1;32m    219\u001b[0m     call_collection\u001b[39m.\u001b[39mtrace_with_input_signature()\n\u001b[1;32m    220\u001b[0m     \u001b[39mwith\u001b[39;00m base_layer_utils\u001b[39m.\u001b[39mcall_context()\u001b[39m.\u001b[39menter(\n\u001b[1;32m    221\u001b[0m         layer, inputs\u001b[39m=\u001b[39m\u001b[39mNone\u001b[39;00m, build_graph\u001b[39m=\u001b[39m\u001b[39mTrue\u001b[39;00m, training\u001b[39m=\u001b[39m\u001b[39mNone\u001b[39;00m, saving\u001b[39m=\u001b[39m\u001b[39mTrue\u001b[39;00m\n\u001b[1;32m    222\u001b[0m     ):\n",
      "File \u001b[0;32m~/opt/anaconda3/envs/cs-172b/lib/python3.10/contextlib.py:142\u001b[0m, in \u001b[0;36m_GeneratorContextManager.__exit__\u001b[0;34m(self, typ, value, traceback)\u001b[0m\n\u001b[1;32m    140\u001b[0m \u001b[39mif\u001b[39;00m typ \u001b[39mis\u001b[39;00m \u001b[39mNone\u001b[39;00m:\n\u001b[1;32m    141\u001b[0m     \u001b[39mtry\u001b[39;00m:\n\u001b[0;32m--> 142\u001b[0m         \u001b[39mnext\u001b[39;49m(\u001b[39mself\u001b[39;49m\u001b[39m.\u001b[39;49mgen)\n\u001b[1;32m    143\u001b[0m     \u001b[39mexcept\u001b[39;00m \u001b[39mStopIteration\u001b[39;00m:\n\u001b[1;32m    144\u001b[0m         \u001b[39mreturn\u001b[39;00m \u001b[39mFalse\u001b[39;00m\n",
      "File \u001b[0;32m~/opt/anaconda3/envs/cs-172b/lib/python3.10/site-packages/keras/saving/saved_model/save_impl.py:392\u001b[0m, in \u001b[0;36mtracing_scope\u001b[0;34m()\u001b[0m\n\u001b[1;32m    390\u001b[0m \u001b[39mif\u001b[39;00m training \u001b[39mis\u001b[39;00m \u001b[39mnot\u001b[39;00m \u001b[39mNone\u001b[39;00m:\n\u001b[1;32m    391\u001b[0m     \u001b[39mwith\u001b[39;00m backend\u001b[39m.\u001b[39mdeprecated_internal_learning_phase_scope(training):\n\u001b[0;32m--> 392\u001b[0m         fn\u001b[39m.\u001b[39;49mget_concrete_function(\u001b[39m*\u001b[39;49margs, \u001b[39m*\u001b[39;49m\u001b[39m*\u001b[39;49mkwargs)\n\u001b[1;32m    393\u001b[0m \u001b[39melse\u001b[39;00m:\n\u001b[1;32m    394\u001b[0m     fn\u001b[39m.\u001b[39mget_concrete_function(\u001b[39m*\u001b[39margs, \u001b[39m*\u001b[39m\u001b[39m*\u001b[39mkwargs)\n",
      "File \u001b[0;32m~/opt/anaconda3/envs/cs-172b/lib/python3.10/site-packages/tensorflow/python/eager/def_function.py:1239\u001b[0m, in \u001b[0;36mFunction.get_concrete_function\u001b[0;34m(self, *args, **kwargs)\u001b[0m\n\u001b[1;32m   1237\u001b[0m \u001b[39mdef\u001b[39;00m \u001b[39mget_concrete_function\u001b[39m(\u001b[39mself\u001b[39m, \u001b[39m*\u001b[39margs, \u001b[39m*\u001b[39m\u001b[39m*\u001b[39mkwargs):\n\u001b[1;32m   1238\u001b[0m   \u001b[39m# Implements GenericFunction.get_concrete_function.\u001b[39;00m\n\u001b[0;32m-> 1239\u001b[0m   concrete \u001b[39m=\u001b[39m \u001b[39mself\u001b[39;49m\u001b[39m.\u001b[39;49m_get_concrete_function_garbage_collected(\u001b[39m*\u001b[39;49margs, \u001b[39m*\u001b[39;49m\u001b[39m*\u001b[39;49mkwargs)\n\u001b[1;32m   1240\u001b[0m   concrete\u001b[39m.\u001b[39m_garbage_collector\u001b[39m.\u001b[39mrelease()  \u001b[39m# pylint: disable=protected-access\u001b[39;00m\n\u001b[1;32m   1241\u001b[0m   \u001b[39mreturn\u001b[39;00m concrete\n",
      "File \u001b[0;32m~/opt/anaconda3/envs/cs-172b/lib/python3.10/site-packages/tensorflow/python/eager/def_function.py:1230\u001b[0m, in \u001b[0;36mFunction._get_concrete_function_garbage_collected\u001b[0;34m(self, *args, **kwargs)\u001b[0m\n\u001b[1;32m   1225\u001b[0m   \u001b[39mreturn\u001b[39;00m \u001b[39mself\u001b[39m\u001b[39m.\u001b[39m_stateless_fn\u001b[39m.\u001b[39m_get_concrete_function_garbage_collected(  \u001b[39m# pylint: disable=protected-access\u001b[39;00m\n\u001b[1;32m   1226\u001b[0m       \u001b[39m*\u001b[39margs, \u001b[39m*\u001b[39m\u001b[39m*\u001b[39mkwargs)\n\u001b[1;32m   1227\u001b[0m \u001b[39melif\u001b[39;00m \u001b[39mself\u001b[39m\u001b[39m.\u001b[39m_stateful_fn \u001b[39mis\u001b[39;00m \u001b[39mnot\u001b[39;00m \u001b[39mNone\u001b[39;00m:\n\u001b[1;32m   1228\u001b[0m   \u001b[39m# In this case we have not created variables on the first call. So we can\u001b[39;00m\n\u001b[1;32m   1229\u001b[0m   \u001b[39m# run the first trace but we should fail if variables are created.\u001b[39;00m\n\u001b[0;32m-> 1230\u001b[0m   concrete \u001b[39m=\u001b[39m \u001b[39mself\u001b[39;49m\u001b[39m.\u001b[39;49m_stateful_fn\u001b[39m.\u001b[39;49m_get_concrete_function_garbage_collected(  \u001b[39m# pylint: disable=protected-access\u001b[39;49;00m\n\u001b[1;32m   1231\u001b[0m       \u001b[39m*\u001b[39;49margs, \u001b[39m*\u001b[39;49m\u001b[39m*\u001b[39;49mkwargs)\n\u001b[1;32m   1232\u001b[0m   \u001b[39mif\u001b[39;00m \u001b[39mself\u001b[39m\u001b[39m.\u001b[39m_created_variables:\n\u001b[1;32m   1233\u001b[0m     \u001b[39mraise\u001b[39;00m \u001b[39mValueError\u001b[39;00m(\u001b[39m\"\u001b[39m\u001b[39mCreating variables on a non-first call to a function\u001b[39m\u001b[39m\"\u001b[39m\n\u001b[1;32m   1234\u001b[0m                      \u001b[39m\"\u001b[39m\u001b[39m decorated with tf.function.\u001b[39m\u001b[39m\"\u001b[39m)\n",
      "File \u001b[0;32m~/opt/anaconda3/envs/cs-172b/lib/python3.10/site-packages/tensorflow/python/eager/function.py:2576\u001b[0m, in \u001b[0;36mFunction._get_concrete_function_garbage_collected\u001b[0;34m(self, *args, **kwargs)\u001b[0m\n\u001b[1;32m   2574\u001b[0m   args, kwargs \u001b[39m=\u001b[39m \u001b[39mNone\u001b[39;00m, \u001b[39mNone\u001b[39;00m\n\u001b[1;32m   2575\u001b[0m \u001b[39mwith\u001b[39;00m \u001b[39mself\u001b[39m\u001b[39m.\u001b[39m_lock:\n\u001b[0;32m-> 2576\u001b[0m   graph_function, _ \u001b[39m=\u001b[39m \u001b[39mself\u001b[39;49m\u001b[39m.\u001b[39;49m_maybe_define_function(args, kwargs)\n\u001b[1;32m   2577\u001b[0m   seen_names \u001b[39m=\u001b[39m \u001b[39mset\u001b[39m()\n\u001b[1;32m   2578\u001b[0m   captured \u001b[39m=\u001b[39m object_identity\u001b[39m.\u001b[39mObjectIdentitySet(\n\u001b[1;32m   2579\u001b[0m       graph_function\u001b[39m.\u001b[39mgraph\u001b[39m.\u001b[39minternal_captures)\n",
      "File \u001b[0;32m~/opt/anaconda3/envs/cs-172b/lib/python3.10/site-packages/tensorflow/python/eager/function.py:2760\u001b[0m, in \u001b[0;36mFunction._maybe_define_function\u001b[0;34m(self, args, kwargs)\u001b[0m\n\u001b[1;32m   2758\u001b[0m   \u001b[39m# Only get placeholders for arguments, not captures\u001b[39;00m\n\u001b[1;32m   2759\u001b[0m   args, kwargs \u001b[39m=\u001b[39m placeholder_dict[\u001b[39m\"\u001b[39m\u001b[39margs\u001b[39m\u001b[39m\"\u001b[39m]\n\u001b[0;32m-> 2760\u001b[0m graph_function \u001b[39m=\u001b[39m \u001b[39mself\u001b[39;49m\u001b[39m.\u001b[39;49m_create_graph_function(args, kwargs)\n\u001b[1;32m   2762\u001b[0m graph_capture_container \u001b[39m=\u001b[39m graph_function\u001b[39m.\u001b[39mgraph\u001b[39m.\u001b[39m_capture_func_lib  \u001b[39m# pylint: disable=protected-access\u001b[39;00m\n\u001b[1;32m   2763\u001b[0m \u001b[39m# Maintain the list of all captures\u001b[39;00m\n",
      "File \u001b[0;32m~/opt/anaconda3/envs/cs-172b/lib/python3.10/site-packages/tensorflow/python/eager/function.py:2669\u001b[0m, in \u001b[0;36mFunction._create_graph_function\u001b[0;34m(self, args, kwargs)\u001b[0m\n\u001b[1;32m   2665\u001b[0m missing_arg_names \u001b[39m=\u001b[39m [\n\u001b[1;32m   2666\u001b[0m     \u001b[39m\"\u001b[39m\u001b[39m%s\u001b[39;00m\u001b[39m_\u001b[39m\u001b[39m%d\u001b[39;00m\u001b[39m\"\u001b[39m \u001b[39m%\u001b[39m (arg, i) \u001b[39mfor\u001b[39;00m i, arg \u001b[39min\u001b[39;00m \u001b[39menumerate\u001b[39m(missing_arg_names)\n\u001b[1;32m   2667\u001b[0m ]\n\u001b[1;32m   2668\u001b[0m arg_names \u001b[39m=\u001b[39m base_arg_names \u001b[39m+\u001b[39m missing_arg_names\n\u001b[0;32m-> 2669\u001b[0m graph_function \u001b[39m=\u001b[39m ConcreteFunction(\n\u001b[1;32m   2670\u001b[0m     func_graph_module\u001b[39m.\u001b[39;49mfunc_graph_from_py_func(\n\u001b[1;32m   2671\u001b[0m         \u001b[39mself\u001b[39;49m\u001b[39m.\u001b[39;49m_name,\n\u001b[1;32m   2672\u001b[0m         \u001b[39mself\u001b[39;49m\u001b[39m.\u001b[39;49m_python_function,\n\u001b[1;32m   2673\u001b[0m         args,\n\u001b[1;32m   2674\u001b[0m         kwargs,\n\u001b[1;32m   2675\u001b[0m         \u001b[39mself\u001b[39;49m\u001b[39m.\u001b[39;49minput_signature,\n\u001b[1;32m   2676\u001b[0m         autograph\u001b[39m=\u001b[39;49m\u001b[39mself\u001b[39;49m\u001b[39m.\u001b[39;49m_autograph,\n\u001b[1;32m   2677\u001b[0m         autograph_options\u001b[39m=\u001b[39;49m\u001b[39mself\u001b[39;49m\u001b[39m.\u001b[39;49m_autograph_options,\n\u001b[1;32m   2678\u001b[0m         arg_names\u001b[39m=\u001b[39;49marg_names,\n\u001b[1;32m   2679\u001b[0m         capture_by_value\u001b[39m=\u001b[39;49m\u001b[39mself\u001b[39;49m\u001b[39m.\u001b[39;49m_capture_by_value),\n\u001b[1;32m   2680\u001b[0m     \u001b[39mself\u001b[39;49m\u001b[39m.\u001b[39;49m_function_attributes,\n\u001b[1;32m   2681\u001b[0m     spec\u001b[39m=\u001b[39;49m\u001b[39mself\u001b[39;49m\u001b[39m.\u001b[39;49mfunction_spec,\n\u001b[1;32m   2682\u001b[0m     \u001b[39m# Tell the ConcreteFunction to clean up its graph once it goes out of\u001b[39;49;00m\n\u001b[1;32m   2683\u001b[0m     \u001b[39m# scope. This is not the default behavior since it gets used in some\u001b[39;49;00m\n\u001b[1;32m   2684\u001b[0m     \u001b[39m# places (like Keras) where the FuncGraph lives longer than the\u001b[39;49;00m\n\u001b[1;32m   2685\u001b[0m     \u001b[39m# ConcreteFunction.\u001b[39;49;00m\n\u001b[1;32m   2686\u001b[0m     shared_func_graph\u001b[39m=\u001b[39;49m\u001b[39mFalse\u001b[39;49;00m)\n\u001b[1;32m   2687\u001b[0m \u001b[39mreturn\u001b[39;00m graph_function\n",
      "File \u001b[0;32m~/opt/anaconda3/envs/cs-172b/lib/python3.10/site-packages/tensorflow/python/eager/function.py:1494\u001b[0m, in \u001b[0;36mConcreteFunction.__init__\u001b[0;34m(self, func_graph, attrs, shared_func_graph, spec)\u001b[0m\n\u001b[1;32m   1488\u001b[0m   \u001b[39mself\u001b[39m\u001b[39m.\u001b[39m_garbage_collector \u001b[39m=\u001b[39m ConcreteFunctionGarbageCollector(func_graph)\n\u001b[1;32m   1490\u001b[0m \u001b[39m# Pairs of forward and backward functions used for computing gradients.\u001b[39;00m\n\u001b[1;32m   1491\u001b[0m \u001b[39m#\u001b[39;00m\n\u001b[1;32m   1492\u001b[0m \u001b[39m# These each get a reference to the FuncGraph deleter since they use the\u001b[39;00m\n\u001b[1;32m   1493\u001b[0m \u001b[39m# FuncGraph directly.\u001b[39;00m\n\u001b[0;32m-> 1494\u001b[0m \u001b[39mself\u001b[39m\u001b[39m.\u001b[39m_delayed_rewrite_functions \u001b[39m=\u001b[39m _DelayedRewriteGradientFunctions(\n\u001b[1;32m   1495\u001b[0m     func_graph, \u001b[39mself\u001b[39;49m\u001b[39m.\u001b[39;49m_attrs, \u001b[39mself\u001b[39;49m\u001b[39m.\u001b[39;49m_garbage_collector)\n\u001b[1;32m   1496\u001b[0m \u001b[39mself\u001b[39m\u001b[39m.\u001b[39m_first_order_tape_functions \u001b[39m=\u001b[39m {}\n\u001b[1;32m   1497\u001b[0m \u001b[39mself\u001b[39m\u001b[39m.\u001b[39m_higher_order_tape_functions \u001b[39m=\u001b[39m {}\n",
      "File \u001b[0;32m~/opt/anaconda3/envs/cs-172b/lib/python3.10/site-packages/tensorflow/python/eager/function.py:584\u001b[0m, in \u001b[0;36m_DelayedRewriteGradientFunctions.__init__\u001b[0;34m(self, func_graph, attrs, func_graph_deleter)\u001b[0m\n\u001b[1;32m    582\u001b[0m \u001b[39mself\u001b[39m\u001b[39m.\u001b[39m_cached_function_pairs \u001b[39m=\u001b[39m {}\n\u001b[1;32m    583\u001b[0m \u001b[39mself\u001b[39m\u001b[39m.\u001b[39m_func_graph \u001b[39m=\u001b[39m func_graph\n\u001b[0;32m--> 584\u001b[0m \u001b[39mself\u001b[39m\u001b[39m.\u001b[39m_inference_function \u001b[39m=\u001b[39m _EagerDefinedFunction(\n\u001b[1;32m    585\u001b[0m     _inference_name(\u001b[39mself\u001b[39;49m\u001b[39m.\u001b[39;49m_func_graph\u001b[39m.\u001b[39;49mname), \u001b[39mself\u001b[39;49m\u001b[39m.\u001b[39;49m_func_graph,\n\u001b[1;32m    586\u001b[0m     \u001b[39mself\u001b[39;49m\u001b[39m.\u001b[39;49m_func_graph\u001b[39m.\u001b[39;49minputs, \u001b[39mself\u001b[39;49m\u001b[39m.\u001b[39;49m_func_graph\u001b[39m.\u001b[39;49moutputs, attrs)\n\u001b[1;32m    587\u001b[0m \u001b[39mself\u001b[39m\u001b[39m.\u001b[39m_attrs \u001b[39m=\u001b[39m attrs\n\u001b[1;32m    588\u001b[0m \u001b[39mself\u001b[39m\u001b[39m.\u001b[39m_gradient_name \u001b[39m=\u001b[39m \u001b[39mNone\u001b[39;00m\n",
      "File \u001b[0;32m~/opt/anaconda3/envs/cs-172b/lib/python3.10/site-packages/tensorflow/python/eager/function.py:391\u001b[0m, in \u001b[0;36m_EagerDefinedFunction.__init__\u001b[0;34m(self, name, graph, inputs, outputs, attrs)\u001b[0m\n\u001b[1;32m    389\u001b[0m \u001b[39mif\u001b[39;00m context\u001b[39m.\u001b[39mexecuting_eagerly():\n\u001b[1;32m    390\u001b[0m   context\u001b[39m.\u001b[39mensure_initialized()\n\u001b[0;32m--> 391\u001b[0m   context\u001b[39m.\u001b[39;49madd_function(fn)\n\u001b[1;32m    392\u001b[0m   \u001b[39mself\u001b[39m\u001b[39m.\u001b[39m_function_deleter \u001b[39m=\u001b[39m _EagerDefinedFunctionDeleter(\u001b[39mself\u001b[39m\u001b[39m.\u001b[39mname)\n\u001b[1;32m    393\u001b[0m   \u001b[39mself\u001b[39m\u001b[39m.\u001b[39m_registered_on_context \u001b[39m=\u001b[39m \u001b[39mTrue\u001b[39;00m\n",
      "File \u001b[0;32m~/opt/anaconda3/envs/cs-172b/lib/python3.10/site-packages/tensorflow/python/eager/context.py:2735\u001b[0m, in \u001b[0;36madd_function\u001b[0;34m(fdef)\u001b[0m\n\u001b[1;32m   2733\u001b[0m \u001b[39mdef\u001b[39;00m \u001b[39madd_function\u001b[39m(fdef):\n\u001b[1;32m   2734\u001b[0m \u001b[39m  \u001b[39m\u001b[39m\"\"\"Add a function definition to the context.\"\"\"\u001b[39;00m\n\u001b[0;32m-> 2735\u001b[0m   context()\u001b[39m.\u001b[39;49madd_function(fdef)\n",
      "File \u001b[0;32m~/opt/anaconda3/envs/cs-172b/lib/python3.10/site-packages/tensorflow/python/eager/context.py:1311\u001b[0m, in \u001b[0;36mContext.add_function\u001b[0;34m(self, fn)\u001b[0m\n\u001b[1;32m   1302\u001b[0m \u001b[39m\u001b[39m\u001b[39m\"\"\"Add a function definition to the context.\u001b[39;00m\n\u001b[1;32m   1303\u001b[0m \n\u001b[1;32m   1304\u001b[0m \u001b[39mOnce added, the function (identified by its name) can be executed like any\u001b[39;00m\n\u001b[0;32m   (...)\u001b[0m\n\u001b[1;32m   1308\u001b[0m \u001b[39m  fn: A wrapped TF_Function (returned from TF_GraphToFunction_wrapper).\u001b[39;00m\n\u001b[1;32m   1309\u001b[0m \u001b[39m\"\"\"\u001b[39;00m\n\u001b[1;32m   1310\u001b[0m \u001b[39mself\u001b[39m\u001b[39m.\u001b[39mensure_initialized()\n\u001b[0;32m-> 1311\u001b[0m pywrap_tfe\u001b[39m.\u001b[39;49mTFE_ContextAddFunction(\u001b[39mself\u001b[39;49m\u001b[39m.\u001b[39;49m_handle, fn)\n",
      "\u001b[0;31mKeyboardInterrupt\u001b[0m: "
     ]
    }
   ],
   "source": [
    "#####################################################################\n",
    "###            ONE-RUN Hyperparameters to Be Tested               ###\n",
    "#####################################################################\n",
    "# hyperparameters\n",
    "# Note: for optimizer, just write if statement or create simple function\n",
    "#           to create the optimizer object based on str value\n",
    "hyperparam_pooling = 'avg'\n",
    "hyperparam_bias_init = RandomUniform(minval=-0.01, maxval=0.01, seed=seed)\n",
    "hyperparam_lr = 0.008\n",
    "hyperparam_optimizer = 'Adamax'\n",
    "hyperparam_batch_size = 128\n",
    "hyperparam_activation_function = 'relu'\n",
    "hyperparam_bias_regularizer = 'l2'\n",
    "hyperparam_dropout_rate = 0.4   # if using dropout layer(s)\n",
    "hyperparam_loss_function = tf.keras.losses.SparseCategoricalCrossentropy(from_logits=False)\n",
    "hyperparam_epoch = 100\n",
    "\n",
    "hyperparameters = {\n",
    "  # note: avg pooling returns a 2D tensor...idk wtf that is but probs need to resize somewhere\n",
    "  'pooling': hyperparam_pooling,\n",
    "  'bias_init': hyperparam_bias_init,\n",
    "  'lr': hyperparam_lr,\n",
    "  'optimizer': hyperparam_optimizer,\n",
    "  'batch_size': hyperparam_batch_size,\n",
    "  'activation_function': hyperparam_activation_function,\n",
    "  'bias_regularizer': hyperparam_bias_regularizer,\n",
    "  'dropout_rate': hyperparam_dropout_rate,\n",
    "  'loss_function': hyperparam_loss_function,\n",
    "  'epoch': hyperparam_epoch,\n",
    "}\n",
    "\n",
    "print(f'MODEL TRAINING WITH THE FOLLOWING HYPER-PARAMETERS: ')\n",
    "for key, value in hyperparameters.items():\n",
    "  print(f'\\t{key} value: {value}')\n",
    "\n",
    "\n",
    "#####################################################################\n",
    "###                    Load ResNet base_model                     ###\n",
    "#####################################################################\n",
    "base_model = ResNet50V2(include_top=False, \n",
    "                        weights='imagenet', \n",
    "                        input_shape=(48, 48, 3), \n",
    "                        pooling=hyperparam_pooling)\n",
    "\n",
    "# freeze weights of base_model - note: this works because the 'trainable' attribute is recursive \n",
    "# (i.e. bc we freeze the base model, every layer in the model is frozen)\n",
    "base_model.trainable = False\n",
    "# for layer in base_model.layers:\n",
    "#     layer.trainable = False\n",
    "\n",
    "\n",
    "#####################################################################\n",
    "###                         Create Model                          ###\n",
    "#####################################################################\n",
    "# trying kernel_size=(7, 7); worked kinda, overfitting now, training data saw increase but not validation\n",
    "# trying kernel_size=(30, 30); same thing, overfitting, but better\n",
    "# trying dropout_rate=0.4\n",
    "# trying learning_rate = 0.005 (instead of 0.001); worked better kinda\n",
    "# trying GlobalAveragePooling2D() (instead of MaxPool2D() + Dense()); didn't work as well\n",
    "# trying learning_rate = 0.008 (instead of 0.005); didn't work better\n",
    "model = keras.Sequential([\n",
    "    base_model,\n",
    "    # Flatten(),\n",
    "    BatchNormalization(),\n",
    "    Reshape(target_shape=(32, 32, 2)),\n",
    "    Conv2D(64, kernel_size=(30, 30), activation=hyperparam_activation_function),\n",
    "    Dropout(rate=0.4),\n",
    "    # MaxPool2D(pool_size=(2, 2)),\n",
    "    GlobalAveragePooling2D(),\n",
    "    Flatten(),\n",
    "    # Dense(256, activation=hyperparam_activation_function),\n",
    "    Dense(7, activation='softmax')\n",
    "])\n",
    "\n",
    "\n",
    "model.summary()\n",
    "#####################################################################\n",
    "###                        Compile Model                          ###\n",
    "#####################################################################\n",
    "model.compile(\n",
    "    loss = hyperparam_loss_function, \n",
    "    optimizer= Adamax(learning_rate=hyperparam_lr) if hyperparam_optimizer == 'Adamax' else Adam(learning_rate=hyperparam_lr), \n",
    "    metrics=['accuracy']\n",
    ")\n",
    "callbacks = [\n",
    "    keras.callbacks.ModelCheckpoint(\n",
    "        filepath = 'models/test', \n",
    "        save_freq = 'epoch',\n",
    "        save_best_only = True\n",
    "    )\n",
    "]\n",
    "\n",
    "#####################################################################\n",
    "###                          Fit Model                            ###\n",
    "#####################################################################\n",
    "history = model.fit(\n",
    "    X_train, Y_train, \n",
    "    validation_data=(X_validation, Y_validation),\n",
    "    batch_size=hyperparam_batch_size, \n",
    "    epochs=hyperparam_epoch, \n",
    "    callbacks = callbacks\n",
    ")\n",
    "\n",
    "\n",
    "#####################################################################\n",
    "###                    Plot Training Results                      ###\n",
    "### Note: Modify code to store plots in a excel spreadsheet       ###\n",
    "###         rather than plot.                                     ###\n",
    "#####################################################################\n",
    "acc = history.history['accuracy']\n",
    "val_acc = history.history['val_accuracy']\n",
    "loss = history.history['loss']\n",
    "val_loss = history.history['val_loss']\n",
    "\n",
    "plt.figure(figsize=(15, 15))\n",
    "plt.subplot(2, 2, 1)\n",
    "plt.plot(range(hyperparam_epoch), acc, label='Training Accuracy', color='red')\n",
    "plt.plot(range(hyperparam_epoch), val_acc, label='Validation Accuracy', color='blue')\n",
    "plt.legend(loc='lower right')\n",
    "plt.title('Training and Validation Accuracy')\n",
    "\n",
    "plt.subplot(2, 2, 2)\n",
    "plt.plot(range(hyperparam_epoch), loss, label='Training Loss', color='red')\n",
    "plt.plot(range(hyperparam_epoch), val_loss, label='Validation Loss', color='blue')\n",
    "plt.legend(loc='upper right')\n",
    "plt.title('Training and Validation Loss')\n",
    "plt.show()\n",
    "\n",
    "\n",
    "#####################################################################\n",
    "###              Best Model Prediction on Test Data               ###\n",
    "### Note: write best model's prediction in new 'results.csv' file ###\n",
    "#####################################################################\n",
    "del(model)\n",
    "model = load_model('models/test')\n",
    "prediction = model.predict(X_test) # for each datapoint, gives a (1,7) vector contains probabilities\n",
    "\n",
    "Y_prediction = np.argmax(prediction,axis = 1) # get the index(label) of highest probability for each \n",
    "prediction_accuracy = np.mean(Y_prediction==Y_test)\n",
    "print(f\"The accuracy on test data is: {prediction_accuracy*100:0.3f}%\")"
   ]
  },
  {
   "cell_type": "code",
   "execution_count": null,
   "metadata": {},
   "outputs": [],
   "source": [
    "font = ImageFont.load_default()\n",
    "visualkeras.layered_view(model, legend=True, font=font, to_file='visual.png')  # font is optional!"
   ]
  },
  {
   "cell_type": "code",
   "execution_count": null,
   "metadata": {},
   "outputs": [
    {
     "name": "stdout",
     "output_type": "stream",
     "text": [
      "Model: \"sequential_7\"\n",
      "_________________________________________________________________\n",
      " Layer (type)                Output Shape              Param #   \n",
      "=================================================================\n",
      " resnet50v2 (Functional)     (None, 2048)              23564800  \n",
      "                                                                 \n",
      " reshape_3 (Reshape)         (None, 32, 32, 2)         0         \n",
      "                                                                 \n",
      " conv2d_9 (Conv2D)           (None, 30, 30, 64)        1216      \n",
      "                                                                 \n",
      " conv2d_10 (Conv2D)          (None, 28, 28, 128)       73856     \n",
      "                                                                 \n",
      " max_pooling2d_30 (MaxPoolin  (None, 14, 14, 128)      0         \n",
      " g2D)                                                            \n",
      "                                                                 \n",
      " conv2d_11 (Conv2D)          (None, 12, 12, 256)       295168    \n",
      "                                                                 \n",
      " max_pooling2d_31 (MaxPoolin  (None, 6, 6, 256)        0         \n",
      " g2D)                                                            \n",
      "                                                                 \n",
      " flatten_7 (Flatten)         (None, 9216)              0         \n",
      "                                                                 \n",
      " dense_14 (Dense)            (None, 256)               2359552   \n",
      "                                                                 \n",
      " dense_15 (Dense)            (None, 7)                 1799      \n",
      "                                                                 \n",
      "=================================================================\n",
      "Total params: 26,296,391\n",
      "Trainable params: 2,731,591\n",
      "Non-trainable params: 23,564,800\n",
      "_________________________________________________________________\n",
      "Epoch 1/10\n",
      "673/673 [==============================] - ETA: 0s - loss: 1.6313 - accuracy: 0.3576"
     ]
    },
    {
     "name": "stderr",
     "output_type": "stream",
     "text": [
      "WARNING:absl:Found untraced functions such as _jit_compiled_convolution_op, _jit_compiled_convolution_op, _jit_compiled_convolution_op, _jit_compiled_convolution_op, _jit_compiled_convolution_op while saving (showing 5 of 56). These functions will not be directly callable after loading.\n"
     ]
    },
    {
     "name": "stdout",
     "output_type": "stream",
     "text": [
      "INFO:tensorflow:Assets written to: models/test/assets\n"
     ]
    },
    {
     "name": "stderr",
     "output_type": "stream",
     "text": [
      "INFO:tensorflow:Assets written to: models/test/assets\n"
     ]
    },
    {
     "name": "stdout",
     "output_type": "stream",
     "text": [
      "673/673 [==============================] - 1059s 1s/step - loss: 1.6313 - accuracy: 0.3576 - val_loss: 1.6577 - val_accuracy: 0.3454\n",
      "Epoch 2/10\n",
      "673/673 [==============================] - ETA: 0s - loss: 1.6273 - accuracy: 0.3588"
     ]
    },
    {
     "name": "stderr",
     "output_type": "stream",
     "text": [
      "WARNING:absl:Found untraced functions such as _jit_compiled_convolution_op, _jit_compiled_convolution_op, _jit_compiled_convolution_op, _jit_compiled_convolution_op, _jit_compiled_convolution_op while saving (showing 5 of 56). These functions will not be directly callable after loading.\n"
     ]
    },
    {
     "name": "stdout",
     "output_type": "stream",
     "text": [
      "INFO:tensorflow:Assets written to: models/test/assets\n"
     ]
    },
    {
     "name": "stderr",
     "output_type": "stream",
     "text": [
      "INFO:tensorflow:Assets written to: models/test/assets\n"
     ]
    },
    {
     "name": "stdout",
     "output_type": "stream",
     "text": [
      "673/673 [==============================] - 633s 940ms/step - loss: 1.6273 - accuracy: 0.3588 - val_loss: 1.6576 - val_accuracy: 0.3455\n",
      "Epoch 3/10\n",
      "673/673 [==============================] - ETA: 0s - loss: 1.6259 - accuracy: 0.3594"
     ]
    },
    {
     "name": "stderr",
     "output_type": "stream",
     "text": [
      "WARNING:absl:Found untraced functions such as _jit_compiled_convolution_op, _jit_compiled_convolution_op, _jit_compiled_convolution_op, _jit_compiled_convolution_op, _jit_compiled_convolution_op while saving (showing 5 of 56). These functions will not be directly callable after loading.\n"
     ]
    },
    {
     "name": "stdout",
     "output_type": "stream",
     "text": [
      "INFO:tensorflow:Assets written to: models/test/assets\n"
     ]
    },
    {
     "name": "stderr",
     "output_type": "stream",
     "text": [
      "INFO:tensorflow:Assets written to: models/test/assets\n"
     ]
    },
    {
     "name": "stdout",
     "output_type": "stream",
     "text": [
      "673/673 [==============================] - 387s 575ms/step - loss: 1.6259 - accuracy: 0.3594 - val_loss: 1.6561 - val_accuracy: 0.3482\n",
      "Epoch 4/10\n",
      "673/673 [==============================] - ETA: 0s - loss: 1.6248 - accuracy: 0.3610"
     ]
    },
    {
     "name": "stderr",
     "output_type": "stream",
     "text": [
      "WARNING:absl:Found untraced functions such as _jit_compiled_convolution_op, _jit_compiled_convolution_op, _jit_compiled_convolution_op, _jit_compiled_convolution_op, _jit_compiled_convolution_op while saving (showing 5 of 56). These functions will not be directly callable after loading.\n"
     ]
    },
    {
     "name": "stdout",
     "output_type": "stream",
     "text": [
      "INFO:tensorflow:Assets written to: models/test/assets\n"
     ]
    },
    {
     "name": "stderr",
     "output_type": "stream",
     "text": [
      "INFO:tensorflow:Assets written to: models/test/assets\n"
     ]
    },
    {
     "name": "stdout",
     "output_type": "stream",
     "text": [
      "673/673 [==============================] - 368s 547ms/step - loss: 1.6248 - accuracy: 0.3610 - val_loss: 1.6559 - val_accuracy: 0.3478\n",
      "Epoch 5/10\n",
      "673/673 [==============================] - ETA: 0s - loss: 1.6239 - accuracy: 0.3614"
     ]
    },
    {
     "name": "stderr",
     "output_type": "stream",
     "text": [
      "WARNING:absl:Found untraced functions such as _jit_compiled_convolution_op, _jit_compiled_convolution_op, _jit_compiled_convolution_op, _jit_compiled_convolution_op, _jit_compiled_convolution_op while saving (showing 5 of 56). These functions will not be directly callable after loading.\n"
     ]
    },
    {
     "name": "stdout",
     "output_type": "stream",
     "text": [
      "INFO:tensorflow:Assets written to: models/test/assets\n"
     ]
    },
    {
     "name": "stderr",
     "output_type": "stream",
     "text": [
      "INFO:tensorflow:Assets written to: models/test/assets\n"
     ]
    },
    {
     "name": "stdout",
     "output_type": "stream",
     "text": [
      "673/673 [==============================] - 356s 529ms/step - loss: 1.6239 - accuracy: 0.3614 - val_loss: 1.6553 - val_accuracy: 0.3494\n",
      "Epoch 6/10\n",
      "673/673 [==============================] - ETA: 0s - loss: 1.6233 - accuracy: 0.3611"
     ]
    },
    {
     "name": "stderr",
     "output_type": "stream",
     "text": [
      "WARNING:absl:Found untraced functions such as _jit_compiled_convolution_op, _jit_compiled_convolution_op, _jit_compiled_convolution_op, _jit_compiled_convolution_op, _jit_compiled_convolution_op while saving (showing 5 of 56). These functions will not be directly callable after loading.\n"
     ]
    },
    {
     "name": "stdout",
     "output_type": "stream",
     "text": [
      "INFO:tensorflow:Assets written to: models/test/assets\n"
     ]
    },
    {
     "name": "stderr",
     "output_type": "stream",
     "text": [
      "INFO:tensorflow:Assets written to: models/test/assets\n"
     ]
    },
    {
     "name": "stdout",
     "output_type": "stream",
     "text": [
      "673/673 [==============================] - 362s 538ms/step - loss: 1.6233 - accuracy: 0.3611 - val_loss: 1.6549 - val_accuracy: 0.3482\n",
      "Epoch 7/10\n",
      "673/673 [==============================] - ETA: 0s - loss: 1.6226 - accuracy: 0.3609"
     ]
    },
    {
     "name": "stderr",
     "output_type": "stream",
     "text": [
      "WARNING:absl:Found untraced functions such as _jit_compiled_convolution_op, _jit_compiled_convolution_op, _jit_compiled_convolution_op, _jit_compiled_convolution_op, _jit_compiled_convolution_op while saving (showing 5 of 56). These functions will not be directly callable after loading.\n"
     ]
    },
    {
     "name": "stdout",
     "output_type": "stream",
     "text": [
      "INFO:tensorflow:Assets written to: models/test/assets\n"
     ]
    },
    {
     "name": "stderr",
     "output_type": "stream",
     "text": [
      "INFO:tensorflow:Assets written to: models/test/assets\n"
     ]
    },
    {
     "name": "stdout",
     "output_type": "stream",
     "text": [
      "673/673 [==============================] - 354s 526ms/step - loss: 1.6226 - accuracy: 0.3609 - val_loss: 1.6546 - val_accuracy: 0.3488\n",
      "Epoch 8/10\n",
      "673/673 [==============================] - ETA: 0s - loss: 1.6220 - accuracy: 0.3608"
     ]
    },
    {
     "name": "stderr",
     "output_type": "stream",
     "text": [
      "WARNING:absl:Found untraced functions such as _jit_compiled_convolution_op, _jit_compiled_convolution_op, _jit_compiled_convolution_op, _jit_compiled_convolution_op, _jit_compiled_convolution_op while saving (showing 5 of 56). These functions will not be directly callable after loading.\n"
     ]
    },
    {
     "name": "stdout",
     "output_type": "stream",
     "text": [
      "INFO:tensorflow:Assets written to: models/test/assets\n"
     ]
    },
    {
     "name": "stderr",
     "output_type": "stream",
     "text": [
      "INFO:tensorflow:Assets written to: models/test/assets\n"
     ]
    },
    {
     "name": "stdout",
     "output_type": "stream",
     "text": [
      "673/673 [==============================] - 355s 527ms/step - loss: 1.6220 - accuracy: 0.3608 - val_loss: 1.6544 - val_accuracy: 0.3489\n",
      "Epoch 9/10\n",
      "673/673 [==============================] - ETA: 0s - loss: 1.6215 - accuracy: 0.3618"
     ]
    },
    {
     "name": "stderr",
     "output_type": "stream",
     "text": [
      "WARNING:absl:Found untraced functions such as _jit_compiled_convolution_op, _jit_compiled_convolution_op, _jit_compiled_convolution_op, _jit_compiled_convolution_op, _jit_compiled_convolution_op while saving (showing 5 of 56). These functions will not be directly callable after loading.\n"
     ]
    },
    {
     "name": "stdout",
     "output_type": "stream",
     "text": [
      "INFO:tensorflow:Assets written to: models/test/assets\n"
     ]
    },
    {
     "name": "stderr",
     "output_type": "stream",
     "text": [
      "INFO:tensorflow:Assets written to: models/test/assets\n"
     ]
    },
    {
     "name": "stdout",
     "output_type": "stream",
     "text": [
      "673/673 [==============================] - 357s 530ms/step - loss: 1.6215 - accuracy: 0.3618 - val_loss: 1.6539 - val_accuracy: 0.3499\n",
      "Epoch 10/10\n",
      "673/673 [==============================] - 336s 500ms/step - loss: 1.6210 - accuracy: 0.3619 - val_loss: 1.6540 - val_accuracy: 0.3503\n"
     ]
    },
    {
     "data": {
      "image/png": "[encoded data removed]",
      "text/plain": [
       "<Figure size 1500x1500 with 2 Axes>"
      ]
     },
     "metadata": {},
     "output_type": "display_data"
    },
    {
     "name": "stdout",
     "output_type": "stream",
     "text": [
      "225/225 [==============================] - 56s 245ms/step\n",
      "The accuracy on test data is: 35.093%\n"
     ]
    }
   ],
   "source": [
    "# Unfreeze the base_model. Note that it keeps running in inference mode\n",
    "# since we passed `training=False` when calling it. This means that\n",
    "# the batchnorm layers will not update their batch statistics.\n",
    "# This prevents the batchnorm layers from undoing all the training\n",
    "# we've done so far.\n",
    "base_model.trainable = True\n",
    "\n",
    "model.compile(\n",
    "    loss = hyperparam_loss_function, \n",
    "    optimizer= Adamax(learning_rate=1e-5) if hyperparam_optimizer == 'Adamax' else Adam(learning_rate=1e-5), \n",
    "    metrics=['accuracy']\n",
    ")\n",
    "model.summary()\n",
    "\n",
    "#####################################################################\n",
    "###                          Fit Model                            ###\n",
    "#####################################################################\n",
    "history = model.fit(\n",
    "    X_train, Y_train, \n",
    "    validation_data=(X_validation, Y_validation),\n",
    "    batch_size=hyperparam_batch_size, \n",
    "    epochs=hyperparam_epoch, \n",
    "    callbacks = callbacks\n",
    ")\n",
    "\n",
    "\n",
    "#####################################################################\n",
    "###                    Plot Training Results                      ###\n",
    "### Note: Modify code to store plots in a excel spreadsheet       ###\n",
    "###         rather than plot.                                     ###\n",
    "#####################################################################\n",
    "acc = history.history['accuracy']\n",
    "val_acc = history.history['val_accuracy']\n",
    "loss = history.history['loss']\n",
    "val_loss = history.history['val_loss']\n",
    "\n",
    "plt.figure(figsize=(15, 15))\n",
    "plt.subplot(2, 2, 1)\n",
    "plt.plot(range(hyperparam_epoch), acc, label='Training Accuracy', color='red')\n",
    "plt.plot(range(hyperparam_epoch), val_acc, label='Validation Accuracy', color='blue')\n",
    "plt.legend(loc='lower right')\n",
    "plt.title('Training and Validation Accuracy')\n",
    "\n",
    "plt.subplot(2, 2, 2)\n",
    "plt.plot(range(hyperparam_epoch), loss, label='Training Loss', color='red')\n",
    "plt.plot(range(hyperparam_epoch), val_loss, label='Validation Loss', color='blue')\n",
    "plt.legend(loc='upper right')\n",
    "plt.title('Training and Validation Loss')\n",
    "plt.show()\n",
    "\n",
    "\n",
    "#####################################################################\n",
    "###              Best Model Prediction on Test Data               ###\n",
    "### Note: write best model's prediction in new 'results.csv' file ###\n",
    "#####################################################################\n",
    "del(model)\n",
    "model = load_model('models/test')\n",
    "prediction = model.predict(X_test) # for each datapoint, gives a (1,7) vector contains probabilities\n",
    "\n",
    "Y_prediction = np.argmax(prediction,axis = 1) # get the index(label) of highest probability for each \n",
    "prediction_accuracy = np.mean(Y_prediction==Y_test)\n",
    "print(f\"The accuracy on test data is: {prediction_accuracy*100:0.3f}%\")"
   ]
  },
  {
   "cell_type": "code",
   "execution_count": null,
   "metadata": {},
   "outputs": [],
   "source": [
    "visualkeras.layered_view(model, legend=True, font=font, to_file='visual_post_unfreeze.png')  # font is optional!"
   ]
  },
  {
   "cell_type": "code",
   "execution_count": 5,
   "metadata": {},
   "outputs": [
    {
     "name": "stdout",
     "output_type": "stream",
     "text": [
      "MODEL: 4 TRAINING WITH THE FOLLOWING HYPER-PARAMETERS: \n",
      "hyperparameter currently being tested: bias_init [<keras.initializers.initializers_v2.Zeros object at 0x7f934f2048e0>]\n",
      "\tpooling value: avg\n",
      "\tbias_init value: <keras.initializers.initializers_v2.Zeros object at 0x7f934f2048e0>\n",
      "\tlr value: 0.01\n",
      "\toptimizer value: Adamax\n",
      "\tbatch_size value: 32\n",
      "\tactivation_function value: relu\n",
      "\tbias_regularizer value: l2\n",
      "\tdropout_rate value: 0.4\n",
      "\tloss_function value: <keras.losses.SparseCategoricalCrossentropy object at 0x7f934f204880>\n",
      "\tepoch value: 10\n"
     ]
    },
    {
     "name": "stderr",
     "output_type": "stream",
     "text": [
      "2023-06-04 01:38:59.995591: I tensorflow/core/platform/cpu_feature_guard.cc:193] This TensorFlow binary is optimized with oneAPI Deep Neural Network Library (oneDNN) to use the following CPU instructions in performance-critical operations:  SSE4.1 SSE4.2 AVX AVX2 AVX512F AVX512_VNNI FMA\n",
      "To enable them in other operations, rebuild TensorFlow with the appropriate compiler flags.\n"
     ]
    },
    {
     "name": "stdout",
     "output_type": "stream",
     "text": [
      "Model: \"model\"\n",
      "_________________________________________________________________\n",
      " Layer (type)                Output Shape              Param #   \n",
      "=================================================================\n",
      " input_2 (InputLayer)        [(None, 48, 48, 3)]       0         \n",
      "                                                                 \n",
      " resnet50v2 (Functional)     (None, 2048)              23564800  \n",
      "                                                                 \n",
      " dense-1 (Dense)             (None, 2048)              4196352   \n",
      "                                                                 \n",
      " dense-2 (Dense)             (None, 1024)              2098176   \n",
      "                                                                 \n",
      " dense-3 (Dense)             (None, 512)               524800    \n",
      "                                                                 \n",
      " dropout (Dropout)           (None, 512)               0         \n",
      "                                                                 \n",
      " dense-4 (Dense)             (None, 256)               131328    \n",
      "                                                                 \n",
      " dense_output (Dense)        (None, 7)                 1799      \n",
      "                                                                 \n",
      "=================================================================\n",
      "Total params: 30,517,255\n",
      "Trainable params: 6,952,455\n",
      "Non-trainable params: 23,564,800\n",
      "_________________________________________________________________\n",
      "Epoch 1/10\n",
      "673/673 [==============================] - ETA: 0s - loss: 1.9426 - accuracy: 0.2478"
     ]
    },
    {
     "name": "stderr",
     "output_type": "stream",
     "text": [
      "WARNING:absl:Found untraced functions such as _jit_compiled_convolution_op, _jit_compiled_convolution_op, _jit_compiled_convolution_op, _jit_compiled_convolution_op, _jit_compiled_convolution_op while saving (showing 5 of 53). These functions will not be directly callable after loading.\n"
     ]
    },
    {
     "name": "stdout",
     "output_type": "stream",
     "text": [
      "INFO:tensorflow:Assets written to: models/test/assets\n"
     ]
    },
    {
     "name": "stderr",
     "output_type": "stream",
     "text": [
      "INFO:tensorflow:Assets written to: models/test/assets\n"
     ]
    },
    {
     "name": "stdout",
     "output_type": "stream",
     "text": [
      "673/673 [==============================] - 540s 767ms/step - loss: 1.9426 - accuracy: 0.2478 - val_loss: 1.8070 - val_accuracy: 0.2449\n",
      "Epoch 2/10\n",
      "673/673 [==============================] - ETA: 0s - loss: 1.7947 - accuracy: 0.2610"
     ]
    },
    {
     "name": "stderr",
     "output_type": "stream",
     "text": [
      "WARNING:absl:Found untraced functions such as _jit_compiled_convolution_op, _jit_compiled_convolution_op, _jit_compiled_convolution_op, _jit_compiled_convolution_op, _jit_compiled_convolution_op while saving (showing 5 of 53). These functions will not be directly callable after loading.\n"
     ]
    },
    {
     "name": "stdout",
     "output_type": "stream",
     "text": [
      "INFO:tensorflow:Assets written to: models/test/assets\n"
     ]
    },
    {
     "name": "stderr",
     "output_type": "stream",
     "text": [
      "INFO:tensorflow:Assets written to: models/test/assets\n"
     ]
    },
    {
     "name": "stdout",
     "output_type": "stream",
     "text": [
      "673/673 [==============================] - 505s 751ms/step - loss: 1.7947 - accuracy: 0.2610 - val_loss: 1.7815 - val_accuracy: 0.2810\n",
      "Epoch 3/10\n",
      "673/673 [==============================] - ETA: 0s - loss: 1.7826 - accuracy: 0.2676"
     ]
    },
    {
     "name": "stderr",
     "output_type": "stream",
     "text": [
      "WARNING:absl:Found untraced functions such as _jit_compiled_convolution_op, _jit_compiled_convolution_op, _jit_compiled_convolution_op, _jit_compiled_convolution_op, _jit_compiled_convolution_op while saving (showing 5 of 53). These functions will not be directly callable after loading.\n"
     ]
    },
    {
     "name": "stdout",
     "output_type": "stream",
     "text": [
      "INFO:tensorflow:Assets written to: models/test/assets\n"
     ]
    },
    {
     "name": "stderr",
     "output_type": "stream",
     "text": [
      "INFO:tensorflow:Assets written to: models/test/assets\n"
     ]
    },
    {
     "name": "stdout",
     "output_type": "stream",
     "text": [
      "673/673 [==============================] - 491s 730ms/step - loss: 1.7826 - accuracy: 0.2676 - val_loss: 1.7796 - val_accuracy: 0.2731\n",
      "Epoch 4/10\n",
      "673/673 [==============================] - ETA: 0s - loss: 1.7728 - accuracy: 0.2721"
     ]
    },
    {
     "name": "stderr",
     "output_type": "stream",
     "text": [
      "WARNING:absl:Found untraced functions such as _jit_compiled_convolution_op, _jit_compiled_convolution_op, _jit_compiled_convolution_op, _jit_compiled_convolution_op, _jit_compiled_convolution_op while saving (showing 5 of 53). These functions will not be directly callable after loading.\n"
     ]
    },
    {
     "name": "stdout",
     "output_type": "stream",
     "text": [
      "INFO:tensorflow:Assets written to: models/test/assets\n"
     ]
    },
    {
     "name": "stderr",
     "output_type": "stream",
     "text": [
      "INFO:tensorflow:Assets written to: models/test/assets\n"
     ]
    },
    {
     "name": "stdout",
     "output_type": "stream",
     "text": [
      "673/673 [==============================] - 549s 816ms/step - loss: 1.7728 - accuracy: 0.2721 - val_loss: 1.7533 - val_accuracy: 0.2813\n",
      "Epoch 5/10\n",
      "673/673 [==============================] - ETA: 0s - loss: 1.7596 - accuracy: 0.2815"
     ]
    },
    {
     "name": "stderr",
     "output_type": "stream",
     "text": [
      "WARNING:absl:Found untraced functions such as _jit_compiled_convolution_op, _jit_compiled_convolution_op, _jit_compiled_convolution_op, _jit_compiled_convolution_op, _jit_compiled_convolution_op while saving (showing 5 of 53). These functions will not be directly callable after loading.\n"
     ]
    },
    {
     "name": "stdout",
     "output_type": "stream",
     "text": [
      "INFO:tensorflow:Assets written to: models/test/assets\n"
     ]
    },
    {
     "name": "stderr",
     "output_type": "stream",
     "text": [
      "INFO:tensorflow:Assets written to: models/test/assets\n"
     ]
    },
    {
     "name": "stdout",
     "output_type": "stream",
     "text": [
      "673/673 [==============================] - 455s 675ms/step - loss: 1.7596 - accuracy: 0.2815 - val_loss: 1.7420 - val_accuracy: 0.2957\n",
      "Epoch 6/10\n",
      "673/673 [==============================] - 437s 650ms/step - loss: 1.7499 - accuracy: 0.2843 - val_loss: 1.7608 - val_accuracy: 0.2769\n",
      "Epoch 7/10\n",
      "673/673 [==============================] - ETA: 0s - loss: 1.7378 - accuracy: 0.2896"
     ]
    },
    {
     "name": "stderr",
     "output_type": "stream",
     "text": [
      "WARNING:absl:Found untraced functions such as _jit_compiled_convolution_op, _jit_compiled_convolution_op, _jit_compiled_convolution_op, _jit_compiled_convolution_op, _jit_compiled_convolution_op while saving (showing 5 of 53). These functions will not be directly callable after loading.\n"
     ]
    },
    {
     "name": "stdout",
     "output_type": "stream",
     "text": [
      "INFO:tensorflow:Assets written to: models/test/assets\n"
     ]
    },
    {
     "name": "stderr",
     "output_type": "stream",
     "text": [
      "INFO:tensorflow:Assets written to: models/test/assets\n"
     ]
    },
    {
     "name": "stdout",
     "output_type": "stream",
     "text": [
      "673/673 [==============================] - 522s 776ms/step - loss: 1.7378 - accuracy: 0.2896 - val_loss: 1.7331 - val_accuracy: 0.2844\n",
      "Epoch 8/10\n",
      "673/673 [==============================] - 457s 679ms/step - loss: 1.7299 - accuracy: 0.2943 - val_loss: 1.7425 - val_accuracy: 0.2946\n",
      "Epoch 9/10\n",
      "673/673 [==============================] - ETA: 0s - loss: 1.7284 - accuracy: 0.2945"
     ]
    },
    {
     "name": "stderr",
     "output_type": "stream",
     "text": [
      "WARNING:absl:Found untraced functions such as _jit_compiled_convolution_op, _jit_compiled_convolution_op, _jit_compiled_convolution_op, _jit_compiled_convolution_op, _jit_compiled_convolution_op while saving (showing 5 of 53). These functions will not be directly callable after loading.\n"
     ]
    },
    {
     "name": "stdout",
     "output_type": "stream",
     "text": [
      "INFO:tensorflow:Assets written to: models/test/assets\n"
     ]
    },
    {
     "name": "stderr",
     "output_type": "stream",
     "text": [
      "INFO:tensorflow:Assets written to: models/test/assets\n"
     ]
    },
    {
     "name": "stdout",
     "output_type": "stream",
     "text": [
      "673/673 [==============================] - 516s 767ms/step - loss: 1.7284 - accuracy: 0.2945 - val_loss: 1.7131 - val_accuracy: 0.3132\n",
      "Epoch 10/10\n",
      "673/673 [==============================] - 465s 690ms/step - loss: 1.7197 - accuracy: 0.3019 - val_loss: 1.7271 - val_accuracy: 0.2979\n",
      "225/225 [==============================] - 72s 311ms/step\n",
      "The accuracy on test data is: 31.583%\n",
      "\n",
      "\n",
      "\n",
      "MODEL: 5 TRAINING WITH THE FOLLOWING HYPER-PARAMETERS: \n",
      "hyperparameter currently being tested: bias_init [<keras.initializers.initializers_v2.HeNormal object at 0x7f934f204820>]\n",
      "\tpooling value: avg\n",
      "\tbias_init value: <keras.initializers.initializers_v2.HeNormal object at 0x7f934f204820>\n",
      "\tlr value: 0.01\n",
      "\toptimizer value: Adamax\n",
      "\tbatch_size value: 32\n",
      "\tactivation_function value: relu\n",
      "\tbias_regularizer value: l2\n",
      "\tdropout_rate value: 0.4\n",
      "\tloss_function value: <keras.losses.SparseCategoricalCrossentropy object at 0x7f934f204880>\n",
      "\tepoch value: 10\n",
      "Model: \"model_1\"\n",
      "_________________________________________________________________\n",
      " Layer (type)                Output Shape              Param #   \n",
      "=================================================================\n",
      " input_4 (InputLayer)        [(None, 48, 48, 3)]       0         \n",
      "                                                                 \n",
      " resnet50v2 (Functional)     (None, 2048)              23564800  \n",
      "                                                                 \n",
      " dense-1 (Dense)             (None, 2048)              4196352   \n",
      "                                                                 \n",
      " dense-2 (Dense)             (None, 1024)              2098176   \n",
      "                                                                 \n",
      " dense-3 (Dense)             (None, 512)               524800    \n",
      "                                                                 \n",
      " dropout (Dropout)           (None, 512)               0         \n",
      "                                                                 \n",
      " dense-4 (Dense)             (None, 256)               131328    \n",
      "                                                                 \n",
      " dense_output (Dense)        (None, 7)                 1799      \n",
      "                                                                 \n",
      "=================================================================\n",
      "Total params: 30,517,255\n",
      "Trainable params: 6,952,455\n",
      "Non-trainable params: 23,564,800\n",
      "_________________________________________________________________\n",
      "Epoch 1/10\n",
      "673/673 [==============================] - ETA: 0s - loss: 1.9512 - accuracy: 0.2499"
     ]
    },
    {
     "name": "stderr",
     "output_type": "stream",
     "text": [
      "WARNING:absl:Found untraced functions such as _jit_compiled_convolution_op, _jit_compiled_convolution_op, _jit_compiled_convolution_op, _jit_compiled_convolution_op, _jit_compiled_convolution_op while saving (showing 5 of 53). These functions will not be directly callable after loading.\n"
     ]
    },
    {
     "name": "stdout",
     "output_type": "stream",
     "text": [
      "INFO:tensorflow:Assets written to: models/test/assets\n"
     ]
    },
    {
     "name": "stderr",
     "output_type": "stream",
     "text": [
      "INFO:tensorflow:Assets written to: models/test/assets\n"
     ]
    },
    {
     "name": "stdout",
     "output_type": "stream",
     "text": [
      "673/673 [==============================] - 623s 908ms/step - loss: 1.9512 - accuracy: 0.2499 - val_loss: 1.8266 - val_accuracy: 0.2456\n",
      "Epoch 2/10\n",
      "673/673 [==============================] - ETA: 0s - loss: 1.8037 - accuracy: 0.2519"
     ]
    },
    {
     "name": "stderr",
     "output_type": "stream",
     "text": [
      "WARNING:absl:Found untraced functions such as _jit_compiled_convolution_op, _jit_compiled_convolution_op, _jit_compiled_convolution_op, _jit_compiled_convolution_op, _jit_compiled_convolution_op while saving (showing 5 of 53). These functions will not be directly callable after loading.\n"
     ]
    },
    {
     "name": "stdout",
     "output_type": "stream",
     "text": [
      "INFO:tensorflow:Assets written to: models/test/assets\n"
     ]
    },
    {
     "name": "stderr",
     "output_type": "stream",
     "text": [
      "INFO:tensorflow:Assets written to: models/test/assets\n"
     ]
    },
    {
     "name": "stdout",
     "output_type": "stream",
     "text": [
      "673/673 [==============================] - 614s 912ms/step - loss: 1.8037 - accuracy: 0.2519 - val_loss: 1.7868 - val_accuracy: 0.2514\n",
      "Epoch 3/10\n",
      "673/673 [==============================] - ETA: 0s - loss: 1.7830 - accuracy: 0.2628"
     ]
    },
    {
     "name": "stderr",
     "output_type": "stream",
     "text": [
      "WARNING:absl:Found untraced functions such as _jit_compiled_convolution_op, _jit_compiled_convolution_op, _jit_compiled_convolution_op, _jit_compiled_convolution_op, _jit_compiled_convolution_op while saving (showing 5 of 53). These functions will not be directly callable after loading.\n"
     ]
    },
    {
     "name": "stdout",
     "output_type": "stream",
     "text": [
      "INFO:tensorflow:Assets written to: models/test/assets\n"
     ]
    },
    {
     "name": "stderr",
     "output_type": "stream",
     "text": [
      "INFO:tensorflow:Assets written to: models/test/assets\n"
     ]
    },
    {
     "name": "stdout",
     "output_type": "stream",
     "text": [
      "673/673 [==============================] - 636s 946ms/step - loss: 1.7830 - accuracy: 0.2628 - val_loss: 1.7737 - val_accuracy: 0.2596\n",
      "Epoch 4/10\n",
      "673/673 [==============================] - ETA: 0s - loss: 1.7663 - accuracy: 0.2673"
     ]
    },
    {
     "name": "stderr",
     "output_type": "stream",
     "text": [
      "WARNING:absl:Found untraced functions such as _jit_compiled_convolution_op, _jit_compiled_convolution_op, _jit_compiled_convolution_op, _jit_compiled_convolution_op, _jit_compiled_convolution_op while saving (showing 5 of 53). These functions will not be directly callable after loading.\n"
     ]
    },
    {
     "name": "stdout",
     "output_type": "stream",
     "text": [
      "INFO:tensorflow:Assets written to: models/test/assets\n"
     ]
    },
    {
     "name": "stderr",
     "output_type": "stream",
     "text": [
      "INFO:tensorflow:Assets written to: models/test/assets\n"
     ]
    },
    {
     "name": "stdout",
     "output_type": "stream",
     "text": [
      "673/673 [==============================] - 517s 768ms/step - loss: 1.7663 - accuracy: 0.2673 - val_loss: 1.7481 - val_accuracy: 0.2862\n",
      "Epoch 5/10\n",
      "673/673 [==============================] - ETA: 0s - loss: 1.7500 - accuracy: 0.2816"
     ]
    },
    {
     "name": "stderr",
     "output_type": "stream",
     "text": [
      "WARNING:absl:Found untraced functions such as _jit_compiled_convolution_op, _jit_compiled_convolution_op, _jit_compiled_convolution_op, _jit_compiled_convolution_op, _jit_compiled_convolution_op while saving (showing 5 of 53). These functions will not be directly callable after loading.\n"
     ]
    },
    {
     "name": "stdout",
     "output_type": "stream",
     "text": [
      "INFO:tensorflow:Assets written to: models/test/assets\n"
     ]
    },
    {
     "name": "stderr",
     "output_type": "stream",
     "text": [
      "INFO:tensorflow:Assets written to: models/test/assets\n"
     ]
    },
    {
     "name": "stdout",
     "output_type": "stream",
     "text": [
      "673/673 [==============================] - 518s 771ms/step - loss: 1.7500 - accuracy: 0.2816 - val_loss: 1.7283 - val_accuracy: 0.2922\n",
      "Epoch 6/10\n",
      "673/673 [==============================] - ETA: 0s - loss: 1.7390 - accuracy: 0.2908"
     ]
    },
    {
     "name": "stderr",
     "output_type": "stream",
     "text": [
      "WARNING:absl:Found untraced functions such as _jit_compiled_convolution_op, _jit_compiled_convolution_op, _jit_compiled_convolution_op, _jit_compiled_convolution_op, _jit_compiled_convolution_op while saving (showing 5 of 53). These functions will not be directly callable after loading.\n"
     ]
    },
    {
     "name": "stdout",
     "output_type": "stream",
     "text": [
      "INFO:tensorflow:Assets written to: models/test/assets\n"
     ]
    },
    {
     "name": "stderr",
     "output_type": "stream",
     "text": [
      "INFO:tensorflow:Assets written to: models/test/assets\n"
     ]
    },
    {
     "name": "stdout",
     "output_type": "stream",
     "text": [
      "673/673 [==============================] - 538s 800ms/step - loss: 1.7390 - accuracy: 0.2908 - val_loss: 1.7199 - val_accuracy: 0.3065\n",
      "Epoch 7/10\n",
      "673/673 [==============================] - ETA: 0s - loss: 1.7391 - accuracy: 0.2870"
     ]
    },
    {
     "name": "stderr",
     "output_type": "stream",
     "text": [
      "WARNING:absl:Found untraced functions such as _jit_compiled_convolution_op, _jit_compiled_convolution_op, _jit_compiled_convolution_op, _jit_compiled_convolution_op, _jit_compiled_convolution_op while saving (showing 5 of 53). These functions will not be directly callable after loading.\n"
     ]
    },
    {
     "name": "stdout",
     "output_type": "stream",
     "text": [
      "INFO:tensorflow:Assets written to: models/test/assets\n"
     ]
    },
    {
     "name": "stderr",
     "output_type": "stream",
     "text": [
      "INFO:tensorflow:Assets written to: models/test/assets\n"
     ]
    },
    {
     "name": "stdout",
     "output_type": "stream",
     "text": [
      "673/673 [==============================] - 532s 791ms/step - loss: 1.7391 - accuracy: 0.2870 - val_loss: 1.7150 - val_accuracy: 0.3131\n",
      "Epoch 8/10\n",
      "673/673 [==============================] - 425s 631ms/step - loss: 1.7248 - accuracy: 0.2999 - val_loss: 1.7332 - val_accuracy: 0.2950\n",
      "Epoch 9/10\n",
      "673/673 [==============================] - 475s 707ms/step - loss: 1.7205 - accuracy: 0.3008 - val_loss: 1.7213 - val_accuracy: 0.3120\n",
      "Epoch 10/10\n",
      "673/673 [==============================] - ETA: 0s - loss: 1.7222 - accuracy: 0.3006"
     ]
    },
    {
     "name": "stderr",
     "output_type": "stream",
     "text": [
      "WARNING:absl:Found untraced functions such as _jit_compiled_convolution_op, _jit_compiled_convolution_op, _jit_compiled_convolution_op, _jit_compiled_convolution_op, _jit_compiled_convolution_op while saving (showing 5 of 53). These functions will not be directly callable after loading.\n"
     ]
    },
    {
     "name": "stdout",
     "output_type": "stream",
     "text": [
      "INFO:tensorflow:Assets written to: models/test/assets\n"
     ]
    },
    {
     "name": "stderr",
     "output_type": "stream",
     "text": [
      "INFO:tensorflow:Assets written to: models/test/assets\n"
     ]
    },
    {
     "name": "stdout",
     "output_type": "stream",
     "text": [
      "673/673 [==============================] - 1102s 2s/step - loss: 1.7222 - accuracy: 0.3006 - val_loss: 1.7040 - val_accuracy: 0.3127\n",
      "225/225 [==============================] - 646s 3s/step\n",
      "The accuracy on test data is: 31.806%\n",
      "\n",
      "\n",
      "\n",
      "MODEL: 6 TRAINING WITH THE FOLLOWING HYPER-PARAMETERS: \n",
      "hyperparameter currently being tested: bias_init [<keras.initializers.initializers_v2.HeUniform object at 0x7f934f204760>]\n",
      "\tpooling value: avg\n",
      "\tbias_init value: <keras.initializers.initializers_v2.HeUniform object at 0x7f934f204760>\n",
      "\tlr value: 0.01\n",
      "\toptimizer value: Adamax\n",
      "\tbatch_size value: 32\n",
      "\tactivation_function value: relu\n",
      "\tbias_regularizer value: l2\n",
      "\tdropout_rate value: 0.4\n",
      "\tloss_function value: <keras.losses.SparseCategoricalCrossentropy object at 0x7f934f204880>\n",
      "\tepoch value: 10\n",
      "Model: \"model_2\"\n",
      "_________________________________________________________________\n",
      " Layer (type)                Output Shape              Param #   \n",
      "=================================================================\n",
      " input_6 (InputLayer)        [(None, 48, 48, 3)]       0         \n",
      "                                                                 \n",
      " resnet50v2 (Functional)     (None, 2048)              23564800  \n",
      "                                                                 \n",
      " dense-1 (Dense)             (None, 2048)              4196352   \n",
      "                                                                 \n",
      " dense-2 (Dense)             (None, 1024)              2098176   \n",
      "                                                                 \n",
      " dense-3 (Dense)             (None, 512)               524800    \n",
      "                                                                 \n",
      " dropout (Dropout)           (None, 512)               0         \n",
      "                                                                 \n",
      " dense-4 (Dense)             (None, 256)               131328    \n",
      "                                                                 \n",
      " dense_output (Dense)        (None, 7)                 1799      \n",
      "                                                                 \n",
      "=================================================================\n",
      "Total params: 30,517,255\n",
      "Trainable params: 6,952,455\n",
      "Non-trainable params: 23,564,800\n",
      "_________________________________________________________________\n",
      "Epoch 1/10\n",
      "673/673 [==============================] - ETA: 0s - loss: 1.9333 - accuracy: 0.2479"
     ]
    },
    {
     "name": "stderr",
     "output_type": "stream",
     "text": [
      "WARNING:absl:Found untraced functions such as _jit_compiled_convolution_op, _jit_compiled_convolution_op, _jit_compiled_convolution_op, _jit_compiled_convolution_op, _jit_compiled_convolution_op while saving (showing 5 of 53). These functions will not be directly callable after loading.\n"
     ]
    },
    {
     "name": "stdout",
     "output_type": "stream",
     "text": [
      "INFO:tensorflow:Assets written to: models/test/assets\n"
     ]
    },
    {
     "name": "stderr",
     "output_type": "stream",
     "text": [
      "INFO:tensorflow:Assets written to: models/test/assets\n"
     ]
    },
    {
     "name": "stdout",
     "output_type": "stream",
     "text": [
      "673/673 [==============================] - 590s 797ms/step - loss: 1.9333 - accuracy: 0.2479 - val_loss: 1.8135 - val_accuracy: 0.2455\n",
      "Epoch 2/10\n",
      "673/673 [==============================] - ETA: 0s - loss: 1.7999 - accuracy: 0.2557"
     ]
    },
    {
     "name": "stderr",
     "output_type": "stream",
     "text": [
      "WARNING:absl:Found untraced functions such as _jit_compiled_convolution_op, _jit_compiled_convolution_op, _jit_compiled_convolution_op, _jit_compiled_convolution_op, _jit_compiled_convolution_op while saving (showing 5 of 53). These functions will not be directly callable after loading.\n"
     ]
    },
    {
     "name": "stdout",
     "output_type": "stream",
     "text": [
      "INFO:tensorflow:Assets written to: models/test/assets\n"
     ]
    },
    {
     "name": "stderr",
     "output_type": "stream",
     "text": [
      "INFO:tensorflow:Assets written to: models/test/assets\n"
     ]
    },
    {
     "name": "stdout",
     "output_type": "stream",
     "text": [
      "673/673 [==============================] - 523s 778ms/step - loss: 1.7999 - accuracy: 0.2557 - val_loss: 1.7658 - val_accuracy: 0.2709\n",
      "Epoch 3/10\n",
      "673/673 [==============================] - ETA: 0s - loss: 1.7778 - accuracy: 0.2680"
     ]
    },
    {
     "name": "stderr",
     "output_type": "stream",
     "text": [
      "WARNING:absl:Found untraced functions such as _jit_compiled_convolution_op, _jit_compiled_convolution_op, _jit_compiled_convolution_op, _jit_compiled_convolution_op, _jit_compiled_convolution_op while saving (showing 5 of 53). These functions will not be directly callable after loading.\n"
     ]
    },
    {
     "name": "stdout",
     "output_type": "stream",
     "text": [
      "INFO:tensorflow:Assets written to: models/test/assets\n"
     ]
    },
    {
     "name": "stderr",
     "output_type": "stream",
     "text": [
      "INFO:tensorflow:Assets written to: models/test/assets\n"
     ]
    },
    {
     "name": "stdout",
     "output_type": "stream",
     "text": [
      "673/673 [==============================] - 471s 699ms/step - loss: 1.7778 - accuracy: 0.2680 - val_loss: 1.7538 - val_accuracy: 0.2810\n",
      "Epoch 4/10\n",
      "673/673 [==============================] - ETA: 0s - loss: 1.7693 - accuracy: 0.2707"
     ]
    },
    {
     "name": "stderr",
     "output_type": "stream",
     "text": [
      "WARNING:absl:Found untraced functions such as _jit_compiled_convolution_op, _jit_compiled_convolution_op, _jit_compiled_convolution_op, _jit_compiled_convolution_op, _jit_compiled_convolution_op while saving (showing 5 of 53). These functions will not be directly callable after loading.\n"
     ]
    },
    {
     "name": "stdout",
     "output_type": "stream",
     "text": [
      "INFO:tensorflow:Assets written to: models/test/assets\n"
     ]
    },
    {
     "name": "stderr",
     "output_type": "stream",
     "text": [
      "INFO:tensorflow:Assets written to: models/test/assets\n"
     ]
    },
    {
     "name": "stdout",
     "output_type": "stream",
     "text": [
      "673/673 [==============================] - 458s 680ms/step - loss: 1.7693 - accuracy: 0.2707 - val_loss: 1.7504 - val_accuracy: 0.2852\n",
      "Epoch 5/10\n",
      "673/673 [==============================] - ETA: 0s - loss: 1.7628 - accuracy: 0.2771"
     ]
    },
    {
     "name": "stderr",
     "output_type": "stream",
     "text": [
      "WARNING:absl:Found untraced functions such as _jit_compiled_convolution_op, _jit_compiled_convolution_op, _jit_compiled_convolution_op, _jit_compiled_convolution_op, _jit_compiled_convolution_op while saving (showing 5 of 53). These functions will not be directly callable after loading.\n"
     ]
    },
    {
     "name": "stdout",
     "output_type": "stream",
     "text": [
      "INFO:tensorflow:Assets written to: models/test/assets\n"
     ]
    },
    {
     "name": "stderr",
     "output_type": "stream",
     "text": [
      "INFO:tensorflow:Assets written to: models/test/assets\n"
     ]
    },
    {
     "name": "stdout",
     "output_type": "stream",
     "text": [
      "673/673 [==============================] - 382s 568ms/step - loss: 1.7628 - accuracy: 0.2771 - val_loss: 1.7459 - val_accuracy: 0.2842\n",
      "Epoch 6/10\n",
      "673/673 [==============================] - 353s 525ms/step - loss: 1.7533 - accuracy: 0.2802 - val_loss: 1.7461 - val_accuracy: 0.2911\n",
      "Epoch 7/10\n",
      "673/673 [==============================] - 328s 487ms/step - loss: 1.7393 - accuracy: 0.2903 - val_loss: 1.7544 - val_accuracy: 0.2912\n",
      "Epoch 8/10\n",
      "673/673 [==============================] - ETA: 0s - loss: 1.7470 - accuracy: 0.2836"
     ]
    },
    {
     "name": "stderr",
     "output_type": "stream",
     "text": [
      "WARNING:absl:Found untraced functions such as _jit_compiled_convolution_op, _jit_compiled_convolution_op, _jit_compiled_convolution_op, _jit_compiled_convolution_op, _jit_compiled_convolution_op while saving (showing 5 of 53). These functions will not be directly callable after loading.\n"
     ]
    },
    {
     "name": "stdout",
     "output_type": "stream",
     "text": [
      "INFO:tensorflow:Assets written to: models/test/assets\n"
     ]
    },
    {
     "name": "stderr",
     "output_type": "stream",
     "text": [
      "INFO:tensorflow:Assets written to: models/test/assets\n"
     ]
    },
    {
     "name": "stdout",
     "output_type": "stream",
     "text": [
      "673/673 [==============================] - 382s 568ms/step - loss: 1.7470 - accuracy: 0.2836 - val_loss: 1.7264 - val_accuracy: 0.3047\n",
      "Epoch 9/10\n",
      "673/673 [==============================] - ETA: 0s - loss: 1.7354 - accuracy: 0.2938"
     ]
    },
    {
     "name": "stderr",
     "output_type": "stream",
     "text": [
      "WARNING:absl:Found untraced functions such as _jit_compiled_convolution_op, _jit_compiled_convolution_op, _jit_compiled_convolution_op, _jit_compiled_convolution_op, _jit_compiled_convolution_op while saving (showing 5 of 53). These functions will not be directly callable after loading.\n"
     ]
    },
    {
     "name": "stdout",
     "output_type": "stream",
     "text": [
      "INFO:tensorflow:Assets written to: models/test/assets\n"
     ]
    },
    {
     "name": "stderr",
     "output_type": "stream",
     "text": [
      "INFO:tensorflow:Assets written to: models/test/assets\n"
     ]
    },
    {
     "name": "stdout",
     "output_type": "stream",
     "text": [
      "673/673 [==============================] - 383s 569ms/step - loss: 1.7354 - accuracy: 0.2938 - val_loss: 1.7176 - val_accuracy: 0.3127\n",
      "Epoch 10/10\n",
      "673/673 [==============================] - 358s 533ms/step - loss: 1.7302 - accuracy: 0.2968 - val_loss: 1.7203 - val_accuracy: 0.3187\n",
      "225/225 [==============================] - 65s 275ms/step\n",
      "The accuracy on test data is: 31.025%\n",
      "\n",
      "\n",
      "\n",
      "MODEL: 7 TRAINING WITH THE FOLLOWING HYPER-PARAMETERS: \n",
      "hyperparameter currently being tested: lr [0.001]\n",
      "\tpooling value: avg\n",
      "\tbias_init value: <keras.initializers.initializers_v2.RandomUniform object at 0x7f934f204850>\n",
      "\tlr value: 0.001\n",
      "\toptimizer value: Adamax\n",
      "\tbatch_size value: 32\n",
      "\tactivation_function value: relu\n",
      "\tbias_regularizer value: l2\n",
      "\tdropout_rate value: 0.4\n",
      "\tloss_function value: <keras.losses.SparseCategoricalCrossentropy object at 0x7f934f204880>\n",
      "\tepoch value: 10\n",
      "Model: \"model_3\"\n",
      "_________________________________________________________________\n",
      " Layer (type)                Output Shape              Param #   \n",
      "=================================================================\n",
      " input_8 (InputLayer)        [(None, 48, 48, 3)]       0         \n",
      "                                                                 \n",
      " resnet50v2 (Functional)     (None, 2048)              23564800  \n",
      "                                                                 \n",
      " dense-1 (Dense)             (None, 2048)              4196352   \n",
      "                                                                 \n",
      " dense-2 (Dense)             (None, 1024)              2098176   \n",
      "                                                                 \n",
      " dense-3 (Dense)             (None, 512)               524800    \n",
      "                                                                 \n",
      " dropout (Dropout)           (None, 512)               0         \n",
      "                                                                 \n",
      " dense-4 (Dense)             (None, 256)               131328    \n",
      "                                                                 \n",
      " dense_output (Dense)        (None, 7)                 1799      \n",
      "                                                                 \n",
      "=================================================================\n",
      "Total params: 30,517,255\n",
      "Trainable params: 6,952,455\n",
      "Non-trainable params: 23,564,800\n",
      "_________________________________________________________________\n",
      "Epoch 1/10\n",
      "673/673 [==============================] - ETA: 0s - loss: 1.8165 - accuracy: 0.2439"
     ]
    },
    {
     "name": "stderr",
     "output_type": "stream",
     "text": [
      "WARNING:absl:Found untraced functions such as _jit_compiled_convolution_op, _jit_compiled_convolution_op, _jit_compiled_convolution_op, _jit_compiled_convolution_op, _jit_compiled_convolution_op while saving (showing 5 of 53). These functions will not be directly callable after loading.\n"
     ]
    },
    {
     "name": "stdout",
     "output_type": "stream",
     "text": [
      "INFO:tensorflow:Assets written to: models/test/assets\n"
     ]
    },
    {
     "name": "stderr",
     "output_type": "stream",
     "text": [
      "INFO:tensorflow:Assets written to: models/test/assets\n"
     ]
    },
    {
     "name": "stdout",
     "output_type": "stream",
     "text": [
      "673/673 [==============================] - 391s 574ms/step - loss: 1.8165 - accuracy: 0.2439 - val_loss: 1.7989 - val_accuracy: 0.2551\n",
      "Epoch 2/10\n",
      "673/673 [==============================] - 344s 512ms/step - loss: 1.7879 - accuracy: 0.2584 - val_loss: 1.8026 - val_accuracy: 0.2430\n",
      "Epoch 3/10\n",
      "673/673 [==============================] - ETA: 0s - loss: 1.7557 - accuracy: 0.2780"
     ]
    },
    {
     "name": "stderr",
     "output_type": "stream",
     "text": [
      "WARNING:absl:Found untraced functions such as _jit_compiled_convolution_op, _jit_compiled_convolution_op, _jit_compiled_convolution_op, _jit_compiled_convolution_op, _jit_compiled_convolution_op while saving (showing 5 of 53). These functions will not be directly callable after loading.\n"
     ]
    },
    {
     "name": "stdout",
     "output_type": "stream",
     "text": [
      "INFO:tensorflow:Assets written to: models/test/assets\n"
     ]
    },
    {
     "name": "stderr",
     "output_type": "stream",
     "text": [
      "INFO:tensorflow:Assets written to: models/test/assets\n"
     ]
    },
    {
     "name": "stdout",
     "output_type": "stream",
     "text": [
      "673/673 [==============================] - 414s 614ms/step - loss: 1.7557 - accuracy: 0.2780 - val_loss: 1.7876 - val_accuracy: 0.2433\n",
      "Epoch 4/10\n",
      "673/673 [==============================] - ETA: 0s - loss: 1.7331 - accuracy: 0.2957"
     ]
    },
    {
     "name": "stderr",
     "output_type": "stream",
     "text": [
      "WARNING:absl:Found untraced functions such as _jit_compiled_convolution_op, _jit_compiled_convolution_op, _jit_compiled_convolution_op, _jit_compiled_convolution_op, _jit_compiled_convolution_op while saving (showing 5 of 53). These functions will not be directly callable after loading.\n"
     ]
    },
    {
     "name": "stdout",
     "output_type": "stream",
     "text": [
      "INFO:tensorflow:Assets written to: models/test/assets\n"
     ]
    },
    {
     "name": "stderr",
     "output_type": "stream",
     "text": [
      "INFO:tensorflow:Assets written to: models/test/assets\n"
     ]
    },
    {
     "name": "stdout",
     "output_type": "stream",
     "text": [
      "673/673 [==============================] - 367s 545ms/step - loss: 1.7331 - accuracy: 0.2957 - val_loss: 1.7282 - val_accuracy: 0.2920\n",
      "Epoch 5/10\n",
      "673/673 [==============================] - ETA: 0s - loss: 1.7165 - accuracy: 0.3066"
     ]
    },
    {
     "name": "stderr",
     "output_type": "stream",
     "text": [
      "WARNING:absl:Found untraced functions such as _jit_compiled_convolution_op, _jit_compiled_convolution_op, _jit_compiled_convolution_op, _jit_compiled_convolution_op, _jit_compiled_convolution_op while saving (showing 5 of 53). These functions will not be directly callable after loading.\n"
     ]
    },
    {
     "name": "stdout",
     "output_type": "stream",
     "text": [
      "INFO:tensorflow:Assets written to: models/test/assets\n"
     ]
    },
    {
     "name": "stderr",
     "output_type": "stream",
     "text": [
      "INFO:tensorflow:Assets written to: models/test/assets\n"
     ]
    },
    {
     "name": "stdout",
     "output_type": "stream",
     "text": [
      "673/673 [==============================] - 413s 614ms/step - loss: 1.7165 - accuracy: 0.3066 - val_loss: 1.7056 - val_accuracy: 0.3088\n",
      "Epoch 6/10\n",
      "673/673 [==============================] - ETA: 0s - loss: 1.7075 - accuracy: 0.3101"
     ]
    },
    {
     "name": "stderr",
     "output_type": "stream",
     "text": [
      "WARNING:absl:Found untraced functions such as _jit_compiled_convolution_op, _jit_compiled_convolution_op, _jit_compiled_convolution_op, _jit_compiled_convolution_op, _jit_compiled_convolution_op while saving (showing 5 of 53). These functions will not be directly callable after loading.\n"
     ]
    },
    {
     "name": "stdout",
     "output_type": "stream",
     "text": [
      "INFO:tensorflow:Assets written to: models/test/assets\n"
     ]
    },
    {
     "name": "stderr",
     "output_type": "stream",
     "text": [
      "INFO:tensorflow:Assets written to: models/test/assets\n"
     ]
    },
    {
     "name": "stdout",
     "output_type": "stream",
     "text": [
      "673/673 [==============================] - 395s 588ms/step - loss: 1.7075 - accuracy: 0.3101 - val_loss: 1.6925 - val_accuracy: 0.3148\n",
      "Epoch 7/10\n",
      "673/673 [==============================] - ETA: 0s - loss: 1.7013 - accuracy: 0.3175"
     ]
    },
    {
     "name": "stderr",
     "output_type": "stream",
     "text": [
      "WARNING:absl:Found untraced functions such as _jit_compiled_convolution_op, _jit_compiled_convolution_op, _jit_compiled_convolution_op, _jit_compiled_convolution_op, _jit_compiled_convolution_op while saving (showing 5 of 53). These functions will not be directly callable after loading.\n"
     ]
    },
    {
     "name": "stdout",
     "output_type": "stream",
     "text": [
      "INFO:tensorflow:Assets written to: models/test/assets\n"
     ]
    },
    {
     "name": "stderr",
     "output_type": "stream",
     "text": [
      "INFO:tensorflow:Assets written to: models/test/assets\n"
     ]
    },
    {
     "name": "stdout",
     "output_type": "stream",
     "text": [
      "673/673 [==============================] - 381s 566ms/step - loss: 1.7013 - accuracy: 0.3175 - val_loss: 1.6866 - val_accuracy: 0.3284\n",
      "Epoch 8/10\n",
      "673/673 [==============================] - 321s 477ms/step - loss: 1.6893 - accuracy: 0.3228 - val_loss: 1.6941 - val_accuracy: 0.3326\n",
      "Epoch 9/10\n",
      "673/673 [==============================] - 321s 477ms/step - loss: 1.6839 - accuracy: 0.3271 - val_loss: 1.7265 - val_accuracy: 0.2947\n",
      "Epoch 10/10\n",
      "673/673 [==============================] - ETA: 0s - loss: 1.6807 - accuracy: 0.3271"
     ]
    },
    {
     "name": "stderr",
     "output_type": "stream",
     "text": [
      "WARNING:absl:Found untraced functions such as _jit_compiled_convolution_op, _jit_compiled_convolution_op, _jit_compiled_convolution_op, _jit_compiled_convolution_op, _jit_compiled_convolution_op while saving (showing 5 of 53). These functions will not be directly callable after loading.\n"
     ]
    },
    {
     "name": "stdout",
     "output_type": "stream",
     "text": [
      "INFO:tensorflow:Assets written to: models/test/assets\n"
     ]
    },
    {
     "name": "stderr",
     "output_type": "stream",
     "text": [
      "INFO:tensorflow:Assets written to: models/test/assets\n"
     ]
    },
    {
     "name": "stdout",
     "output_type": "stream",
     "text": [
      "673/673 [==============================] - 385s 573ms/step - loss: 1.6807 - accuracy: 0.3271 - val_loss: 1.6656 - val_accuracy: 0.3396\n",
      "225/225 [==============================] - 79s 339ms/step\n",
      "The accuracy on test data is: 33.408%\n",
      "\n",
      "\n",
      "\n",
      "MODEL: 8 TRAINING WITH THE FOLLOWING HYPER-PARAMETERS: \n",
      "hyperparameter currently being tested: lr [0.01]\n",
      "\tpooling value: avg\n",
      "\tbias_init value: <keras.initializers.initializers_v2.RandomUniform object at 0x7f934f204850>\n",
      "\tlr value: 0.01\n",
      "\toptimizer value: Adamax\n",
      "\tbatch_size value: 32\n",
      "\tactivation_function value: relu\n",
      "\tbias_regularizer value: l2\n",
      "\tdropout_rate value: 0.4\n",
      "\tloss_function value: <keras.losses.SparseCategoricalCrossentropy object at 0x7f934f204880>\n",
      "\tepoch value: 10\n",
      "Model: \"model_4\"\n",
      "_________________________________________________________________\n",
      " Layer (type)                Output Shape              Param #   \n",
      "=================================================================\n",
      " input_10 (InputLayer)       [(None, 48, 48, 3)]       0         \n",
      "                                                                 \n",
      " resnet50v2 (Functional)     (None, 2048)              23564800  \n",
      "                                                                 \n",
      " dense-1 (Dense)             (None, 2048)              4196352   \n",
      "                                                                 \n",
      " dense-2 (Dense)             (None, 1024)              2098176   \n",
      "                                                                 \n",
      " dense-3 (Dense)             (None, 512)               524800    \n",
      "                                                                 \n",
      " dropout (Dropout)           (None, 512)               0         \n",
      "                                                                 \n",
      " dense-4 (Dense)             (None, 256)               131328    \n",
      "                                                                 \n",
      " dense_output (Dense)        (None, 7)                 1799      \n",
      "                                                                 \n",
      "=================================================================\n",
      "Total params: 30,517,255\n",
      "Trainable params: 6,952,455\n",
      "Non-trainable params: 23,564,800\n",
      "_________________________________________________________________\n",
      "Epoch 1/10\n",
      "673/673 [==============================] - ETA: 0s - loss: 1.9682 - accuracy: 0.2493"
     ]
    },
    {
     "name": "stderr",
     "output_type": "stream",
     "text": [
      "WARNING:absl:Found untraced functions such as _jit_compiled_convolution_op, _jit_compiled_convolution_op, _jit_compiled_convolution_op, _jit_compiled_convolution_op, _jit_compiled_convolution_op while saving (showing 5 of 53). These functions will not be directly callable after loading.\n"
     ]
    },
    {
     "name": "stdout",
     "output_type": "stream",
     "text": [
      "INFO:tensorflow:Assets written to: models/test/assets\n"
     ]
    },
    {
     "name": "stderr",
     "output_type": "stream",
     "text": [
      "INFO:tensorflow:Assets written to: models/test/assets\n"
     ]
    },
    {
     "name": "stdout",
     "output_type": "stream",
     "text": [
      "673/673 [==============================] - 431s 627ms/step - loss: 1.9682 - accuracy: 0.2493 - val_loss: 1.8173 - val_accuracy: 0.2456\n",
      "Epoch 2/10\n",
      "673/673 [==============================] - ETA: 0s - loss: 1.8052 - accuracy: 0.2524"
     ]
    },
    {
     "name": "stderr",
     "output_type": "stream",
     "text": [
      "WARNING:absl:Found untraced functions such as _jit_compiled_convolution_op, _jit_compiled_convolution_op, _jit_compiled_convolution_op, _jit_compiled_convolution_op, _jit_compiled_convolution_op while saving (showing 5 of 53). These functions will not be directly callable after loading.\n"
     ]
    },
    {
     "name": "stdout",
     "output_type": "stream",
     "text": [
      "INFO:tensorflow:Assets written to: models/test/assets\n"
     ]
    },
    {
     "name": "stderr",
     "output_type": "stream",
     "text": [
      "INFO:tensorflow:Assets written to: models/test/assets\n"
     ]
    },
    {
     "name": "stdout",
     "output_type": "stream",
     "text": [
      "673/673 [==============================] - 381s 566ms/step - loss: 1.8052 - accuracy: 0.2524 - val_loss: 1.7896 - val_accuracy: 0.2522\n",
      "Epoch 3/10\n",
      "673/673 [==============================] - ETA: 0s - loss: 1.7939 - accuracy: 0.2564"
     ]
    },
    {
     "name": "stderr",
     "output_type": "stream",
     "text": [
      "WARNING:absl:Found untraced functions such as _jit_compiled_convolution_op, _jit_compiled_convolution_op, _jit_compiled_convolution_op, _jit_compiled_convolution_op, _jit_compiled_convolution_op while saving (showing 5 of 53). These functions will not be directly callable after loading.\n"
     ]
    },
    {
     "name": "stdout",
     "output_type": "stream",
     "text": [
      "INFO:tensorflow:Assets written to: models/test/assets\n"
     ]
    },
    {
     "name": "stderr",
     "output_type": "stream",
     "text": [
      "INFO:tensorflow:Assets written to: models/test/assets\n"
     ]
    },
    {
     "name": "stdout",
     "output_type": "stream",
     "text": [
      "673/673 [==============================] - 379s 563ms/step - loss: 1.7939 - accuracy: 0.2564 - val_loss: 1.7689 - val_accuracy: 0.2721\n",
      "Epoch 4/10\n",
      "673/673 [==============================] - 354s 526ms/step - loss: 1.7789 - accuracy: 0.2645 - val_loss: 1.7809 - val_accuracy: 0.2619\n",
      "Epoch 5/10\n",
      "673/673 [==============================] - ETA: 0s - loss: 1.7608 - accuracy: 0.2751"
     ]
    },
    {
     "name": "stderr",
     "output_type": "stream",
     "text": [
      "WARNING:absl:Found untraced functions such as _jit_compiled_convolution_op, _jit_compiled_convolution_op, _jit_compiled_convolution_op, _jit_compiled_convolution_op, _jit_compiled_convolution_op while saving (showing 5 of 53). These functions will not be directly callable after loading.\n"
     ]
    },
    {
     "name": "stdout",
     "output_type": "stream",
     "text": [
      "INFO:tensorflow:Assets written to: models/test/assets\n"
     ]
    },
    {
     "name": "stderr",
     "output_type": "stream",
     "text": [
      "INFO:tensorflow:Assets written to: models/test/assets\n"
     ]
    },
    {
     "name": "stdout",
     "output_type": "stream",
     "text": [
      "673/673 [==============================] - 397s 591ms/step - loss: 1.7608 - accuracy: 0.2751 - val_loss: 1.7614 - val_accuracy: 0.2819\n",
      "Epoch 6/10\n",
      "673/673 [==============================] - 342s 509ms/step - loss: 1.7544 - accuracy: 0.2761 - val_loss: 1.7858 - val_accuracy: 0.2610\n",
      "Epoch 7/10\n",
      "673/673 [==============================] - ETA: 0s - loss: 1.7418 - accuracy: 0.2886"
     ]
    },
    {
     "name": "stderr",
     "output_type": "stream",
     "text": [
      "WARNING:absl:Found untraced functions such as _jit_compiled_convolution_op, _jit_compiled_convolution_op, _jit_compiled_convolution_op, _jit_compiled_convolution_op, _jit_compiled_convolution_op while saving (showing 5 of 53). These functions will not be directly callable after loading.\n"
     ]
    },
    {
     "name": "stdout",
     "output_type": "stream",
     "text": [
      "INFO:tensorflow:Assets written to: models/test/assets\n"
     ]
    },
    {
     "name": "stderr",
     "output_type": "stream",
     "text": [
      "INFO:tensorflow:Assets written to: models/test/assets\n"
     ]
    },
    {
     "name": "stdout",
     "output_type": "stream",
     "text": [
      "673/673 [==============================] - 386s 573ms/step - loss: 1.7418 - accuracy: 0.2886 - val_loss: 1.7165 - val_accuracy: 0.3090\n",
      "Epoch 8/10\n",
      "673/673 [==============================] - 333s 495ms/step - loss: 1.7293 - accuracy: 0.2975 - val_loss: 1.7214 - val_accuracy: 0.3000\n",
      "Epoch 9/10\n",
      "673/673 [==============================] - 358s 533ms/step - loss: 1.7283 - accuracy: 0.2967 - val_loss: 1.7176 - val_accuracy: 0.3131\n",
      "Epoch 10/10\n",
      "673/673 [==============================] - 324s 481ms/step - loss: 1.7262 - accuracy: 0.3009 - val_loss: 1.7317 - val_accuracy: 0.3160\n",
      "225/225 [==============================] - 82s 354ms/step\n",
      "The accuracy on test data is: 24.714%\n",
      "\n",
      "\n",
      "\n",
      "MODEL: 9 TRAINING WITH THE FOLLOWING HYPER-PARAMETERS: \n",
      "hyperparameter currently being tested: lr [0.1]\n",
      "\tpooling value: avg\n",
      "\tbias_init value: <keras.initializers.initializers_v2.RandomUniform object at 0x7f934f204850>\n",
      "\tlr value: 0.1\n",
      "\toptimizer value: Adamax\n",
      "\tbatch_size value: 32\n",
      "\tactivation_function value: relu\n",
      "\tbias_regularizer value: l2\n",
      "\tdropout_rate value: 0.4\n",
      "\tloss_function value: <keras.losses.SparseCategoricalCrossentropy object at 0x7f934f204880>\n",
      "\tepoch value: 10\n",
      "Model: \"model_5\"\n",
      "_________________________________________________________________\n",
      " Layer (type)                Output Shape              Param #   \n",
      "=================================================================\n",
      " input_12 (InputLayer)       [(None, 48, 48, 3)]       0         \n",
      "                                                                 \n",
      " resnet50v2 (Functional)     (None, 2048)              23564800  \n",
      "                                                                 \n",
      " dense-1 (Dense)             (None, 2048)              4196352   \n",
      "                                                                 \n",
      " dense-2 (Dense)             (None, 1024)              2098176   \n",
      "                                                                 \n",
      " dense-3 (Dense)             (None, 512)               524800    \n",
      "                                                                 \n",
      " dropout (Dropout)           (None, 512)               0         \n",
      "                                                                 \n",
      " dense-4 (Dense)             (None, 256)               131328    \n",
      "                                                                 \n",
      " dense_output (Dense)        (None, 7)                 1799      \n",
      "                                                                 \n",
      "=================================================================\n",
      "Total params: 30,517,255\n",
      "Trainable params: 6,952,455\n",
      "Non-trainable params: 23,564,800\n",
      "_________________________________________________________________\n",
      "Epoch 1/10\n",
      "673/673 [==============================] - ETA: 0s - loss: 837.0463 - accuracy: 0.2463"
     ]
    },
    {
     "name": "stderr",
     "output_type": "stream",
     "text": [
      "WARNING:absl:Found untraced functions such as _jit_compiled_convolution_op, _jit_compiled_convolution_op, _jit_compiled_convolution_op, _jit_compiled_convolution_op, _jit_compiled_convolution_op while saving (showing 5 of 53). These functions will not be directly callable after loading.\n"
     ]
    },
    {
     "name": "stdout",
     "output_type": "stream",
     "text": [
      "INFO:tensorflow:Assets written to: models/test/assets\n"
     ]
    },
    {
     "name": "stderr",
     "output_type": "stream",
     "text": [
      "INFO:tensorflow:Assets written to: models/test/assets\n"
     ]
    },
    {
     "name": "stdout",
     "output_type": "stream",
     "text": [
      "673/673 [==============================] - 422s 620ms/step - loss: 837.0463 - accuracy: 0.2463 - val_loss: 2.1430 - val_accuracy: 0.2456\n",
      "Epoch 2/10\n",
      "673/673 [==============================] - ETA: 0s - loss: 2.1021 - accuracy: 0.2532"
     ]
    },
    {
     "name": "stderr",
     "output_type": "stream",
     "text": [
      "WARNING:absl:Found untraced functions such as _jit_compiled_convolution_op, _jit_compiled_convolution_op, _jit_compiled_convolution_op, _jit_compiled_convolution_op, _jit_compiled_convolution_op while saving (showing 5 of 53). These functions will not be directly callable after loading.\n"
     ]
    },
    {
     "name": "stdout",
     "output_type": "stream",
     "text": [
      "INFO:tensorflow:Assets written to: models/test/assets\n"
     ]
    },
    {
     "name": "stderr",
     "output_type": "stream",
     "text": [
      "INFO:tensorflow:Assets written to: models/test/assets\n"
     ]
    },
    {
     "name": "stdout",
     "output_type": "stream",
     "text": [
      "673/673 [==============================] - 393s 585ms/step - loss: 2.1021 - accuracy: 0.2532 - val_loss: 2.0435 - val_accuracy: 0.2456\n",
      "Epoch 3/10\n",
      "673/673 [==============================] - ETA: 0s - loss: 2.0023 - accuracy: 0.2531"
     ]
    },
    {
     "name": "stderr",
     "output_type": "stream",
     "text": [
      "WARNING:absl:Found untraced functions such as _jit_compiled_convolution_op, _jit_compiled_convolution_op, _jit_compiled_convolution_op, _jit_compiled_convolution_op, _jit_compiled_convolution_op while saving (showing 5 of 53). These functions will not be directly callable after loading.\n"
     ]
    },
    {
     "name": "stdout",
     "output_type": "stream",
     "text": [
      "INFO:tensorflow:Assets written to: models/test/assets\n"
     ]
    },
    {
     "name": "stderr",
     "output_type": "stream",
     "text": [
      "INFO:tensorflow:Assets written to: models/test/assets\n"
     ]
    },
    {
     "name": "stdout",
     "output_type": "stream",
     "text": [
      "673/673 [==============================] - 397s 590ms/step - loss: 2.0023 - accuracy: 0.2531 - val_loss: 1.9739 - val_accuracy: 0.2456\n",
      "Epoch 4/10\n",
      "673/673 [==============================] - ETA: 0s - loss: 1.9580 - accuracy: 0.2529"
     ]
    },
    {
     "name": "stderr",
     "output_type": "stream",
     "text": [
      "WARNING:absl:Found untraced functions such as _jit_compiled_convolution_op, _jit_compiled_convolution_op, _jit_compiled_convolution_op, _jit_compiled_convolution_op, _jit_compiled_convolution_op while saving (showing 5 of 53). These functions will not be directly callable after loading.\n"
     ]
    },
    {
     "name": "stdout",
     "output_type": "stream",
     "text": [
      "INFO:tensorflow:Assets written to: models/test/assets\n"
     ]
    },
    {
     "name": "stderr",
     "output_type": "stream",
     "text": [
      "INFO:tensorflow:Assets written to: models/test/assets\n"
     ]
    },
    {
     "name": "stdout",
     "output_type": "stream",
     "text": [
      "673/673 [==============================] - 439s 652ms/step - loss: 1.9580 - accuracy: 0.2529 - val_loss: 1.9270 - val_accuracy: 0.2456\n",
      "Epoch 5/10\n",
      "673/673 [==============================] - ETA: 0s - loss: 1.8979 - accuracy: 0.2532"
     ]
    },
    {
     "name": "stderr",
     "output_type": "stream",
     "text": [
      "WARNING:absl:Found untraced functions such as _jit_compiled_convolution_op, _jit_compiled_convolution_op, _jit_compiled_convolution_op, _jit_compiled_convolution_op, _jit_compiled_convolution_op while saving (showing 5 of 53). These functions will not be directly callable after loading.\n"
     ]
    },
    {
     "name": "stdout",
     "output_type": "stream",
     "text": [
      "INFO:tensorflow:Assets written to: models/test/assets\n"
     ]
    },
    {
     "name": "stderr",
     "output_type": "stream",
     "text": [
      "INFO:tensorflow:Assets written to: models/test/assets\n"
     ]
    },
    {
     "name": "stdout",
     "output_type": "stream",
     "text": [
      "673/673 [==============================] - 360s 535ms/step - loss: 1.8979 - accuracy: 0.2532 - val_loss: 1.8838 - val_accuracy: 0.2456\n",
      "Epoch 6/10\n",
      "673/673 [==============================] - ETA: 0s - loss: 1.8586 - accuracy: 0.2523"
     ]
    },
    {
     "name": "stderr",
     "output_type": "stream",
     "text": [
      "WARNING:absl:Found untraced functions such as _jit_compiled_convolution_op, _jit_compiled_convolution_op, _jit_compiled_convolution_op, _jit_compiled_convolution_op, _jit_compiled_convolution_op while saving (showing 5 of 53). These functions will not be directly callable after loading.\n"
     ]
    },
    {
     "name": "stdout",
     "output_type": "stream",
     "text": [
      "INFO:tensorflow:Assets written to: models/test/assets\n"
     ]
    },
    {
     "name": "stderr",
     "output_type": "stream",
     "text": [
      "INFO:tensorflow:Assets written to: models/test/assets\n"
     ]
    },
    {
     "name": "stdout",
     "output_type": "stream",
     "text": [
      "673/673 [==============================] - 357s 531ms/step - loss: 1.8586 - accuracy: 0.2523 - val_loss: 1.8497 - val_accuracy: 0.2456\n",
      "Epoch 7/10\n",
      "673/673 [==============================] - ETA: 0s - loss: 1.8330 - accuracy: 0.2533"
     ]
    },
    {
     "name": "stderr",
     "output_type": "stream",
     "text": [
      "WARNING:absl:Found untraced functions such as _jit_compiled_convolution_op, _jit_compiled_convolution_op, _jit_compiled_convolution_op, _jit_compiled_convolution_op, _jit_compiled_convolution_op while saving (showing 5 of 53). These functions will not be directly callable after loading.\n"
     ]
    },
    {
     "name": "stdout",
     "output_type": "stream",
     "text": [
      "INFO:tensorflow:Assets written to: models/test/assets\n"
     ]
    },
    {
     "name": "stderr",
     "output_type": "stream",
     "text": [
      "INFO:tensorflow:Assets written to: models/test/assets\n"
     ]
    },
    {
     "name": "stdout",
     "output_type": "stream",
     "text": [
      "673/673 [==============================] - 395s 586ms/step - loss: 1.8330 - accuracy: 0.2533 - val_loss: 1.8293 - val_accuracy: 0.2456\n",
      "Epoch 8/10\n",
      "673/673 [==============================] - ETA: 0s - loss: 1.8153 - accuracy: 0.2533"
     ]
    },
    {
     "name": "stderr",
     "output_type": "stream",
     "text": [
      "WARNING:absl:Found untraced functions such as _jit_compiled_convolution_op, _jit_compiled_convolution_op, _jit_compiled_convolution_op, _jit_compiled_convolution_op, _jit_compiled_convolution_op while saving (showing 5 of 53). These functions will not be directly callable after loading.\n"
     ]
    },
    {
     "name": "stdout",
     "output_type": "stream",
     "text": [
      "INFO:tensorflow:Assets written to: models/test/assets\n"
     ]
    },
    {
     "name": "stderr",
     "output_type": "stream",
     "text": [
      "INFO:tensorflow:Assets written to: models/test/assets\n"
     ]
    },
    {
     "name": "stdout",
     "output_type": "stream",
     "text": [
      "673/673 [==============================] - 409s 608ms/step - loss: 1.8153 - accuracy: 0.2533 - val_loss: 1.8179 - val_accuracy: 0.2456\n",
      "Epoch 9/10\n",
      "673/673 [==============================] - 353s 525ms/step - loss: 1.8146 - accuracy: 0.2532 - val_loss: 1.8205 - val_accuracy: 0.2456\n",
      "Epoch 10/10\n",
      "673/673 [==============================] - 322s 477ms/step - loss: 1.8139 - accuracy: 0.2531 - val_loss: 1.8190 - val_accuracy: 0.2456\n",
      "225/225 [==============================] - 83s 354ms/step\n",
      "The accuracy on test data is: 24.714%\n",
      "\n",
      "\n",
      "\n",
      "MODEL: 10 TRAINING WITH THE FOLLOWING HYPER-PARAMETERS: \n",
      "hyperparameter currently being tested: optimizer [Adam]\n",
      "\tpooling value: avg\n",
      "\tbias_init value: <keras.initializers.initializers_v2.RandomUniform object at 0x7f934f204850>\n",
      "\tlr value: 0.01\n",
      "\toptimizer value: Adam\n",
      "\tbatch_size value: 32\n",
      "\tactivation_function value: relu\n",
      "\tbias_regularizer value: l2\n",
      "\tdropout_rate value: 0.4\n",
      "\tloss_function value: <keras.losses.SparseCategoricalCrossentropy object at 0x7f934f204880>\n",
      "\tepoch value: 10\n",
      "Model: \"model_6\"\n",
      "_________________________________________________________________\n",
      " Layer (type)                Output Shape              Param #   \n",
      "=================================================================\n",
      " input_14 (InputLayer)       [(None, 48, 48, 3)]       0         \n",
      "                                                                 \n",
      " resnet50v2 (Functional)     (None, 2048)              23564800  \n",
      "                                                                 \n",
      " dense-1 (Dense)             (None, 2048)              4196352   \n",
      "                                                                 \n",
      " dense-2 (Dense)             (None, 1024)              2098176   \n",
      "                                                                 \n",
      " dense-3 (Dense)             (None, 512)               524800    \n",
      "                                                                 \n",
      " dropout (Dropout)           (None, 512)               0         \n",
      "                                                                 \n",
      " dense-4 (Dense)             (None, 256)               131328    \n",
      "                                                                 \n",
      " dense_output (Dense)        (None, 7)                 1799      \n",
      "                                                                 \n",
      "=================================================================\n",
      "Total params: 30,517,255\n",
      "Trainable params: 6,952,455\n",
      "Non-trainable params: 23,564,800\n",
      "_________________________________________________________________\n",
      "Epoch 1/10\n",
      "673/673 [==============================] - ETA: 0s - loss: 2.0427 - accuracy: 0.2477"
     ]
    },
    {
     "name": "stderr",
     "output_type": "stream",
     "text": [
      "WARNING:absl:Found untraced functions such as _jit_compiled_convolution_op, _jit_compiled_convolution_op, _jit_compiled_convolution_op, _jit_compiled_convolution_op, _jit_compiled_convolution_op while saving (showing 5 of 53). These functions will not be directly callable after loading.\n"
     ]
    },
    {
     "name": "stdout",
     "output_type": "stream",
     "text": [
      "INFO:tensorflow:Assets written to: models/test/assets\n"
     ]
    },
    {
     "name": "stderr",
     "output_type": "stream",
     "text": [
      "INFO:tensorflow:Assets written to: models/test/assets\n"
     ]
    },
    {
     "name": "stdout",
     "output_type": "stream",
     "text": [
      "673/673 [==============================] - 425s 606ms/step - loss: 2.0427 - accuracy: 0.2477 - val_loss: 1.8225 - val_accuracy: 0.2456\n",
      "Epoch 2/10\n",
      "673/673 [==============================] - ETA: 0s - loss: 1.8175 - accuracy: 0.2531"
     ]
    },
    {
     "name": "stderr",
     "output_type": "stream",
     "text": [
      "WARNING:absl:Found untraced functions such as _jit_compiled_convolution_op, _jit_compiled_convolution_op, _jit_compiled_convolution_op, _jit_compiled_convolution_op, _jit_compiled_convolution_op while saving (showing 5 of 53). These functions will not be directly callable after loading.\n"
     ]
    },
    {
     "name": "stdout",
     "output_type": "stream",
     "text": [
      "INFO:tensorflow:Assets written to: models/test/assets\n"
     ]
    },
    {
     "name": "stderr",
     "output_type": "stream",
     "text": [
      "INFO:tensorflow:Assets written to: models/test/assets\n"
     ]
    },
    {
     "name": "stdout",
     "output_type": "stream",
     "text": [
      "673/673 [==============================] - 389s 578ms/step - loss: 1.8175 - accuracy: 0.2531 - val_loss: 1.8202 - val_accuracy: 0.2456\n",
      "Epoch 3/10\n",
      "673/673 [==============================] - ETA: 0s - loss: 1.8113 - accuracy: 0.2531"
     ]
    },
    {
     "name": "stderr",
     "output_type": "stream",
     "text": [
      "WARNING:absl:Found untraced functions such as _jit_compiled_convolution_op, _jit_compiled_convolution_op, _jit_compiled_convolution_op, _jit_compiled_convolution_op, _jit_compiled_convolution_op while saving (showing 5 of 53). These functions will not be directly callable after loading.\n"
     ]
    },
    {
     "name": "stdout",
     "output_type": "stream",
     "text": [
      "INFO:tensorflow:Assets written to: models/test/assets\n"
     ]
    },
    {
     "name": "stderr",
     "output_type": "stream",
     "text": [
      "INFO:tensorflow:Assets written to: models/test/assets\n"
     ]
    },
    {
     "name": "stdout",
     "output_type": "stream",
     "text": [
      "673/673 [==============================] - 480s 713ms/step - loss: 1.8113 - accuracy: 0.2531 - val_loss: 1.8175 - val_accuracy: 0.2456\n",
      "Epoch 4/10\n",
      "673/673 [==============================] - 338s 502ms/step - loss: 1.8108 - accuracy: 0.2532 - val_loss: 1.8176 - val_accuracy: 0.2456\n",
      "Epoch 5/10\n",
      "673/673 [==============================] - 296s 440ms/step - loss: 1.8109 - accuracy: 0.2533 - val_loss: 1.8203 - val_accuracy: 0.2456\n",
      "Epoch 6/10\n",
      "673/673 [==============================] - ETA: 0s - loss: 1.8114 - accuracy: 0.2532"
     ]
    },
    {
     "name": "stderr",
     "output_type": "stream",
     "text": [
      "WARNING:absl:Found untraced functions such as _jit_compiled_convolution_op, _jit_compiled_convolution_op, _jit_compiled_convolution_op, _jit_compiled_convolution_op, _jit_compiled_convolution_op while saving (showing 5 of 53). These functions will not be directly callable after loading.\n"
     ]
    },
    {
     "name": "stdout",
     "output_type": "stream",
     "text": [
      "INFO:tensorflow:Assets written to: models/test/assets\n"
     ]
    },
    {
     "name": "stderr",
     "output_type": "stream",
     "text": [
      "INFO:tensorflow:Assets written to: models/test/assets\n"
     ]
    },
    {
     "name": "stdout",
     "output_type": "stream",
     "text": [
      "673/673 [==============================] - 391s 582ms/step - loss: 1.8114 - accuracy: 0.2532 - val_loss: 1.8175 - val_accuracy: 0.2456\n",
      "Epoch 7/10\n",
      "673/673 [==============================] - ETA: 0s - loss: 1.8120 - accuracy: 0.2531"
     ]
    },
    {
     "name": "stderr",
     "output_type": "stream",
     "text": [
      "WARNING:absl:Found untraced functions such as _jit_compiled_convolution_op, _jit_compiled_convolution_op, _jit_compiled_convolution_op, _jit_compiled_convolution_op, _jit_compiled_convolution_op while saving (showing 5 of 53). These functions will not be directly callable after loading.\n"
     ]
    },
    {
     "name": "stdout",
     "output_type": "stream",
     "text": [
      "INFO:tensorflow:Assets written to: models/test/assets\n"
     ]
    },
    {
     "name": "stderr",
     "output_type": "stream",
     "text": [
      "INFO:tensorflow:Assets written to: models/test/assets\n"
     ]
    },
    {
     "name": "stdout",
     "output_type": "stream",
     "text": [
      "673/673 [==============================] - 398s 592ms/step - loss: 1.8120 - accuracy: 0.2531 - val_loss: 1.8172 - val_accuracy: 0.2456\n",
      "Epoch 8/10\n",
      "673/673 [==============================] - 344s 512ms/step - loss: 1.8122 - accuracy: 0.2527 - val_loss: 1.8178 - val_accuracy: 0.2456\n",
      "Epoch 9/10\n",
      "673/673 [==============================] - 331s 492ms/step - loss: 1.8159 - accuracy: 0.2529 - val_loss: 1.8272 - val_accuracy: 0.2456\n",
      "Epoch 10/10\n",
      "673/673 [==============================] - 329s 488ms/step - loss: 1.8114 - accuracy: 0.2532 - val_loss: 1.8204 - val_accuracy: 0.2456\n",
      "225/225 [==============================] - 83s 358ms/step\n",
      "The accuracy on test data is: 27.278%\n",
      "\n",
      "\n",
      "\n",
      "MODEL: 11 TRAINING WITH THE FOLLOWING HYPER-PARAMETERS: \n",
      "hyperparameter currently being tested: optimizer [Adamax]\n",
      "\tpooling value: avg\n",
      "\tbias_init value: <keras.initializers.initializers_v2.RandomUniform object at 0x7f934f204850>\n",
      "\tlr value: 0.01\n",
      "\toptimizer value: Adamax\n",
      "\tbatch_size value: 32\n",
      "\tactivation_function value: relu\n",
      "\tbias_regularizer value: l2\n",
      "\tdropout_rate value: 0.4\n",
      "\tloss_function value: <keras.losses.SparseCategoricalCrossentropy object at 0x7f934f204880>\n",
      "\tepoch value: 10\n",
      "Model: \"model_7\"\n",
      "_________________________________________________________________\n",
      " Layer (type)                Output Shape              Param #   \n",
      "=================================================================\n",
      " input_16 (InputLayer)       [(None, 48, 48, 3)]       0         \n",
      "                                                                 \n",
      " resnet50v2 (Functional)     (None, 2048)              23564800  \n",
      "                                                                 \n",
      " dense-1 (Dense)             (None, 2048)              4196352   \n",
      "                                                                 \n",
      " dense-2 (Dense)             (None, 1024)              2098176   \n",
      "                                                                 \n",
      " dense-3 (Dense)             (None, 512)               524800    \n",
      "                                                                 \n",
      " dropout (Dropout)           (None, 512)               0         \n",
      "                                                                 \n",
      " dense-4 (Dense)             (None, 256)               131328    \n",
      "                                                                 \n",
      " dense_output (Dense)        (None, 7)                 1799      \n",
      "                                                                 \n",
      "=================================================================\n",
      "Total params: 30,517,255\n",
      "Trainable params: 6,952,455\n",
      "Non-trainable params: 23,564,800\n",
      "_________________________________________________________________\n",
      "Epoch 1/10\n",
      "673/673 [==============================] - ETA: 0s - loss: 1.9856 - accuracy: 0.2487"
     ]
    },
    {
     "name": "stderr",
     "output_type": "stream",
     "text": [
      "WARNING:absl:Found untraced functions such as _jit_compiled_convolution_op, _jit_compiled_convolution_op, _jit_compiled_convolution_op, _jit_compiled_convolution_op, _jit_compiled_convolution_op while saving (showing 5 of 53). These functions will not be directly callable after loading.\n"
     ]
    },
    {
     "name": "stdout",
     "output_type": "stream",
     "text": [
      "INFO:tensorflow:Assets written to: models/test/assets\n"
     ]
    },
    {
     "name": "stderr",
     "output_type": "stream",
     "text": [
      "INFO:tensorflow:Assets written to: models/test/assets\n"
     ]
    },
    {
     "name": "stdout",
     "output_type": "stream",
     "text": [
      "673/673 [==============================] - 435s 633ms/step - loss: 1.9856 - accuracy: 0.2487 - val_loss: 1.8056 - val_accuracy: 0.2454\n",
      "Epoch 2/10\n",
      "673/673 [==============================] - ETA: 0s - loss: 1.7946 - accuracy: 0.2610"
     ]
    },
    {
     "name": "stderr",
     "output_type": "stream",
     "text": [
      "WARNING:absl:Found untraced functions such as _jit_compiled_convolution_op, _jit_compiled_convolution_op, _jit_compiled_convolution_op, _jit_compiled_convolution_op, _jit_compiled_convolution_op while saving (showing 5 of 53). These functions will not be directly callable after loading.\n"
     ]
    },
    {
     "name": "stdout",
     "output_type": "stream",
     "text": [
      "INFO:tensorflow:Assets written to: models/test/assets\n"
     ]
    },
    {
     "name": "stderr",
     "output_type": "stream",
     "text": [
      "INFO:tensorflow:Assets written to: models/test/assets\n"
     ]
    },
    {
     "name": "stdout",
     "output_type": "stream",
     "text": [
      "673/673 [==============================] - 394s 586ms/step - loss: 1.7946 - accuracy: 0.2610 - val_loss: 1.7952 - val_accuracy: 0.2573\n",
      "Epoch 3/10\n",
      "673/673 [==============================] - ETA: 0s - loss: 1.7799 - accuracy: 0.2685"
     ]
    },
    {
     "name": "stderr",
     "output_type": "stream",
     "text": [
      "WARNING:absl:Found untraced functions such as _jit_compiled_convolution_op, _jit_compiled_convolution_op, _jit_compiled_convolution_op, _jit_compiled_convolution_op, _jit_compiled_convolution_op while saving (showing 5 of 53). These functions will not be directly callable after loading.\n"
     ]
    },
    {
     "name": "stdout",
     "output_type": "stream",
     "text": [
      "INFO:tensorflow:Assets written to: models/test/assets\n"
     ]
    },
    {
     "name": "stderr",
     "output_type": "stream",
     "text": [
      "INFO:tensorflow:Assets written to: models/test/assets\n"
     ]
    },
    {
     "name": "stdout",
     "output_type": "stream",
     "text": [
      "673/673 [==============================] - 430s 639ms/step - loss: 1.7799 - accuracy: 0.2685 - val_loss: 1.7634 - val_accuracy: 0.2756\n",
      "Epoch 4/10\n",
      "673/673 [==============================] - ETA: 0s - loss: 1.7729 - accuracy: 0.2723"
     ]
    },
    {
     "name": "stderr",
     "output_type": "stream",
     "text": [
      "WARNING:absl:Found untraced functions such as _jit_compiled_convolution_op, _jit_compiled_convolution_op, _jit_compiled_convolution_op, _jit_compiled_convolution_op, _jit_compiled_convolution_op while saving (showing 5 of 53). These functions will not be directly callable after loading.\n"
     ]
    },
    {
     "name": "stdout",
     "output_type": "stream",
     "text": [
      "INFO:tensorflow:Assets written to: models/test/assets\n"
     ]
    },
    {
     "name": "stderr",
     "output_type": "stream",
     "text": [
      "INFO:tensorflow:Assets written to: models/test/assets\n"
     ]
    },
    {
     "name": "stdout",
     "output_type": "stream",
     "text": [
      "673/673 [==============================] - 380s 564ms/step - loss: 1.7729 - accuracy: 0.2723 - val_loss: 1.7620 - val_accuracy: 0.2764\n",
      "Epoch 5/10\n",
      "673/673 [==============================] - ETA: 0s - loss: 1.7646 - accuracy: 0.2752"
     ]
    },
    {
     "name": "stderr",
     "output_type": "stream",
     "text": [
      "WARNING:absl:Found untraced functions such as _jit_compiled_convolution_op, _jit_compiled_convolution_op, _jit_compiled_convolution_op, _jit_compiled_convolution_op, _jit_compiled_convolution_op while saving (showing 5 of 53). These functions will not be directly callable after loading.\n"
     ]
    },
    {
     "name": "stdout",
     "output_type": "stream",
     "text": [
      "INFO:tensorflow:Assets written to: models/test/assets\n"
     ]
    },
    {
     "name": "stderr",
     "output_type": "stream",
     "text": [
      "INFO:tensorflow:Assets written to: models/test/assets\n"
     ]
    },
    {
     "name": "stdout",
     "output_type": "stream",
     "text": [
      "673/673 [==============================] - 411s 611ms/step - loss: 1.7646 - accuracy: 0.2752 - val_loss: 1.7581 - val_accuracy: 0.2827\n",
      "Epoch 6/10\n",
      "673/673 [==============================] - ETA: 0s - loss: 1.7566 - accuracy: 0.2793"
     ]
    },
    {
     "name": "stderr",
     "output_type": "stream",
     "text": [
      "WARNING:absl:Found untraced functions such as _jit_compiled_convolution_op, _jit_compiled_convolution_op, _jit_compiled_convolution_op, _jit_compiled_convolution_op, _jit_compiled_convolution_op while saving (showing 5 of 53). These functions will not be directly callable after loading.\n"
     ]
    },
    {
     "name": "stdout",
     "output_type": "stream",
     "text": [
      "INFO:tensorflow:Assets written to: models/test/assets\n"
     ]
    },
    {
     "name": "stderr",
     "output_type": "stream",
     "text": [
      "INFO:tensorflow:Assets written to: models/test/assets\n"
     ]
    },
    {
     "name": "stdout",
     "output_type": "stream",
     "text": [
      "673/673 [==============================] - 416s 618ms/step - loss: 1.7566 - accuracy: 0.2793 - val_loss: 1.7576 - val_accuracy: 0.2926\n",
      "Epoch 7/10\n",
      "673/673 [==============================] - ETA: 0s - loss: 1.7479 - accuracy: 0.2862"
     ]
    },
    {
     "name": "stderr",
     "output_type": "stream",
     "text": [
      "WARNING:absl:Found untraced functions such as _jit_compiled_convolution_op, _jit_compiled_convolution_op, _jit_compiled_convolution_op, _jit_compiled_convolution_op, _jit_compiled_convolution_op while saving (showing 5 of 53). These functions will not be directly callable after loading.\n"
     ]
    },
    {
     "name": "stdout",
     "output_type": "stream",
     "text": [
      "INFO:tensorflow:Assets written to: models/test/assets\n"
     ]
    },
    {
     "name": "stderr",
     "output_type": "stream",
     "text": [
      "INFO:tensorflow:Assets written to: models/test/assets\n"
     ]
    },
    {
     "name": "stdout",
     "output_type": "stream",
     "text": [
      "673/673 [==============================] - 426s 634ms/step - loss: 1.7479 - accuracy: 0.2862 - val_loss: 1.7426 - val_accuracy: 0.2891\n",
      "Epoch 8/10\n",
      "673/673 [==============================] - 287s 426ms/step - loss: 1.7425 - accuracy: 0.2893 - val_loss: 1.7617 - val_accuracy: 0.2823\n",
      "Epoch 9/10\n",
      "673/673 [==============================] - 353s 524ms/step - loss: 1.7583 - accuracy: 0.2792 - val_loss: 1.7558 - val_accuracy: 0.2842\n",
      "Epoch 10/10\n",
      "673/673 [==============================] - ETA: 0s - loss: 1.7352 - accuracy: 0.2877"
     ]
    },
    {
     "name": "stderr",
     "output_type": "stream",
     "text": [
      "WARNING:absl:Found untraced functions such as _jit_compiled_convolution_op, _jit_compiled_convolution_op, _jit_compiled_convolution_op, _jit_compiled_convolution_op, _jit_compiled_convolution_op while saving (showing 5 of 53). These functions will not be directly callable after loading.\n"
     ]
    },
    {
     "name": "stdout",
     "output_type": "stream",
     "text": [
      "INFO:tensorflow:Assets written to: models/test/assets\n"
     ]
    },
    {
     "name": "stderr",
     "output_type": "stream",
     "text": [
      "INFO:tensorflow:Assets written to: models/test/assets\n"
     ]
    },
    {
     "name": "stdout",
     "output_type": "stream",
     "text": [
      "673/673 [==============================] - 392s 583ms/step - loss: 1.7352 - accuracy: 0.2877 - val_loss: 1.7156 - val_accuracy: 0.2940\n",
      "225/225 [==============================] - 80s 345ms/step\n",
      "The accuracy on test data is: 29.284%\n",
      "\n",
      "\n",
      "\n",
      "MODEL: 12 TRAINING WITH THE FOLLOWING HYPER-PARAMETERS: \n",
      "hyperparameter currently being tested: batch_size [16]\n",
      "\tpooling value: avg\n",
      "\tbias_init value: <keras.initializers.initializers_v2.RandomUniform object at 0x7f934f204850>\n",
      "\tlr value: 0.01\n",
      "\toptimizer value: Adamax\n",
      "\tbatch_size value: 16\n",
      "\tactivation_function value: relu\n",
      "\tbias_regularizer value: l2\n",
      "\tdropout_rate value: 0.4\n",
      "\tloss_function value: <keras.losses.SparseCategoricalCrossentropy object at 0x7f934f204880>\n",
      "\tepoch value: 10\n",
      "Model: \"model_8\"\n",
      "_________________________________________________________________\n",
      " Layer (type)                Output Shape              Param #   \n",
      "=================================================================\n",
      " input_18 (InputLayer)       [(None, 48, 48, 3)]       0         \n",
      "                                                                 \n",
      " resnet50v2 (Functional)     (None, 2048)              23564800  \n",
      "                                                                 \n",
      " dense-1 (Dense)             (None, 2048)              4196352   \n",
      "                                                                 \n",
      " dense-2 (Dense)             (None, 1024)              2098176   \n",
      "                                                                 \n",
      " dense-3 (Dense)             (None, 512)               524800    \n",
      "                                                                 \n",
      " dropout (Dropout)           (None, 512)               0         \n",
      "                                                                 \n",
      " dense-4 (Dense)             (None, 256)               131328    \n",
      "                                                                 \n",
      " dense_output (Dense)        (None, 7)                 1799      \n",
      "                                                                 \n",
      "=================================================================\n",
      "Total params: 30,517,255\n",
      "Trainable params: 6,952,455\n",
      "Non-trainable params: 23,564,800\n",
      "_________________________________________________________________\n",
      "Epoch 1/10\n",
      "1346/1346 [==============================] - ETA: 0s - loss: 1.8980 - accuracy: 0.2490"
     ]
    },
    {
     "name": "stderr",
     "output_type": "stream",
     "text": [
      "WARNING:absl:Found untraced functions such as _jit_compiled_convolution_op, _jit_compiled_convolution_op, _jit_compiled_convolution_op, _jit_compiled_convolution_op, _jit_compiled_convolution_op while saving (showing 5 of 53). These functions will not be directly callable after loading.\n"
     ]
    },
    {
     "name": "stdout",
     "output_type": "stream",
     "text": [
      "INFO:tensorflow:Assets written to: models/test/assets\n"
     ]
    },
    {
     "name": "stderr",
     "output_type": "stream",
     "text": [
      "INFO:tensorflow:Assets written to: models/test/assets\n"
     ]
    },
    {
     "name": "stdout",
     "output_type": "stream",
     "text": [
      "1346/1346 [==============================] - 517s 378ms/step - loss: 1.8980 - accuracy: 0.2490 - val_loss: 1.8213 - val_accuracy: 0.2456\n",
      "Epoch 2/10\n",
      "1346/1346 [==============================] - ETA: 0s - loss: 1.8149 - accuracy: 0.2521"
     ]
    },
    {
     "name": "stderr",
     "output_type": "stream",
     "text": [
      "WARNING:absl:Found untraced functions such as _jit_compiled_convolution_op, _jit_compiled_convolution_op, _jit_compiled_convolution_op, _jit_compiled_convolution_op, _jit_compiled_convolution_op while saving (showing 5 of 53). These functions will not be directly callable after loading.\n"
     ]
    },
    {
     "name": "stdout",
     "output_type": "stream",
     "text": [
      "INFO:tensorflow:Assets written to: models/test/assets\n"
     ]
    },
    {
     "name": "stderr",
     "output_type": "stream",
     "text": [
      "INFO:tensorflow:Assets written to: models/test/assets\n"
     ]
    },
    {
     "name": "stdout",
     "output_type": "stream",
     "text": [
      "1346/1346 [==============================] - 532s 395ms/step - loss: 1.8149 - accuracy: 0.2521 - val_loss: 1.8202 - val_accuracy: 0.2456\n",
      "Epoch 3/10\n",
      "1346/1346 [==============================] - ETA: 0s - loss: 1.8117 - accuracy: 0.2524"
     ]
    },
    {
     "name": "stderr",
     "output_type": "stream",
     "text": [
      "WARNING:absl:Found untraced functions such as _jit_compiled_convolution_op, _jit_compiled_convolution_op, _jit_compiled_convolution_op, _jit_compiled_convolution_op, _jit_compiled_convolution_op while saving (showing 5 of 53). These functions will not be directly callable after loading.\n"
     ]
    },
    {
     "name": "stdout",
     "output_type": "stream",
     "text": [
      "INFO:tensorflow:Assets written to: models/test/assets\n"
     ]
    },
    {
     "name": "stderr",
     "output_type": "stream",
     "text": [
      "INFO:tensorflow:Assets written to: models/test/assets\n"
     ]
    },
    {
     "name": "stdout",
     "output_type": "stream",
     "text": [
      "1346/1346 [==============================] - 505s 375ms/step - loss: 1.8117 - accuracy: 0.2524 - val_loss: 1.8142 - val_accuracy: 0.2456\n",
      "Epoch 4/10\n",
      "1346/1346 [==============================] - ETA: 0s - loss: 1.8037 - accuracy: 0.2522"
     ]
    },
    {
     "name": "stderr",
     "output_type": "stream",
     "text": [
      "WARNING:absl:Found untraced functions such as _jit_compiled_convolution_op, _jit_compiled_convolution_op, _jit_compiled_convolution_op, _jit_compiled_convolution_op, _jit_compiled_convolution_op while saving (showing 5 of 53). These functions will not be directly callable after loading.\n"
     ]
    },
    {
     "name": "stdout",
     "output_type": "stream",
     "text": [
      "INFO:tensorflow:Assets written to: models/test/assets\n"
     ]
    },
    {
     "name": "stderr",
     "output_type": "stream",
     "text": [
      "INFO:tensorflow:Assets written to: models/test/assets\n"
     ]
    },
    {
     "name": "stdout",
     "output_type": "stream",
     "text": [
      "1346/1346 [==============================] - 525s 390ms/step - loss: 1.8037 - accuracy: 0.2522 - val_loss: 1.7972 - val_accuracy: 0.2456\n",
      "Epoch 5/10\n",
      "1346/1346 [==============================] - ETA: 0s - loss: 1.7922 - accuracy: 0.2585"
     ]
    },
    {
     "name": "stderr",
     "output_type": "stream",
     "text": [
      "WARNING:absl:Found untraced functions such as _jit_compiled_convolution_op, _jit_compiled_convolution_op, _jit_compiled_convolution_op, _jit_compiled_convolution_op, _jit_compiled_convolution_op while saving (showing 5 of 53). These functions will not be directly callable after loading.\n"
     ]
    },
    {
     "name": "stdout",
     "output_type": "stream",
     "text": [
      "INFO:tensorflow:Assets written to: models/test/assets\n"
     ]
    },
    {
     "name": "stderr",
     "output_type": "stream",
     "text": [
      "INFO:tensorflow:Assets written to: models/test/assets\n"
     ]
    },
    {
     "name": "stdout",
     "output_type": "stream",
     "text": [
      "1346/1346 [==============================] - 560s 416ms/step - loss: 1.7922 - accuracy: 0.2585 - val_loss: 1.7693 - val_accuracy: 0.2698\n",
      "Epoch 6/10\n",
      "1346/1346 [==============================] - 444s 330ms/step - loss: 1.7797 - accuracy: 0.2664 - val_loss: 1.7797 - val_accuracy: 0.2693\n",
      "Epoch 7/10\n",
      "1346/1346 [==============================] - 456s 339ms/step - loss: 1.7729 - accuracy: 0.2733 - val_loss: 1.7703 - val_accuracy: 0.2748\n",
      "Epoch 8/10\n",
      "1346/1346 [==============================] - 427s 317ms/step - loss: 1.7713 - accuracy: 0.2746 - val_loss: 1.7784 - val_accuracy: 0.2721\n",
      "Epoch 9/10\n",
      "1346/1346 [==============================] - ETA: 0s - loss: 1.7633 - accuracy: 0.2770"
     ]
    },
    {
     "name": "stderr",
     "output_type": "stream",
     "text": [
      "WARNING:absl:Found untraced functions such as _jit_compiled_convolution_op, _jit_compiled_convolution_op, _jit_compiled_convolution_op, _jit_compiled_convolution_op, _jit_compiled_convolution_op while saving (showing 5 of 53). These functions will not be directly callable after loading.\n"
     ]
    },
    {
     "name": "stdout",
     "output_type": "stream",
     "text": [
      "INFO:tensorflow:Assets written to: models/test/assets\n"
     ]
    },
    {
     "name": "stderr",
     "output_type": "stream",
     "text": [
      "INFO:tensorflow:Assets written to: models/test/assets\n"
     ]
    },
    {
     "name": "stdout",
     "output_type": "stream",
     "text": [
      "1346/1346 [==============================] - 607s 451ms/step - loss: 1.7633 - accuracy: 0.2770 - val_loss: 1.7562 - val_accuracy: 0.2788\n",
      "Epoch 10/10\n",
      "1346/1346 [==============================] - ETA: 0s - loss: 1.7619 - accuracy: 0.2777"
     ]
    },
    {
     "name": "stderr",
     "output_type": "stream",
     "text": [
      "WARNING:absl:Found untraced functions such as _jit_compiled_convolution_op, _jit_compiled_convolution_op, _jit_compiled_convolution_op, _jit_compiled_convolution_op, _jit_compiled_convolution_op while saving (showing 5 of 53). These functions will not be directly callable after loading.\n"
     ]
    },
    {
     "name": "stdout",
     "output_type": "stream",
     "text": [
      "INFO:tensorflow:Assets written to: models/test/assets\n"
     ]
    },
    {
     "name": "stderr",
     "output_type": "stream",
     "text": [
      "INFO:tensorflow:Assets written to: models/test/assets\n"
     ]
    },
    {
     "name": "stdout",
     "output_type": "stream",
     "text": [
      "1346/1346 [==============================] - 579s 430ms/step - loss: 1.7619 - accuracy: 0.2777 - val_loss: 1.7448 - val_accuracy: 0.2830\n",
      "225/225 [==============================] - 108s 464ms/step\n",
      "The accuracy on test data is: 27.389%\n",
      "\n",
      "\n",
      "\n",
      "MODEL: 13 TRAINING WITH THE FOLLOWING HYPER-PARAMETERS: \n",
      "hyperparameter currently being tested: batch_size [32]\n",
      "\tpooling value: avg\n",
      "\tbias_init value: <keras.initializers.initializers_v2.RandomUniform object at 0x7f934f204850>\n",
      "\tlr value: 0.01\n",
      "\toptimizer value: Adamax\n",
      "\tbatch_size value: 32\n",
      "\tactivation_function value: relu\n",
      "\tbias_regularizer value: l2\n",
      "\tdropout_rate value: 0.4\n",
      "\tloss_function value: <keras.losses.SparseCategoricalCrossentropy object at 0x7f934f204880>\n",
      "\tepoch value: 10\n",
      "Model: \"model_9\"\n",
      "_________________________________________________________________\n",
      " Layer (type)                Output Shape              Param #   \n",
      "=================================================================\n",
      " input_20 (InputLayer)       [(None, 48, 48, 3)]       0         \n",
      "                                                                 \n",
      " resnet50v2 (Functional)     (None, 2048)              23564800  \n",
      "                                                                 \n",
      " dense-1 (Dense)             (None, 2048)              4196352   \n",
      "                                                                 \n",
      " dense-2 (Dense)             (None, 1024)              2098176   \n",
      "                                                                 \n",
      " dense-3 (Dense)             (None, 512)               524800    \n",
      "                                                                 \n",
      " dropout (Dropout)           (None, 512)               0         \n",
      "                                                                 \n",
      " dense-4 (Dense)             (None, 256)               131328    \n",
      "                                                                 \n",
      " dense_output (Dense)        (None, 7)                 1799      \n",
      "                                                                 \n",
      "=================================================================\n",
      "Total params: 30,517,255\n",
      "Trainable params: 6,952,455\n",
      "Non-trainable params: 23,564,800\n",
      "_________________________________________________________________\n",
      "Epoch 1/10\n",
      "673/673 [==============================] - ETA: 0s - loss: 2.0840 - accuracy: 0.2477"
     ]
    },
    {
     "name": "stderr",
     "output_type": "stream",
     "text": [
      "WARNING:absl:Found untraced functions such as _jit_compiled_convolution_op, _jit_compiled_convolution_op, _jit_compiled_convolution_op, _jit_compiled_convolution_op, _jit_compiled_convolution_op while saving (showing 5 of 53). These functions will not be directly callable after loading.\n"
     ]
    },
    {
     "name": "stdout",
     "output_type": "stream",
     "text": [
      "INFO:tensorflow:Assets written to: models/test/assets\n"
     ]
    },
    {
     "name": "stderr",
     "output_type": "stream",
     "text": [
      "INFO:tensorflow:Assets written to: models/test/assets\n"
     ]
    },
    {
     "name": "stdout",
     "output_type": "stream",
     "text": [
      "673/673 [==============================] - 620s 901ms/step - loss: 2.0840 - accuracy: 0.2477 - val_loss: 1.8283 - val_accuracy: 0.2456\n",
      "Epoch 2/10\n",
      "673/673 [==============================] - ETA: 0s - loss: 1.8079 - accuracy: 0.2546"
     ]
    },
    {
     "name": "stderr",
     "output_type": "stream",
     "text": [
      "WARNING:absl:Found untraced functions such as _jit_compiled_convolution_op, _jit_compiled_convolution_op, _jit_compiled_convolution_op, _jit_compiled_convolution_op, _jit_compiled_convolution_op while saving (showing 5 of 53). These functions will not be directly callable after loading.\n"
     ]
    },
    {
     "name": "stdout",
     "output_type": "stream",
     "text": [
      "INFO:tensorflow:Assets written to: models/test/assets\n"
     ]
    },
    {
     "name": "stderr",
     "output_type": "stream",
     "text": [
      "INFO:tensorflow:Assets written to: models/test/assets\n"
     ]
    },
    {
     "name": "stdout",
     "output_type": "stream",
     "text": [
      "673/673 [==============================] - 499s 741ms/step - loss: 1.8079 - accuracy: 0.2546 - val_loss: 1.7899 - val_accuracy: 0.2596\n",
      "Epoch 3/10\n",
      "673/673 [==============================] - ETA: 0s - loss: 1.7812 - accuracy: 0.2665"
     ]
    },
    {
     "name": "stderr",
     "output_type": "stream",
     "text": [
      "WARNING:absl:Found untraced functions such as _jit_compiled_convolution_op, _jit_compiled_convolution_op, _jit_compiled_convolution_op, _jit_compiled_convolution_op, _jit_compiled_convolution_op while saving (showing 5 of 53). These functions will not be directly callable after loading.\n"
     ]
    },
    {
     "name": "stdout",
     "output_type": "stream",
     "text": [
      "INFO:tensorflow:Assets written to: models/test/assets\n"
     ]
    },
    {
     "name": "stderr",
     "output_type": "stream",
     "text": [
      "INFO:tensorflow:Assets written to: models/test/assets\n"
     ]
    },
    {
     "name": "stdout",
     "output_type": "stream",
     "text": [
      "673/673 [==============================] - 491s 729ms/step - loss: 1.7812 - accuracy: 0.2665 - val_loss: 1.7707 - val_accuracy: 0.2837\n",
      "Epoch 4/10\n",
      "673/673 [==============================] - ETA: 0s - loss: 1.7627 - accuracy: 0.2746"
     ]
    },
    {
     "name": "stderr",
     "output_type": "stream",
     "text": [
      "WARNING:absl:Found untraced functions such as _jit_compiled_convolution_op, _jit_compiled_convolution_op, _jit_compiled_convolution_op, _jit_compiled_convolution_op, _jit_compiled_convolution_op while saving (showing 5 of 53). These functions will not be directly callable after loading.\n"
     ]
    },
    {
     "name": "stdout",
     "output_type": "stream",
     "text": [
      "INFO:tensorflow:Assets written to: models/test/assets\n"
     ]
    },
    {
     "name": "stderr",
     "output_type": "stream",
     "text": [
      "INFO:tensorflow:Assets written to: models/test/assets\n"
     ]
    },
    {
     "name": "stdout",
     "output_type": "stream",
     "text": [
      "673/673 [==============================] - 452s 673ms/step - loss: 1.7627 - accuracy: 0.2746 - val_loss: 1.7618 - val_accuracy: 0.2658\n",
      "Epoch 5/10\n",
      "673/673 [==============================] - ETA: 0s - loss: 1.7532 - accuracy: 0.2820"
     ]
    },
    {
     "name": "stderr",
     "output_type": "stream",
     "text": [
      "WARNING:absl:Found untraced functions such as _jit_compiled_convolution_op, _jit_compiled_convolution_op, _jit_compiled_convolution_op, _jit_compiled_convolution_op, _jit_compiled_convolution_op while saving (showing 5 of 53). These functions will not be directly callable after loading.\n"
     ]
    },
    {
     "name": "stdout",
     "output_type": "stream",
     "text": [
      "INFO:tensorflow:Assets written to: models/test/assets\n"
     ]
    },
    {
     "name": "stderr",
     "output_type": "stream",
     "text": [
      "INFO:tensorflow:Assets written to: models/test/assets\n"
     ]
    },
    {
     "name": "stdout",
     "output_type": "stream",
     "text": [
      "673/673 [==============================] - 518s 770ms/step - loss: 1.7532 - accuracy: 0.2820 - val_loss: 1.7166 - val_accuracy: 0.3047\n",
      "Epoch 6/10\n",
      "673/673 [==============================] - ETA: 0s - loss: 1.7385 - accuracy: 0.2914"
     ]
    },
    {
     "name": "stderr",
     "output_type": "stream",
     "text": [
      "WARNING:absl:Found untraced functions such as _jit_compiled_convolution_op, _jit_compiled_convolution_op, _jit_compiled_convolution_op, _jit_compiled_convolution_op, _jit_compiled_convolution_op while saving (showing 5 of 53). These functions will not be directly callable after loading.\n"
     ]
    },
    {
     "name": "stdout",
     "output_type": "stream",
     "text": [
      "INFO:tensorflow:Assets written to: models/test/assets\n"
     ]
    },
    {
     "name": "stderr",
     "output_type": "stream",
     "text": [
      "INFO:tensorflow:Assets written to: models/test/assets\n"
     ]
    },
    {
     "name": "stdout",
     "output_type": "stream",
     "text": [
      "673/673 [==============================] - 421s 626ms/step - loss: 1.7385 - accuracy: 0.2914 - val_loss: 1.7097 - val_accuracy: 0.3178\n",
      "Epoch 7/10\n",
      "673/673 [==============================] - 352s 523ms/step - loss: 1.7308 - accuracy: 0.2985 - val_loss: 1.7212 - val_accuracy: 0.3033\n",
      "Epoch 8/10\n",
      "673/673 [==============================] - ETA: 0s - loss: 1.7308 - accuracy: 0.3014"
     ]
    },
    {
     "name": "stderr",
     "output_type": "stream",
     "text": [
      "WARNING:absl:Found untraced functions such as _jit_compiled_convolution_op, _jit_compiled_convolution_op, _jit_compiled_convolution_op, _jit_compiled_convolution_op, _jit_compiled_convolution_op while saving (showing 5 of 53). These functions will not be directly callable after loading.\n"
     ]
    },
    {
     "name": "stdout",
     "output_type": "stream",
     "text": [
      "INFO:tensorflow:Assets written to: models/test/assets\n"
     ]
    },
    {
     "name": "stderr",
     "output_type": "stream",
     "text": [
      "INFO:tensorflow:Assets written to: models/test/assets\n"
     ]
    },
    {
     "name": "stdout",
     "output_type": "stream",
     "text": [
      "673/673 [==============================] - 453s 673ms/step - loss: 1.7308 - accuracy: 0.3014 - val_loss: 1.7035 - val_accuracy: 0.3189\n",
      "Epoch 9/10\n",
      "673/673 [==============================] - 345s 513ms/step - loss: 1.7207 - accuracy: 0.3031 - val_loss: 1.7104 - val_accuracy: 0.3127\n",
      "Epoch 10/10\n",
      "673/673 [==============================] - ETA: 0s - loss: 1.7177 - accuracy: 0.3088"
     ]
    },
    {
     "name": "stderr",
     "output_type": "stream",
     "text": [
      "WARNING:absl:Found untraced functions such as _jit_compiled_convolution_op, _jit_compiled_convolution_op, _jit_compiled_convolution_op, _jit_compiled_convolution_op, _jit_compiled_convolution_op while saving (showing 5 of 53). These functions will not be directly callable after loading.\n"
     ]
    },
    {
     "name": "stdout",
     "output_type": "stream",
     "text": [
      "INFO:tensorflow:Assets written to: models/test/assets\n"
     ]
    },
    {
     "name": "stderr",
     "output_type": "stream",
     "text": [
      "INFO:tensorflow:Assets written to: models/test/assets\n"
     ]
    },
    {
     "name": "stdout",
     "output_type": "stream",
     "text": [
      "673/673 [==============================] - 479s 712ms/step - loss: 1.7177 - accuracy: 0.3088 - val_loss: 1.6993 - val_accuracy: 0.3205\n",
      "225/225 [==============================] - 62s 267ms/step\n",
      "The accuracy on test data is: 32.432%\n",
      "\n",
      "\n",
      "\n",
      "MODEL: 14 TRAINING WITH THE FOLLOWING HYPER-PARAMETERS: \n",
      "hyperparameter currently being tested: batch_size [64]\n",
      "\tpooling value: avg\n",
      "\tbias_init value: <keras.initializers.initializers_v2.RandomUniform object at 0x7f934f204850>\n",
      "\tlr value: 0.01\n",
      "\toptimizer value: Adamax\n",
      "\tbatch_size value: 64\n",
      "\tactivation_function value: relu\n",
      "\tbias_regularizer value: l2\n",
      "\tdropout_rate value: 0.4\n",
      "\tloss_function value: <keras.losses.SparseCategoricalCrossentropy object at 0x7f934f204880>\n",
      "\tepoch value: 10\n",
      "Model: \"model_10\"\n",
      "_________________________________________________________________\n",
      " Layer (type)                Output Shape              Param #   \n",
      "=================================================================\n",
      " input_22 (InputLayer)       [(None, 48, 48, 3)]       0         \n",
      "                                                                 \n",
      " resnet50v2 (Functional)     (None, 2048)              23564800  \n",
      "                                                                 \n",
      " dense-1 (Dense)             (None, 2048)              4196352   \n",
      "                                                                 \n",
      " dense-2 (Dense)             (None, 1024)              2098176   \n",
      "                                                                 \n",
      " dense-3 (Dense)             (None, 512)               524800    \n",
      "                                                                 \n",
      " dropout (Dropout)           (None, 512)               0         \n",
      "                                                                 \n",
      " dense-4 (Dense)             (None, 256)               131328    \n",
      "                                                                 \n",
      " dense_output (Dense)        (None, 7)                 1799      \n",
      "                                                                 \n",
      "=================================================================\n",
      "Total params: 30,517,255\n",
      "Trainable params: 6,952,455\n",
      "Non-trainable params: 23,564,800\n",
      "_________________________________________________________________\n",
      "Epoch 1/10\n",
      "337/337 [==============================] - ETA: 0s - loss: 2.0876 - accuracy: 0.2459"
     ]
    },
    {
     "name": "stderr",
     "output_type": "stream",
     "text": [
      "WARNING:absl:Found untraced functions such as _jit_compiled_convolution_op, _jit_compiled_convolution_op, _jit_compiled_convolution_op, _jit_compiled_convolution_op, _jit_compiled_convolution_op while saving (showing 5 of 53). These functions will not be directly callable after loading.\n"
     ]
    },
    {
     "name": "stdout",
     "output_type": "stream",
     "text": [
      "INFO:tensorflow:Assets written to: models/test/assets\n"
     ]
    },
    {
     "name": "stderr",
     "output_type": "stream",
     "text": [
      "INFO:tensorflow:Assets written to: models/test/assets\n"
     ]
    },
    {
     "name": "stdout",
     "output_type": "stream",
     "text": [
      "337/337 [==============================] - 415s 1s/step - loss: 2.0876 - accuracy: 0.2459 - val_loss: 1.8223 - val_accuracy: 0.2456\n",
      "Epoch 2/10\n",
      "337/337 [==============================] - ETA: 0s - loss: 1.8106 - accuracy: 0.2520"
     ]
    },
    {
     "name": "stderr",
     "output_type": "stream",
     "text": [
      "WARNING:absl:Found untraced functions such as _jit_compiled_convolution_op, _jit_compiled_convolution_op, _jit_compiled_convolution_op, _jit_compiled_convolution_op, _jit_compiled_convolution_op while saving (showing 5 of 53). These functions will not be directly callable after loading.\n"
     ]
    },
    {
     "name": "stdout",
     "output_type": "stream",
     "text": [
      "INFO:tensorflow:Assets written to: models/test/assets\n"
     ]
    },
    {
     "name": "stderr",
     "output_type": "stream",
     "text": [
      "INFO:tensorflow:Assets written to: models/test/assets\n"
     ]
    },
    {
     "name": "stdout",
     "output_type": "stream",
     "text": [
      "337/337 [==============================] - 400s 1s/step - loss: 1.8106 - accuracy: 0.2520 - val_loss: 1.8003 - val_accuracy: 0.2459\n",
      "Epoch 3/10\n",
      "337/337 [==============================] - ETA: 0s - loss: 1.7971 - accuracy: 0.2535"
     ]
    },
    {
     "name": "stderr",
     "output_type": "stream",
     "text": [
      "WARNING:absl:Found untraced functions such as _jit_compiled_convolution_op, _jit_compiled_convolution_op, _jit_compiled_convolution_op, _jit_compiled_convolution_op, _jit_compiled_convolution_op while saving (showing 5 of 53). These functions will not be directly callable after loading.\n"
     ]
    },
    {
     "name": "stdout",
     "output_type": "stream",
     "text": [
      "INFO:tensorflow:Assets written to: models/test/assets\n"
     ]
    },
    {
     "name": "stderr",
     "output_type": "stream",
     "text": [
      "INFO:tensorflow:Assets written to: models/test/assets\n"
     ]
    },
    {
     "name": "stdout",
     "output_type": "stream",
     "text": [
      "337/337 [==============================] - 381s 1s/step - loss: 1.7971 - accuracy: 0.2535 - val_loss: 1.7900 - val_accuracy: 0.2491\n",
      "Epoch 4/10\n",
      "337/337 [==============================] - ETA: 0s - loss: 1.7791 - accuracy: 0.2636"
     ]
    },
    {
     "name": "stderr",
     "output_type": "stream",
     "text": [
      "WARNING:absl:Found untraced functions such as _jit_compiled_convolution_op, _jit_compiled_convolution_op, _jit_compiled_convolution_op, _jit_compiled_convolution_op, _jit_compiled_convolution_op while saving (showing 5 of 53). These functions will not be directly callable after loading.\n"
     ]
    },
    {
     "name": "stdout",
     "output_type": "stream",
     "text": [
      "INFO:tensorflow:Assets written to: models/test/assets\n"
     ]
    },
    {
     "name": "stderr",
     "output_type": "stream",
     "text": [
      "INFO:tensorflow:Assets written to: models/test/assets\n"
     ]
    },
    {
     "name": "stdout",
     "output_type": "stream",
     "text": [
      "337/337 [==============================] - 463s 1s/step - loss: 1.7791 - accuracy: 0.2636 - val_loss: 1.7568 - val_accuracy: 0.2717\n",
      "Epoch 5/10\n",
      "337/337 [==============================] - ETA: 0s - loss: 1.7631 - accuracy: 0.2734"
     ]
    },
    {
     "name": "stderr",
     "output_type": "stream",
     "text": [
      "WARNING:absl:Found untraced functions such as _jit_compiled_convolution_op, _jit_compiled_convolution_op, _jit_compiled_convolution_op, _jit_compiled_convolution_op, _jit_compiled_convolution_op while saving (showing 5 of 53). These functions will not be directly callable after loading.\n"
     ]
    },
    {
     "name": "stdout",
     "output_type": "stream",
     "text": [
      "INFO:tensorflow:Assets written to: models/test/assets\n"
     ]
    },
    {
     "name": "stderr",
     "output_type": "stream",
     "text": [
      "INFO:tensorflow:Assets written to: models/test/assets\n"
     ]
    },
    {
     "name": "stdout",
     "output_type": "stream",
     "text": [
      "337/337 [==============================] - 437s 1s/step - loss: 1.7631 - accuracy: 0.2734 - val_loss: 1.7439 - val_accuracy: 0.2994\n",
      "Epoch 6/10\n",
      "337/337 [==============================] - ETA: 0s - loss: 1.7455 - accuracy: 0.2854"
     ]
    },
    {
     "name": "stderr",
     "output_type": "stream",
     "text": [
      "WARNING:absl:Found untraced functions such as _jit_compiled_convolution_op, _jit_compiled_convolution_op, _jit_compiled_convolution_op, _jit_compiled_convolution_op, _jit_compiled_convolution_op while saving (showing 5 of 53). These functions will not be directly callable after loading.\n"
     ]
    },
    {
     "name": "stdout",
     "output_type": "stream",
     "text": [
      "INFO:tensorflow:Assets written to: models/test/assets\n"
     ]
    },
    {
     "name": "stderr",
     "output_type": "stream",
     "text": [
      "INFO:tensorflow:Assets written to: models/test/assets\n"
     ]
    },
    {
     "name": "stdout",
     "output_type": "stream",
     "text": [
      "337/337 [==============================] - 373s 1s/step - loss: 1.7455 - accuracy: 0.2854 - val_loss: 1.7207 - val_accuracy: 0.2920\n",
      "Epoch 7/10\n",
      "337/337 [==============================] - 341s 1s/step - loss: 1.7341 - accuracy: 0.2924 - val_loss: 1.7275 - val_accuracy: 0.2901\n",
      "Epoch 8/10\n",
      "337/337 [==============================] - 322s 951ms/step - loss: 1.7240 - accuracy: 0.2961 - val_loss: 1.7364 - val_accuracy: 0.2905\n",
      "Epoch 9/10\n",
      "337/337 [==============================] - 306s 909ms/step - loss: 1.7194 - accuracy: 0.3015 - val_loss: 1.7225 - val_accuracy: 0.3021\n",
      "Epoch 10/10\n",
      "337/337 [==============================] - ETA: 0s - loss: 1.7158 - accuracy: 0.3033"
     ]
    },
    {
     "name": "stderr",
     "output_type": "stream",
     "text": [
      "WARNING:absl:Found untraced functions such as _jit_compiled_convolution_op, _jit_compiled_convolution_op, _jit_compiled_convolution_op, _jit_compiled_convolution_op, _jit_compiled_convolution_op while saving (showing 5 of 53). These functions will not be directly callable after loading.\n"
     ]
    },
    {
     "name": "stdout",
     "output_type": "stream",
     "text": [
      "INFO:tensorflow:Assets written to: models/test/assets\n"
     ]
    },
    {
     "name": "stderr",
     "output_type": "stream",
     "text": [
      "INFO:tensorflow:Assets written to: models/test/assets\n"
     ]
    },
    {
     "name": "stdout",
     "output_type": "stream",
     "text": [
      "337/337 [==============================] - 398s 1s/step - loss: 1.7158 - accuracy: 0.3033 - val_loss: 1.7201 - val_accuracy: 0.2909\n",
      "225/225 [==============================] - 100s 424ms/step\n",
      "The accuracy on test data is: 29.075%\n",
      "\n",
      "\n",
      "\n",
      "MODEL: 15 TRAINING WITH THE FOLLOWING HYPER-PARAMETERS: \n",
      "hyperparameter currently being tested: batch_size [128]\n",
      "\tpooling value: avg\n",
      "\tbias_init value: <keras.initializers.initializers_v2.RandomUniform object at 0x7f934f204850>\n",
      "\tlr value: 0.01\n",
      "\toptimizer value: Adamax\n",
      "\tbatch_size value: 128\n",
      "\tactivation_function value: relu\n",
      "\tbias_regularizer value: l2\n",
      "\tdropout_rate value: 0.4\n",
      "\tloss_function value: <keras.losses.SparseCategoricalCrossentropy object at 0x7f934f204880>\n",
      "\tepoch value: 10\n",
      "Model: \"model_11\"\n",
      "_________________________________________________________________\n",
      " Layer (type)                Output Shape              Param #   \n",
      "=================================================================\n",
      " input_24 (InputLayer)       [(None, 48, 48, 3)]       0         \n",
      "                                                                 \n",
      " resnet50v2 (Functional)     (None, 2048)              23564800  \n",
      "                                                                 \n",
      " dense-1 (Dense)             (None, 2048)              4196352   \n",
      "                                                                 \n",
      " dense-2 (Dense)             (None, 1024)              2098176   \n",
      "                                                                 \n",
      " dense-3 (Dense)             (None, 512)               524800    \n",
      "                                                                 \n",
      " dropout (Dropout)           (None, 512)               0         \n",
      "                                                                 \n",
      " dense-4 (Dense)             (None, 256)               131328    \n",
      "                                                                 \n",
      " dense_output (Dense)        (None, 7)                 1799      \n",
      "                                                                 \n",
      "=================================================================\n",
      "Total params: 30,517,255\n",
      "Trainable params: 6,952,455\n",
      "Non-trainable params: 23,564,800\n",
      "_________________________________________________________________\n",
      "Epoch 1/10\n",
      "169/169 [==============================] - ETA: 0s - loss: 2.3016 - accuracy: 0.2433"
     ]
    },
    {
     "name": "stderr",
     "output_type": "stream",
     "text": [
      "WARNING:absl:Found untraced functions such as _jit_compiled_convolution_op, _jit_compiled_convolution_op, _jit_compiled_convolution_op, _jit_compiled_convolution_op, _jit_compiled_convolution_op while saving (showing 5 of 53). These functions will not be directly callable after loading.\n"
     ]
    },
    {
     "name": "stdout",
     "output_type": "stream",
     "text": [
      "INFO:tensorflow:Assets written to: models/test/assets\n"
     ]
    },
    {
     "name": "stderr",
     "output_type": "stream",
     "text": [
      "INFO:tensorflow:Assets written to: models/test/assets\n"
     ]
    },
    {
     "name": "stdout",
     "output_type": "stream",
     "text": [
      "169/169 [==============================] - 390s 2s/step - loss: 2.3016 - accuracy: 0.2433 - val_loss: 1.8167 - val_accuracy: 0.2456\n",
      "Epoch 2/10\n",
      "169/169 [==============================] - ETA: 0s - loss: 1.8041 - accuracy: 0.2540"
     ]
    },
    {
     "name": "stderr",
     "output_type": "stream",
     "text": [
      "WARNING:absl:Found untraced functions such as _jit_compiled_convolution_op, _jit_compiled_convolution_op, _jit_compiled_convolution_op, _jit_compiled_convolution_op, _jit_compiled_convolution_op while saving (showing 5 of 53). These functions will not be directly callable after loading.\n"
     ]
    },
    {
     "name": "stdout",
     "output_type": "stream",
     "text": [
      "INFO:tensorflow:Assets written to: models/test/assets\n"
     ]
    },
    {
     "name": "stderr",
     "output_type": "stream",
     "text": [
      "INFO:tensorflow:Assets written to: models/test/assets\n"
     ]
    },
    {
     "name": "stdout",
     "output_type": "stream",
     "text": [
      "169/169 [==============================] - 358s 2s/step - loss: 1.8041 - accuracy: 0.2540 - val_loss: 1.7843 - val_accuracy: 0.2689\n",
      "Epoch 3/10\n",
      "169/169 [==============================] - ETA: 0s - loss: 1.7695 - accuracy: 0.2715"
     ]
    },
    {
     "name": "stderr",
     "output_type": "stream",
     "text": [
      "WARNING:absl:Found untraced functions such as _jit_compiled_convolution_op, _jit_compiled_convolution_op, _jit_compiled_convolution_op, _jit_compiled_convolution_op, _jit_compiled_convolution_op while saving (showing 5 of 53). These functions will not be directly callable after loading.\n"
     ]
    },
    {
     "name": "stdout",
     "output_type": "stream",
     "text": [
      "INFO:tensorflow:Assets written to: models/test/assets\n"
     ]
    },
    {
     "name": "stderr",
     "output_type": "stream",
     "text": [
      "INFO:tensorflow:Assets written to: models/test/assets\n"
     ]
    },
    {
     "name": "stdout",
     "output_type": "stream",
     "text": [
      "169/169 [==============================] - 496s 3s/step - loss: 1.7695 - accuracy: 0.2715 - val_loss: 1.7535 - val_accuracy: 0.2728\n",
      "Epoch 4/10\n",
      "169/169 [==============================] - ETA: 0s - loss: 1.7527 - accuracy: 0.2810"
     ]
    },
    {
     "name": "stderr",
     "output_type": "stream",
     "text": [
      "WARNING:absl:Found untraced functions such as _jit_compiled_convolution_op, _jit_compiled_convolution_op, _jit_compiled_convolution_op, _jit_compiled_convolution_op, _jit_compiled_convolution_op while saving (showing 5 of 53). These functions will not be directly callable after loading.\n"
     ]
    },
    {
     "name": "stdout",
     "output_type": "stream",
     "text": [
      "INFO:tensorflow:Assets written to: models/test/assets\n"
     ]
    },
    {
     "name": "stderr",
     "output_type": "stream",
     "text": [
      "INFO:tensorflow:Assets written to: models/test/assets\n"
     ]
    },
    {
     "name": "stdout",
     "output_type": "stream",
     "text": [
      "169/169 [==============================] - 471s 3s/step - loss: 1.7527 - accuracy: 0.2810 - val_loss: 1.7415 - val_accuracy: 0.2862\n",
      "Epoch 5/10\n",
      "169/169 [==============================] - ETA: 0s - loss: 1.7466 - accuracy: 0.2868"
     ]
    }
   ],
   "source": [
    "#####################################################################\n",
    "###           MULTIPLE Hyperparameters to Be Tested               ###\n",
    "#####################################################################\n",
    "MODEL_NUMBER = 1\n",
    "FILENAME = 'results.csv'\n",
    "PATH_TO_DIR_CONTAINING_PLOTS = os.getcwd() + '/plots'\n",
    "PATH_TO_FILE_CONTAINING_RESULTS = ''\n",
    "I = 1\n",
    "# Enter Model Integer to Start At\n",
    "START_I = 4\n",
    "# for google colab;\n",
    "# FILENAME = '/content/drive/MyDrive/UCI/3_Junior/3_Spring_23/CS_172B/results.csv'\n",
    "# PATH_TO_DIR_CONTAINING_PLOTS = '/content/drive/MyDrive/UCI/3_Junior/3_Spring_23/CS_172B'\n",
    "# PATH_TO_FILE_CONTAINING_RESULTS = '/content/drive/MyDrive/UCI/3_Junior/3_Spring_23/CS_172B/'\n",
    "\n",
    "\n",
    "# hyperparameters\n",
    "# Note: for optimizer, just write if statement or create simple function\n",
    "#           to create the optimizer object based on str value\n",
    "hyperparam_pooling = ['avg', 'max']\n",
    "hyperparam_bias_init = [RandomUniform(minval=-0.01, maxval=0.01, seed=seed),\n",
    "                        Zeros(), HeNormal(seed=seed), HeUniform(seed=seed)]\n",
    "hyperparam_lr = [0.001, 0.01, 0.1]\n",
    "hyperparam_optimizer = ['Adam', 'Adamax']\n",
    "hyperparam_batch_size = [16, 32, 64, 128, 256, 512]\n",
    "hyperparam_activation_function = ['relu']\n",
    "hyperparam_bias_regularizer = ['l2']\n",
    "hyperparam_dropout_rate = [0.4, 0.3, 0.2]   # if using dropout layer(s)\n",
    "hyperparam_loss_function = [tf.keras.losses.SparseCategoricalCrossentropy()]\n",
    "hyperparam_epoch = [10, 25, 50, 100, 250]\n",
    "\n",
    "hyperparameters = {\n",
    "  # note: avg pooling returns a 2D tensor...idk wtf that is but probs need to resize somewhere\n",
    "  'pooling': hyperparam_pooling,\n",
    "  'bias_init': hyperparam_bias_init,\n",
    "  'lr': hyperparam_lr,\n",
    "  'optimizer': hyperparam_optimizer,\n",
    "  'batch_size': hyperparam_batch_size,\n",
    "  'activation_function': hyperparam_activation_function,\n",
    "  'bias_regularizer': hyperparam_bias_regularizer,\n",
    "  'dropout_rate': hyperparam_dropout_rate,\n",
    "  'loss_function': hyperparam_loss_function,\n",
    "  'epoch': hyperparam_epoch,\n",
    "}\n",
    "\n",
    "# CURRENT TESTING: want to test each hyperparameter 1 by 1 first,\n",
    "#   so we set everything to default at the start of each run for now,\n",
    "#   changing one hyperparamter at a time\n",
    "# defaults\n",
    "default_pooling = 'avg'\n",
    "default_bias_init = RandomUniform(minval=-0.01, maxval=0.01, seed=seed)\n",
    "default_lr = 0.01\n",
    "default_optimizer = 'Adamax'\n",
    "default_batch_size = 32\n",
    "default_activation_function = 'relu'\n",
    "default_bias_regularizer = 'l2'\n",
    "default_dropout_rate = 0.4\n",
    "default_loss_function = tf.keras.losses.SparseCategoricalCrossentropy()\n",
    "default_epoch = 10\n",
    "\n",
    "defaults = {\n",
    "    'pooling': default_pooling,\n",
    "    'bias_init': default_bias_init,\n",
    "    'lr': default_lr,\n",
    "    'optimizer': default_optimizer,\n",
    "    'batch_size': default_batch_size,\n",
    "    'activation_function': default_activation_function,\n",
    "    'bias_regularizer': default_bias_regularizer,\n",
    "    'dropout_rate': default_dropout_rate,\n",
    "    'loss_function': default_loss_function,\n",
    "    'epoch': default_epoch,\n",
    "}\n",
    "\n",
    "if START_I == 1:\n",
    "  # header for 'results.csv'\n",
    "  with open(FILENAME, 'a') as f:\n",
    "    f.write(\"Model No.,Pooling Type,Bias Init,Bias Regularizer,Optimizer,Activation Function,Loss Function,Dropout Rate,Learning Rate,Batch Size,Epoch,Train Accuracy,Validation Accuracy,Test Accuracy\\n\")\n",
    "\n",
    "\n",
    "# FOR LOOP STARTS HERE, EVERY HYPERPARAMETER SHOULD BE A VARIABLE\n",
    "for h_key, h_value in hyperparameters.items():\n",
    "  for h_element in h_value:\n",
    "    if I < START_I:\n",
    "      I += 1\n",
    "      MODEL_NUMBER += 1\n",
    "      continue\n",
    "    print(f'MODEL: {MODEL_NUMBER} TRAINING WITH THE FOLLOWING HYPER-PARAMETERS: ')\n",
    "    print(f'hyperparameter currently being tested: {h_key} [{h_element}]')\n",
    "\n",
    "    # set hyperparameter values\n",
    "    curr_pooling = defaults['pooling'] if h_key != 'pooling' else h_element\n",
    "    curr_bias_init = defaults['bias_init'] if h_key != 'bias_init' else h_element\n",
    "    curr_lr = defaults['lr'] if h_key != 'lr' else h_element\n",
    "    # NOTE: optimizer is still a string here!\n",
    "    curr_optimizer = defaults['optimizer'] if h_key != 'optimizer' else h_element\n",
    "    curr_batch_size = defaults['batch_size'] if h_key != 'batch_size' else h_element\n",
    "    curr_activation_function = defaults['activation_function'] if h_key != 'activation_function' else h_element\n",
    "    curr_bias_regularizer = defaults['bias_regularizer'] if h_key != 'bias_regularizer' else h_element\n",
    "    curr_dropout_rate = defaults['dropout_rate'] if h_key != 'dropout_rate' else h_element\n",
    "    curr_loss_function = defaults['loss_function'] if h_key != 'loss_function' else h_element\n",
    "    curr_epoch = defaults['epoch'] if h_key != 'epoch' else h_element\n",
    "\n",
    "    current = [\n",
    "      curr_pooling,\n",
    "      curr_bias_init,\n",
    "      curr_lr,\n",
    "      curr_optimizer,\n",
    "      curr_batch_size,\n",
    "      curr_activation_function,\n",
    "      curr_bias_regularizer,\n",
    "      curr_dropout_rate,\n",
    "      curr_loss_function,\n",
    "      curr_epoch\n",
    "    ]\n",
    "\n",
    "    for i, key in enumerate(hyperparameters.keys()):\n",
    "      print(f'\\t{key} value: {current[i]}')\n",
    "\n",
    "\n",
    "    #####################################################################\n",
    "    ###                    Load ResNet base_model                     ###\n",
    "    #####################################################################\n",
    "    base_model = ResNet50V2(include_top=False, \n",
    "                            weights='imagenet', \n",
    "                            input_shape=(48, 48, 3), \n",
    "                            pooling=curr_pooling)\n",
    "\n",
    "    # freeze weights of base_model - note: this works because the 'trainable' attribute is recursive \n",
    "    # (i.e. bc we freeze the base model, every layer in the model is frozen)\n",
    "    base_model.trainable = False\n",
    "    # for layer in base_model.layers:\n",
    "    #     layer.trainable = False\n",
    "\n",
    "\n",
    "    #####################################################################\n",
    "    ###                         Create Model                          ###\n",
    "    #####################################################################\n",
    "    inputs = keras.Input(shape=(48, 48, 3))\n",
    "\n",
    "    # We make sure that the base_model is running in inference mode here,\n",
    "    # by passing `training=False`. This is important for fine-tuning later\n",
    "    x = base_model(\n",
    "          inputs, \n",
    "          training=False\n",
    "        )\n",
    "\n",
    "    x = Dense(\n",
    "          name='dense-1',\n",
    "          units=2048, \n",
    "          activation=curr_activation_function, \n",
    "          use_bias=True, \n",
    "          bias_regularizer=curr_bias_regularizer, \n",
    "          bias_initializer=curr_bias_init\n",
    "        )(x)\n",
    "    x = Dense(\n",
    "          name='dense-2',\n",
    "          units=1024, \n",
    "          activation=curr_activation_function, \n",
    "          use_bias=True, \n",
    "          bias_regularizer=curr_bias_regularizer, \n",
    "          bias_initializer=curr_bias_init\n",
    "        )(x)\n",
    "    x = Dense(\n",
    "          name='dense-3',\n",
    "          units=512, \n",
    "          activation=curr_activation_function, \n",
    "          use_bias=True, \n",
    "          bias_regularizer=curr_bias_regularizer, \n",
    "          bias_initializer=curr_bias_init\n",
    "        )(x)\n",
    "    # prevent overfitting & improve the generalization performance of the model by randomly \"dropping out\" \n",
    "    #   (i.e., temporarily removing) a portion of the units or nodes in a layer during training\n",
    "    x = Dropout(\n",
    "          name='dropout',\n",
    "          rate=curr_dropout_rate\n",
    "        )(x)\n",
    "    x = Dense(\n",
    "          name='dense-4',\n",
    "          units=256, \n",
    "          activation=curr_activation_function, \n",
    "          use_bias=True, \n",
    "          bias_regularizer=curr_bias_regularizer, \n",
    "          bias_initializer=curr_bias_init\n",
    "        )(x)\n",
    "    # only flatten if using conv2d lol...\n",
    "    # x = Flatten()(x)\n",
    "    outputs = Dense(\n",
    "          name='dense_output', \n",
    "          units=7, \n",
    "          activation='softmax'\n",
    "        )(x)\n",
    "\n",
    "    model = Model(inputs, outputs)\n",
    "    model.summary()\n",
    "\n",
    "\n",
    "    #####################################################################\n",
    "    ###                        Compile Model                          ###\n",
    "    #####################################################################\n",
    "    model.compile(\n",
    "        loss = curr_loss_function, \n",
    "        optimizer= Adamax(learning_rate=curr_lr) if curr_optimizer == 'Adamax' else Adam(learning_rate=curr_lr), \n",
    "        metrics=['accuracy']\n",
    "    )\n",
    "    callbacks = [\n",
    "        keras.callbacks.ModelCheckpoint(\n",
    "            filepath = 'models/test', \n",
    "            save_freq = 'epoch',\n",
    "            save_best_only = True\n",
    "        )\n",
    "    ]\n",
    "\n",
    "    #####################################################################\n",
    "    ###                          Fit Model                            ###\n",
    "    #####################################################################\n",
    "    history = model.fit(\n",
    "        X_train, Y_train, \n",
    "        validation_data=(X_validation, Y_validation),\n",
    "        batch_size=curr_batch_size, \n",
    "        epochs=curr_epoch, \n",
    "        callbacks = callbacks\n",
    "    )\n",
    "\n",
    "\n",
    "    #####################################################################\n",
    "    ###                    Plot Training Results                      ###\n",
    "    ### Note: Modify code to store plots in a excel spreadsheet       ###\n",
    "    ###         rather than plot.                                     ###\n",
    "    #####################################################################\n",
    "    acc = history.history['accuracy']\n",
    "    val_acc = history.history['val_accuracy']\n",
    "    loss = history.history['loss']\n",
    "    val_loss = history.history['val_loss']\n",
    "\n",
    "    plt.figure(figsize=(15, 15))\n",
    "    plt.subplot(2, 2, 1)\n",
    "    plt.plot(range(curr_epoch), acc, label='Training Accuracy')\n",
    "    plt.plot(range(curr_epoch), val_acc, label='Validation Accuracy')\n",
    "    plt.legend(loc='lower right')\n",
    "    plt.title('Training and Validation Accuracy')\n",
    "    plt.savefig(f\"{PATH_TO_DIR_CONTAINING_PLOTS}/accuracy/training_validation_accuracy{MODEL_NUMBER}.png\")\n",
    "    plt.clf()\n",
    "\n",
    "    plt.subplot(2, 2, 2)\n",
    "    plt.plot(range(curr_epoch), loss, label='Training Loss')\n",
    "    plt.plot(range(curr_epoch), val_loss, label='Validation Loss')\n",
    "    plt.legend(loc='upper right')\n",
    "    plt.title('Training and Validation Loss')\n",
    "    plt.savefig(f\"{PATH_TO_DIR_CONTAINING_PLOTS}/loss/training_validation_loss{MODEL_NUMBER}.png\")\n",
    "\n",
    "\n",
    "    #####################################################################\n",
    "    ###              Best Model Prediction on Test Data               ###\n",
    "    ### Note: write best model's prediction in new 'results.csv' file ###\n",
    "    #####################################################################\n",
    "    del(model)\n",
    "    model = load_model('models/test')\n",
    "    prediction = model.predict(X_test) # for each datapoint, gives a (1,7) vector contains probabilities\n",
    "\n",
    "    Y_prediction = np.argmax(prediction,axis = 1) # get the index(label) of highest probability for each \n",
    "    prediction_accuracy = np.mean(Y_prediction==Y_test)\n",
    "    print(f\"The accuracy on test data is: {prediction_accuracy*100:0.3f}%\")\n",
    "\n",
    "    with open(PATH_TO_FILE_CONTAINING_RESULTS + FILENAME, 'a') as f:\n",
    "      f.write(str(MODEL_NUMBER) + ',' +\n",
    "              str(curr_pooling) + ',' +\n",
    "              str(curr_bias_init) + ',' +\n",
    "              str(curr_bias_regularizer) + ',' +\n",
    "              str(curr_optimizer) + ',' +\n",
    "              str(curr_activation_function) + ',' +\n",
    "              str(curr_loss_function) + ',' +\n",
    "              str(curr_dropout_rate) + ',' +\n",
    "              str(curr_lr) + ',' +\n",
    "              str(curr_batch_size) + ',' +\n",
    "              str(curr_epoch) + ',' +\n",
    "              \"{:.4f}\".format(max(acc)) + ',' +\n",
    "              \"{:.4f}\".format(max(val_acc)) + ',' +\n",
    "              \"{:.4f}\".format(prediction_accuracy) + '\\n')\n",
    "\n",
    "\n",
    "    print('\\n\\n')\n",
    "    MODEL_NUMBER += 1\n",
    "# FOR LOOP ENDS HERE"
   ]
  },
  {
   "cell_type": "code",
   "execution_count": null,
   "metadata": {},
   "outputs": [],
   "source": []
  }
 ],
 "metadata": {
  "kernelspec": {
   "display_name": "cs-172b",
   "language": "python",
   "name": "python3"
  },
  "language_info": {
   "codemirror_mode": {
    "name": "ipython",
    "version": 3
   },
   "file_extension": ".py",
   "mimetype": "text/x-python",
   "name": "python",
   "nbconvert_exporter": "python",
   "pygments_lexer": "ipython3",
   "version": "3.10.11"
  },
  "orig_nbformat": 4
 },
 "nbformat": 4,
 "nbformat_minor": 2
}
